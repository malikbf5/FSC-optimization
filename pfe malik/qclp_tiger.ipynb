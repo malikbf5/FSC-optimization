{
 "cells": [
  {
   "cell_type": "code",
   "execution_count": 4,
   "metadata": {},
   "outputs": [
    {
     "name": "stdout",
     "output_type": "stream",
     "text": [
      "Optimal Policy:\n",
      "[[0.00000000e+00 1.00000000e+00]\n",
      " [1.38777878e-15 0.00000000e+00]]\n"
     ]
    }
   ],
   "source": [
    "import numpy as np\n",
    "from scipy.optimize import minimize\n",
    "\n",
    "# Define POMDP parameters\n",
    "num_states = 2\n",
    "num_actions = 2  # Excluding listening\n",
    "horizon = 5  # Planning horizon\n",
    "\n",
    "# Define transition probabilities\n",
    "transition_matrix = np.array([[0.5, 0.5],\n",
    "                              [0.5, 0.5]])\n",
    "\n",
    "# Define observation probabilities\n",
    "observation_matrix = np.array([[0.85, 0.15],\n",
    "                               [0.15, 0.85]])\n",
    "\n",
    "# Define rewards\n",
    "rewards = np.array([[-1, 10],\n",
    "                    [-1, -10]])\n",
    "\n",
    "# Define QC-LP objective function\n",
    "def objective(x):\n",
    "    return -np.dot(x, rewards.flatten())\n",
    "\n",
    "# Define QC-LP constraints\n",
    "def constraints(x):\n",
    "    return np.sum(x) - 1\n",
    "\n",
    "# Initial guess for probabilities\n",
    "initial_probs = np.ones(num_states * num_actions) / (num_states * num_actions)\n",
    "\n",
    "# Solve the QC-LP using scipy's minimize function\n",
    "result = minimize(objective, initial_probs, constraints={'type': 'eq', 'fun': constraints}, bounds=[(0, 1)] * (num_states * num_actions))\n",
    "\n",
    "# Extract optimal policy from the solution\n",
    "optimal_policy = result.x.reshape(num_states, num_actions)\n",
    "\n",
    "print(\"Optimal Policy:\")\n",
    "print(optimal_policy)"
   ]
  }
 ],
 "metadata": {
  "kernelspec": {
   "display_name": "base",
   "language": "python",
   "name": "python3"
  },
  "language_info": {
   "codemirror_mode": {
    "name": "ipython",
    "version": 3
   },
   "file_extension": ".py",
   "mimetype": "text/x-python",
   "name": "python",
   "nbconvert_exporter": "python",
   "pygments_lexer": "ipython3",
   "version": "3.9.12"
  },
  "orig_nbformat": 4
 },
 "nbformat": 4,
 "nbformat_minor": 2
}
