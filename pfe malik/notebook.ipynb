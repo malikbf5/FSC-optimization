{
 "cells": [
  {
   "cell_type": "code",
   "execution_count": 96,
   "metadata": {},
   "outputs": [],
   "source": [
    "from itertools import product\n",
    "\n",
    "import cvxpy as cp\n",
    "import numpy as np\n",
    "import random"
   ]
  },
  {
   "cell_type": "code",
   "execution_count": 97,
   "metadata": {},
   "outputs": [],
   "source": [
    "#Define POMDP parameters\n",
    "\n",
    "num_states = 2 # Number of states\n",
    "num_actions = 3 # Number of actions\n",
    "num_observations = 2 # Number of observations\n",
    "\n",
    "s = list(range(num_states))  # Heads or Tails\n",
    "a = list(range(num_actions)) # Predict Heads, Predict Tails, Observe\n",
    "o = list(range(num_observations))  # Observed Heads, Observed Tails\n",
    "\n",
    "b0 = np.array([0.5, 0.5]) # Initial distribution over states\n",
    "gamma = 0.9 # Discount factor \n",
    "\n",
    "# P(s'|s,a)\n",
    "state_transition_model = np.ones((num_states, num_actions, num_states)) / num_states\n",
    "\n",
    "# R(s,a)\n",
    "reward_model = np.zeros((num_states, num_actions))\n",
    "reward_model[0, :-1] = [10, -1] \n",
    "reward_model[1, :-1] = [-1, 10]\n",
    "\n",
    "\n",
    "# O(o|s',a)\n",
    "observation_model = np.ones((num_states, num_actions, num_observations)) / num_observations"
   ]
  },
  {
   "cell_type": "code",
   "execution_count": 98,
   "metadata": {},
   "outputs": [],
   "source": [
    "def softmax(x: np.ndarray):\n",
    "    e = np.apply_along_axis(lambda t: np.exp(t), -1, x)\n",
    "    return x / e"
   ]
  },
  {
   "cell_type": "code",
   "execution_count": 99,
   "metadata": {},
   "outputs": [],
   "source": [
    "# Finite state controller\n",
    "\n",
    "np.random.seed(0)\n",
    "\n",
    "num_nodes = 3\n",
    "q = list(range(num_nodes)) # Nodes in the FSC\n",
    "node_transition_model = np.random.random((num_nodes, num_actions, num_nodes))\n",
    "sum_over_nodes = np.linalg.norm(node_transition_model, ord=1, axis=-1, keepdims=True) # P(q'|q,a)\n",
    "node_transition_model /= sum_over_nodes\n",
    "\n",
    "# P(a|q)\n",
    "action_selection_model = np.array([\n",
    "  [1/3, 1/3, 1/3],  \n",
    "  [0.8, 0.1, 0.1],\n",
    "  [0.1, 0.8, 0.1]\n",
    "])"
   ]
  },
  {
   "cell_type": "code",
   "execution_count": 100,
   "metadata": {},
   "outputs": [],
   "source": [
    "# Variables\n",
    "\n",
    "## x(q', a, q, o) = P(q', a | q, o)\n",
    "x = { \n",
    "    (qp_, a_, q_, o_): cp.Variable(name=f'x_{qp_}_{a_}_{q_}_{o_}', nonneg=True) \n",
    "    for qp_, a_, q_, o_ in product(q, a, q, o)\n",
    "}\n",
    "\n",
    "## y(q, s) = V(q , s)\n",
    "y = {(q_, s_): cp.Variable(name=f'y_{q_}_{s_}') for q_, s_ in product(q, s)}\n",
    "\n",
    "# Objective\n",
    "q0 = 0\n",
    "objective = cp.Maximize(cp.sum([b0[s_] * y[q0, s_] for s_ in s]))\n",
    "\n",
    "# Constraints\n",
    "## Probability constraints\n",
    "sum_over_action_and_qp = [\n",
    "    cp.sum([x[qp_, a_, q_, o_] for qp_, a_ in product(q, a)]) == 1\n",
    "    for q_, o_ in product(q, o)\n",
    "]\n",
    "sum_independence_on_o = [\n",
    "    cp.sum([x[qp_, a_, q_, o_] for qp_ in q]) == cp.sum([x[qp_, a_, q_, 0] for qp_ in q])\n",
    "    for q_, o_, a_ in product(q, o, a)\n",
    "]\n",
    "\n",
    "## Bellman equation constraints\n",
    "bellman_equation = [\n",
    "    y[q_, s_] == cp.sum(\n",
    "        [ \n",
    "            ### The 0 in this line should be o_, but the constraint means we can keep it as 0\n",
    "            cp.sum([x[qp_, a_, q_, 0]  for qp_ in q]) * \\\n",
    "            reward_model[s_, a_] + \\\n",
    "            gamma * cp.sum([\n",
    "                state_transition_model[s_, a_, sp_] *  \\\n",
    "                cp.sum([\n",
    "                    observation_model[sp_, a_, o_] * \\\n",
    "                        cp.sum([x[qp_, a_, q_, o_] * y[qp_, sp_] for qp_ in q])            \n",
    "                    for o_ in o\n",
    "                ])\n",
    "                for sp_ in s\n",
    "            ]) \n",
    "            for a_ in a\n",
    "        ]\n",
    "    )\n",
    "    for q_, s_ in product(q, s)\n",
    "]\n"
   ]
  },
  {
   "cell_type": "code",
   "execution_count": 101,
   "metadata": {},
   "outputs": [],
   "source": [
    "# Define the objective function\n",
    "def objective(x,y):\n",
    "    return sum([b0[s_] * y[q0, s_] for s_ in s])\n",
    "\n",
    "\n",
    "def constraint(x):\n",
    "    return x[0]**2 + 4*x[1]**2 - 4"
   ]
  },
  {
   "cell_type": "code",
   "execution_count": 102,
   "metadata": {},
   "outputs": [],
   "source": [
    "# problem = cp.Problem(objective, bellman_equation + sum_over_action_and_qp + sum_independence_on_o)\n",
    "# problem.solve(solver=cp.MOSEK)\n",
    "# x_star = x.value \n",
    "# y_star = y.value\n",
    "# objective_star = problem.value"
   ]
  },
  {
   "cell_type": "code",
   "execution_count": 106,
   "metadata": {},
   "outputs": [
    {
     "ename": "KeyError",
     "evalue": "(0, 'tim', 0, 0)",
     "output_type": "error",
     "traceback": [
      "\u001b[1;31m---------------------------------------------------------------------------\u001b[0m",
      "\u001b[1;31mKeyError\u001b[0m                                  Traceback (most recent call last)",
      "\u001b[1;32mc:\\Users\\acer\\Downloads\\pfe malik\\notebook.ipynb Cell 8\u001b[0m line \u001b[0;36m<cell line: 107>\u001b[1;34m()\u001b[0m\n\u001b[0;32m    <a href='vscode-notebook-cell:/c%3A/Users/acer/Downloads/pfe%20malik/notebook.ipynb#X30sZmlsZQ%3D%3D?line=106'>107</a>\u001b[0m \u001b[39mfor\u001b[39;00m _ \u001b[39min\u001b[39;00m \u001b[39mrange\u001b[39m(POPULATION_SIZE):\n\u001b[0;32m    <a href='vscode-notebook-cell:/c%3A/Users/acer/Downloads/pfe%20malik/notebook.ipynb#X30sZmlsZQ%3D%3D?line=107'>108</a>\u001b[0m \t\t\tgnome \u001b[39m=\u001b[39m Individual\u001b[39m.\u001b[39mcreate_gnome()\n\u001b[1;32m--> <a href='vscode-notebook-cell:/c%3A/Users/acer/Downloads/pfe%20malik/notebook.ipynb#X30sZmlsZQ%3D%3D?line=108'>109</a>\u001b[0m \t\t\tpopulation\u001b[39m.\u001b[39mappend(Individual(gnome))\n\u001b[0;32m    <a href='vscode-notebook-cell:/c%3A/Users/acer/Downloads/pfe%20malik/notebook.ipynb#X30sZmlsZQ%3D%3D?line=109'>110</a>\u001b[0m \u001b[39mfor\u001b[39;00m i \u001b[39min\u001b[39;00m \u001b[39mrange\u001b[39m(nbr_gen):\n\u001b[0;32m    <a href='vscode-notebook-cell:/c%3A/Users/acer/Downloads/pfe%20malik/notebook.ipynb#X30sZmlsZQ%3D%3D?line=110'>111</a>\u001b[0m \n\u001b[0;32m    <a href='vscode-notebook-cell:/c%3A/Users/acer/Downloads/pfe%20malik/notebook.ipynb#X30sZmlsZQ%3D%3D?line=111'>112</a>\u001b[0m \t\u001b[39m# sort the population in increasing order of fitness score\u001b[39;00m\n\u001b[0;32m    <a href='vscode-notebook-cell:/c%3A/Users/acer/Downloads/pfe%20malik/notebook.ipynb#X30sZmlsZQ%3D%3D?line=112'>113</a>\u001b[0m \tpopulation \u001b[39m=\u001b[39m \u001b[39msorted\u001b[39m(population, key \u001b[39m=\u001b[39m \u001b[39mlambda\u001b[39;00m ind:ind\u001b[39m.\u001b[39mchromosome)\n",
      "\u001b[1;32mc:\\Users\\acer\\Downloads\\pfe malik\\notebook.ipynb Cell 8\u001b[0m line \u001b[0;36mIndividual.__init__\u001b[1;34m(self, chromosome)\u001b[0m\n\u001b[0;32m     <a href='vscode-notebook-cell:/c%3A/Users/acer/Downloads/pfe%20malik/notebook.ipynb#X30sZmlsZQ%3D%3D?line=15'>16</a>\u001b[0m \u001b[39mdef\u001b[39;00m \u001b[39m__init__\u001b[39m(\u001b[39mself\u001b[39m, chromosome):\n\u001b[0;32m     <a href='vscode-notebook-cell:/c%3A/Users/acer/Downloads/pfe%20malik/notebook.ipynb#X30sZmlsZQ%3D%3D?line=16'>17</a>\u001b[0m \t\u001b[39mself\u001b[39m\u001b[39m.\u001b[39mchromosome \u001b[39m=\u001b[39m chromosome\n\u001b[1;32m---> <a href='vscode-notebook-cell:/c%3A/Users/acer/Downloads/pfe%20malik/notebook.ipynb#X30sZmlsZQ%3D%3D?line=17'>18</a>\u001b[0m \t\u001b[39mself\u001b[39m\u001b[39m.\u001b[39mfitness \u001b[39m=\u001b[39m \u001b[39mself\u001b[39;49m\u001b[39m.\u001b[39;49mcal_fitness()\n",
      "\u001b[1;32mc:\\Users\\acer\\Downloads\\pfe malik\\notebook.ipynb Cell 8\u001b[0m line \u001b[0;36mIndividual.cal_fitness\u001b[1;34m(self)\u001b[0m\n\u001b[0;32m     <a href='vscode-notebook-cell:/c%3A/Users/acer/Downloads/pfe%20malik/notebook.ipynb#X30sZmlsZQ%3D%3D?line=77'>78</a>\u001b[0m \u001b[39m# add penalty for sum_independence_on_o constraint\u001b[39;00m\n\u001b[0;32m     <a href='vscode-notebook-cell:/c%3A/Users/acer/Downloads/pfe%20malik/notebook.ipynb#X30sZmlsZQ%3D%3D?line=78'>79</a>\u001b[0m \u001b[39mfor\u001b[39;00m q_, o_, a_ \u001b[39min\u001b[39;00m product(q, o, a):\n\u001b[1;32m---> <a href='vscode-notebook-cell:/c%3A/Users/acer/Downloads/pfe%20malik/notebook.ipynb#X30sZmlsZQ%3D%3D?line=79'>80</a>\u001b[0m \tfitness \u001b[39m+\u001b[39m\u001b[39m=\u001b[39m (\u001b[39msum\u001b[39m([\u001b[39mself\u001b[39m\u001b[39m.\u001b[39mchromosome[\u001b[39m0\u001b[39m][qp_, a_, q_, o_] \u001b[39mfor\u001b[39;00m qp_ \u001b[39min\u001b[39;00m q]) \u001b[39m-\u001b[39m \u001b[39msum\u001b[39m([x[qp_, a_, q_, \u001b[39m0\u001b[39m] \u001b[39mfor\u001b[39;00m qp_ \u001b[39min\u001b[39;00m q])) \u001b[39m*\u001b[39m\u001b[39m*\u001b[39m\u001b[39m2\u001b[39m\n\u001b[0;32m     <a href='vscode-notebook-cell:/c%3A/Users/acer/Downloads/pfe%20malik/notebook.ipynb#X30sZmlsZQ%3D%3D?line=80'>81</a>\u001b[0m \u001b[39m# add penalty for bellman equation constraint\u001b[39;00m\n\u001b[0;32m     <a href='vscode-notebook-cell:/c%3A/Users/acer/Downloads/pfe%20malik/notebook.ipynb#X30sZmlsZQ%3D%3D?line=81'>82</a>\u001b[0m \u001b[39mfor\u001b[39;00m q_, s_ \u001b[39min\u001b[39;00m product(q, s):\n",
      "\u001b[1;32mc:\\Users\\acer\\Downloads\\pfe malik\\notebook.ipynb Cell 8\u001b[0m line \u001b[0;36m<listcomp>\u001b[1;34m(.0)\u001b[0m\n\u001b[0;32m     <a href='vscode-notebook-cell:/c%3A/Users/acer/Downloads/pfe%20malik/notebook.ipynb#X30sZmlsZQ%3D%3D?line=77'>78</a>\u001b[0m \u001b[39m# add penalty for sum_independence_on_o constraint\u001b[39;00m\n\u001b[0;32m     <a href='vscode-notebook-cell:/c%3A/Users/acer/Downloads/pfe%20malik/notebook.ipynb#X30sZmlsZQ%3D%3D?line=78'>79</a>\u001b[0m \u001b[39mfor\u001b[39;00m q_, o_, a_ \u001b[39min\u001b[39;00m product(q, o, a):\n\u001b[1;32m---> <a href='vscode-notebook-cell:/c%3A/Users/acer/Downloads/pfe%20malik/notebook.ipynb#X30sZmlsZQ%3D%3D?line=79'>80</a>\u001b[0m \tfitness \u001b[39m+\u001b[39m\u001b[39m=\u001b[39m (\u001b[39msum\u001b[39m([\u001b[39mself\u001b[39m\u001b[39m.\u001b[39mchromosome[\u001b[39m0\u001b[39m][qp_, a_, q_, o_] \u001b[39mfor\u001b[39;00m qp_ \u001b[39min\u001b[39;00m q]) \u001b[39m-\u001b[39m \u001b[39msum\u001b[39m([x[qp_, a_, q_, \u001b[39m0\u001b[39;49m] \u001b[39mfor\u001b[39;00m qp_ \u001b[39min\u001b[39;00m q])) \u001b[39m*\u001b[39m\u001b[39m*\u001b[39m\u001b[39m2\u001b[39m\n\u001b[0;32m     <a href='vscode-notebook-cell:/c%3A/Users/acer/Downloads/pfe%20malik/notebook.ipynb#X30sZmlsZQ%3D%3D?line=80'>81</a>\u001b[0m \u001b[39m# add penalty for bellman equation constraint\u001b[39;00m\n\u001b[0;32m     <a href='vscode-notebook-cell:/c%3A/Users/acer/Downloads/pfe%20malik/notebook.ipynb#X30sZmlsZQ%3D%3D?line=81'>82</a>\u001b[0m \u001b[39mfor\u001b[39;00m q_, s_ \u001b[39min\u001b[39;00m product(q, s):\n",
      "\u001b[1;31mKeyError\u001b[0m: (0, 'tim', 0, 0)"
     ]
    }
   ],
   "source": [
    "# Python3 program to create target string, starting from\n",
    "# random string using Genetic Algorithm\n",
    "\n",
    "import random\n",
    "\n",
    "# Number of individuals in each generation\n",
    "POPULATION_SIZE = 100\n",
    "\n",
    "\n",
    "\n",
    "\n",
    "class Individual(object):\n",
    "\t'''\n",
    "\tClass representing individual in population\n",
    "\t'''\n",
    "\tdef __init__(self, chromosome):\n",
    "\t\tself.chromosome = chromosome\n",
    "\t\tself.fitness = self.cal_fitness()\n",
    "\n",
    "\t@classmethod\n",
    "\tdef mutated_genes(self,varname):\n",
    "\t\t'''\n",
    "\t\tcreate random genes for mutation\n",
    "\t\t'''\n",
    "\t\tif varname == 'x':\n",
    "\t\t\t## x(q', a, q, o) = P(q', a | q, o)\n",
    "\t\t\treturn { (qp_, a_, q_, o_): random.random() for qp_, a_, q_, o_ in product(q, a, q, o) }\n",
    "\t\telse:\n",
    "\t\t\treturn {(q_, s_):  random.uniform(-1000,1000) for q_, s_ in product(q, s)}\n",
    "\n",
    "\t@classmethod\n",
    "\tdef create_gnome(self):\n",
    "\t\t'''\n",
    "\t\tcreate chromosome\n",
    "\t\t'''\n",
    "\t\treturn [self.mutated_genes(varname) for varname in [\"x\",\"y\"]]\n",
    "\n",
    "\tdef mate(self, par2):\n",
    "\t\t'''\n",
    "\t\tPerform mating and produce new offspring\n",
    "\t\t'''\n",
    "\n",
    "\t\t# chromosome for offspring\n",
    "\t\tchild_chromosome = []\n",
    "\t\tfor gp1, gp2 in zip(self.chromosome, par2.chromosome):\t\n",
    "\n",
    "\t\t\t# random probability\n",
    "\t\t\tprob = random.random()\n",
    "\n",
    "\t\t\t# if prob is less than 0.45, insert gene\n",
    "\t\t\t# from parent 1\n",
    "\t\t\tif prob < 0.45:\n",
    "\t\t\t\tchild_chromosome.append(gp1)\n",
    "\n",
    "\t\t\t# if prob is between 0.45 and 0.90, insert\n",
    "\t\t\t# gene from parent 2\n",
    "\t\t\telif prob < 0.90:\n",
    "\t\t\t\tchild_chromosome.append(gp2)\n",
    "\n",
    "\t\t\t# otherwise insert random gene(mutate),\n",
    "\t\t\t# for maintaining diversity\n",
    "\t\t\telse:\n",
    "\t\t\t\tif self.chromosome.index(gp1) == 0:\n",
    "\t\t\t\t\tchild_chromosome.append(self.mutated_genes(\"x\"))\n",
    "\t\t\t\telse: child_chromosome.append(self.mutated_genes(\"y\"))\n",
    "\n",
    "\t\t# create new Individual(offspring) using\n",
    "\t\t# generated chromosome for offspring\n",
    "\t\treturn Individual(child_chromosome)\n",
    "\n",
    "\tdef cal_fitness(self):\n",
    "\t\n",
    "\t\tfitness = -(sum([b0[s_] * self.chromosome[1][q0, s_] for s_ in s]))\n",
    "\t\t# add penalty\n",
    "\t\t# add penalty for sum_over_action_and_qp constraint\n",
    "\t\tfor q_, o_ in product(q, o):\n",
    "\t\t\tfitness += sum([self.chromosome[0][qp_, a_, q_, o_] -1 for qp_, a_ in product(q, a)])**2\n",
    "\t\t# add penalty for sum_independence_on_o constraint\n",
    "\t\tfor q_, o_, a_ in product(q, o, a):\n",
    "\t\t\tfitness += (sum([self.chromosome[0][qp_, a_, q_, o_] for qp_ in q]) - sum([x[qp_, a_, q_, 0] for qp_ in q])) **2\n",
    "\t\t# add penalty for bellman equation constraint\n",
    "\t\tfor q_, s_ in product(q, s):\n",
    "\t\t\tfitness += self.chromosome[1][q_, s_] - ( sum(\n",
    "\t\t\t[ \n",
    "\t\t\t\t### The 0 in this line should be o_, but the constraint means we can keep it as 0\n",
    "\t\t\t\tsum([self.chromosome[0][qp_, a_, q_, 0]  for qp_ in q]) * \\\n",
    "\t\t\t\treward_model[s_, a_] + \\\n",
    "\t\t\t\tgamma * sum([\n",
    "\t\t\t\t\tstate_transition_model[s_, a_, sp_] *  \\\n",
    "\t\t\t\t\tsum([\n",
    "\t\t\t\t\t\tobservation_model[sp_, a_, o_] * \\\n",
    "\t\t\t\t\t\t\tsum([self.chromosome[0][qp_, a_, q_, o_] * self.chromosome[1][qp_, sp_] for qp_ in q])            \n",
    "\t\t\t\t\t\tfor o_ in o\n",
    "\t\t\t\t\t])\n",
    "\t\t\t\t\tfor sp_ in s\n",
    "\t\t\t\t]) \n",
    "\t\t\t\tfor a_ in a\n",
    "\t\t\t]\n",
    "\t\t) )\n",
    "\t\treturn fitness\n",
    "\n",
    "\n",
    "nbr_gen = 300\n",
    "population = []\n",
    "\n",
    "# create initial population\n",
    "for _ in range(POPULATION_SIZE):\n",
    "\t\t\tgnome = Individual.create_gnome()\n",
    "\t\t\tpopulation.append(Individual(gnome))\n",
    "for i in range(nbr_gen):\n",
    "\n",
    "\t# sort the population in increasing order of fitness score\n",
    "\tpopulation = sorted(population, key = lambda ind:ind.chromosome)\n",
    "\n",
    "\t# generate new offsprings for new generation\n",
    "\tnew_generation = []\n",
    "\n",
    "\t# Perform Elitism, that mean 10% of fittest population\n",
    "\t# goes to the next generation\n",
    "\ts = int((10*POPULATION_SIZE)/100)\n",
    "\tnew_generation.extend(population[:s])\n",
    "\n",
    "\t# From 50% of fittest population, Individuals\n",
    "\t# will mate to produce offspring\n",
    "\ts = int((90*POPULATION_SIZE)/100)\n",
    "\tfor _ in range(s):\n",
    "\t\tparent1 = random.choice(population[:50])\n",
    "\t\tparent2 = random.choice(population[:50])\n",
    "\t\tchild = parent1.mate(parent2)\n",
    "\t\tnew_generation.append(child)\n",
    "\n",
    "\tpopulation = new_generation\n",
    "\n",
    "\tprint(i+1, ' fitness ', population[0].fitness, '\\n')\n",
    "\n",
    "\n",
    "\n",
    "print(i+1,  ' fitness ', population[0].fitness , '\\n')\n"
   ]
  },
  {
   "cell_type": "code",
   "execution_count": 105,
   "metadata": {},
   "outputs": [
    {
     "data": {
      "text/plain": [
       "['anna', 'aaeve', 'bob', 'john', 'tim']"
      ]
     },
     "execution_count": 105,
     "metadata": {},
     "output_type": "execute_result"
    }
   ],
   "source": [
    "a = [\"tim\", \"bob\", \"anna\", \"aaeve\", \"john\"]\n",
    "\n",
    "# sorts the list by the first letter of each name\n",
    "b = sorted(a, key=lambda k : k[0])\n",
    "\n",
    "# x = each of the values in the list a\n",
    "\n",
    "# sorts the list by length FIRST, then alphabetical order SECOND\n",
    "c = sorted(a, key=lambda x : (len(x), x))\n",
    "b"
   ]
  },
  {
   "cell_type": "code",
   "execution_count": null,
   "metadata": {},
   "outputs": [
    {
     "name": "stdout",
     "output_type": "stream",
     "text": [
      "8\n"
     ]
    }
   ],
   "source": [
    "list1 = [5,3]\n",
    "list2 = [1,2]\n",
    "print(sum(thing for thing in list1))"
   ]
  },
  {
   "cell_type": "code",
   "execution_count": null,
   "metadata": {},
   "outputs": [
    {
     "data": {
      "text/plain": [
       "90"
      ]
     },
     "execution_count": 78,
     "metadata": {},
     "output_type": "execute_result"
    }
   ],
   "source": [
    "s"
   ]
  },
  {
   "cell_type": "code",
   "execution_count": null,
   "metadata": {},
   "outputs": [],
   "source": []
  }
 ],
 "metadata": {
  "kernelspec": {
   "display_name": "base",
   "language": "python",
   "name": "python3"
  },
  "language_info": {
   "codemirror_mode": {
    "name": "ipython",
    "version": 3
   },
   "file_extension": ".py",
   "mimetype": "text/x-python",
   "name": "python",
   "nbconvert_exporter": "python",
   "pygments_lexer": "ipython3",
   "version": "3.9.12"
  },
  "orig_nbformat": 4
 },
 "nbformat": 4,
 "nbformat_minor": 2
}
