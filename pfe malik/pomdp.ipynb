{
 "cells": [
  {
   "cell_type": "code",
   "execution_count": null,
   "metadata": {},
   "outputs": [],
   "source": [
    "import numpy as np\n",
    "\n",
    "#Define POMDP parameters\n",
    "s = ['Heads','Tails']  # Heads or Tails\n",
    "a = ['Predict Heads', 'Predict Tails', 'Observe'] # Predict Heads, Predict Tails, Observe\n",
    "o = ['Observed Heads', 'Observed Tails']  # Observed Heads, Observed Tails\n",
    "\n",
    "b_0 = [0.5,0.5] # initial state distribution\n",
    "\n",
    "gamma = 0.9\n",
    "# P(s'/s,a)\n",
    "state_transition_model = {\n",
    "    # probability of transition given the state Heads and actions\n",
    "    (s[0],a[0]): [0.5,0.5],\n",
    "    (s[0],a[1]): [0.5,0.5],\n",
    "    (s[0],a[2]): [0.5,0.5],\n",
    "    # probability of transition given the state Tails and actions\n",
    "    (s[1],a[0]): [0.5,0.5],\n",
    "    (s[1],a[1]): [0.5,0.5],\n",
    "    (s[1],a[2]): [0.5,0.5]\n",
    "}\n",
    "\n",
    "# Define reward model R(s,a)\n",
    "rewards = np.array([[10, -1, 0],  # Given Heads: Predicted Heads, Predicted Tails, Observe\n",
    "                    [-1, 10, 0]])  # Given Tails: Predicted Heads, Predicted Tails, Observe\n",
    "# O(o/s',a)\n",
    "observation_model = {\n",
    "     # probability of observation given the action Predict Heads and resulting state \n",
    "    (a[0], s[0]): [0.9,0.1], # [ O(o1/a[0], s[0]), O(o2/a[0], s[0]) ]\n",
    "    (a[0], s[1]): [0.1,0.9],\n",
    "     # probability of observation given the action Predict Tails and resulting state \n",
    "    (a[1], s[0]): [0.1,0.9],\n",
    "    (a[1], s[1]): [0.9,0.1],\n",
    "     # probability of observation given the action Observe and resulting state \n",
    "    (a[2], s[0]): [0.7,0.3],\n",
    "    (a[2], s[1]): [0.3,0.7]\n",
    "} "
   ]
  },
  {
   "cell_type": "code",
   "execution_count": 6,
   "metadata": {},
   "outputs": [],
   "source": [
    "# Define finite-state controller \n",
    "q = ['Start', 'PredictHeads', 'PredictTails']\n",
    "action_selection_model = {\n",
    "    q[0]: [1/3, 1/3, 1/3],  # Uniform distribution over actions\n",
    "    q[1]: [0.8, 0.1, 0.1],  # Prefer Predict Heads, but can choose any action\n",
    "    q[2]: [0.1, 0.8, 0.1]  # Prefer Predict Tails, but can choose any action\n",
    "}\n",
    "node_transition_model = {\n",
    "    # From 'Start' ²node\n",
    "    (q[0], a[0], o[0]): [0.1, 0.8, 0.1],  \n",
    "    (q[0], a[0], o[1]): [0.1, 0.1, 0.8],  \n",
    "    (q[0], a[1], o[0]): [0.1, 0.8, 0.1],  \n",
    "    (q[0], a[1], o[1]): [0.1, 0.1, 0.8],  \n",
    "    (q[0], a[2], o[0]): [0.1, 0.8, 0.1],  \n",
    "    (q[0], a[2], o[1]): [0.1, 0.1, 0.8],    \n",
    "    # From 'PredictHeads' node\n",
    "    (q[1], a[0], o[0]): [0.1, 0.8, 0.1],  \n",
    "    (q[1], a[0], o[1]): [0.1, 0.1, 0.8],  \n",
    "    (q[1], a[1], o[0]): [0.1, 0.8, 0.1],  \n",
    "    (q[1], a[1], o[1]): [0.1, 0.1, 0.8],  \n",
    "    (q[1], a[2], o[0]): [0.1, 0.8, 0.1],  \n",
    "    (q[1], a[2], o[1]): [0.1, 0.1, 0.8],   \n",
    "    \n",
    "    # From 'PredictTails' node\n",
    "    (q[2], a[0], o[0]): [0.1, 0.8, 0.1],  \n",
    "    (q[2], a[0], o[1]): [0.1, 0.1, 0.8],  \n",
    "    (q[2], a[1], o[0]): [0.1, 0.8, 0.1],  \n",
    "    (q[2], a[1], o[1]): [0.1, 0.1, 0.8],  \n",
    "    (q[2], a[2], o[0]): [0.1, 0.8, 0.1],  \n",
    "    (q[2], a[2], o[1]): [0.1, 0.1, 0.8]\n",
    "}"
   ]
  },
  {
   "cell_type": "code",
   "execution_count": 7,
   "metadata": {},
   "outputs": [],
   "source": [
    "def calculate_value(qu, state):\n",
    "    max_value = float('-inf')\n",
    "    for action in a:\n",
    "        v = action_selection_model[qu][a.index(action)] * rewards[s.index(state)][a.index(action)]\n",
    "        print(v)\n",
    "        for sprime in s:\n",
    "            for obs in o:\n",
    "                for qprime in q:\n",
    "                    v += gamma * \\\n",
    "                    action_selection_model[qu][a.index(action)] * \\\n",
    "                    (state_transition_model[(state,action)][s.index(sprime)] * \\\n",
    "                    observation_model[(action,sprime)][o.index(obs)] * \\\n",
    "                    node_transition_model[(qu,action,obs)][q.index(qprime)] * \\\n",
    "                    calculate_value(qprime, sprime))\n",
    "                    print(v)\n",
    "            #max_value = max(max_value, value)\n",
    "    return max_value"
   ]
  },
  {
   "cell_type": "code",
   "execution_count": null,
   "metadata": {},
   "outputs": [],
   "source": []
  },
  {
   "cell_type": "code",
   "execution_count": 22,
   "metadata": {},
   "outputs": [],
   "source": [
    "def objective(q0=0):\n",
    "    b0 = [1/3,1/3,1/3]\n",
    "    obj = 0\n",
    "    for i in range(len(s)):\n",
    "        obj += b0[i] * value_function[i][0]\n",
    "    returny * obj\n",
    "    "
   ]
  },
  {
   "cell_type": "code",
   "execution_count": 39,
   "metadata": {},
   "outputs": [
    {
     "data": {
      "text/plain": [
       "0.5353279804694298"
      ]
     },
     "execution_count": 39,
     "metadata": {},
     "output_type": "execute_result"
    }
   ],
   "source": [
    "value_function = np.random.rand(len(s),len(q))\n",
    "value_function\n",
    "var = [[0.5,0.5],value_function]\n",
    "var[1][1][1]"
   ]
  },
  {
   "cell_type": "code",
   "execution_count": null,
   "metadata": {},
   "outputs": [],
   "source": []
  },
  {
   "cell_type": "code",
   "execution_count": 30,
   "metadata": {},
   "outputs": [
    {
     "ename": "TypeError",
     "evalue": "object of type 'int' has no len()",
     "output_type": "error",
     "traceback": [
      "\u001b[1;31m---------------------------------------------------------------------------\u001b[0m",
      "\u001b[1;31mTypeError\u001b[0m                                 Traceback (most recent call last)",
      "\u001b[1;32mc:\\Users\\acer\\Downloads\\Routimize-main\\pomdp.ipynb Cell 8\u001b[0m line \u001b[0;36m<cell line: 15>\u001b[1;34m()\u001b[0m\n\u001b[0;32m     <a href='vscode-notebook-cell:/c%3A/Users/acer/Downloads/Routimize-main/pomdp.ipynb#X15sZmlsZQ%3D%3D?line=11'>12</a>\u001b[0m initial_guess \u001b[39m=\u001b[39m [\u001b[39m0\u001b[39m, \u001b[39m0\u001b[39m]\n\u001b[0;32m     <a href='vscode-notebook-cell:/c%3A/Users/acer/Downloads/Routimize-main/pomdp.ipynb#X15sZmlsZQ%3D%3D?line=13'>14</a>\u001b[0m \u001b[39m# Solve the QCLP\u001b[39;00m\n\u001b[1;32m---> <a href='vscode-notebook-cell:/c%3A/Users/acer/Downloads/Routimize-main/pomdp.ipynb#X15sZmlsZQ%3D%3D?line=14'>15</a>\u001b[0m result \u001b[39m=\u001b[39m minimize(objective, initial_guess, constraints\u001b[39m=\u001b[39;49m{\u001b[39m'\u001b[39;49m\u001b[39mtype\u001b[39;49m\u001b[39m'\u001b[39;49m: \u001b[39m'\u001b[39;49m\u001b[39mineq\u001b[39;49m\u001b[39m'\u001b[39;49m, \u001b[39m'\u001b[39;49m\u001b[39mfun\u001b[39;49m\u001b[39m'\u001b[39;49m: constraint})\n\u001b[0;32m     <a href='vscode-notebook-cell:/c%3A/Users/acer/Downloads/Routimize-main/pomdp.ipynb#X15sZmlsZQ%3D%3D?line=16'>17</a>\u001b[0m \u001b[39m# Access the solution\u001b[39;00m\n\u001b[0;32m     <a href='vscode-notebook-cell:/c%3A/Users/acer/Downloads/Routimize-main/pomdp.ipynb#X15sZmlsZQ%3D%3D?line=17'>18</a>\u001b[0m optimal_solution \u001b[39m=\u001b[39m result\u001b[39m.\u001b[39mx\n",
      "File \u001b[1;32mc:\\Users\\acer\\anaconda3\\lib\\site-packages\\scipy\\optimize\\_minimize.py:631\u001b[0m, in \u001b[0;36mminimize\u001b[1;34m(fun, x0, args, method, jac, hess, hessp, bounds, constraints, tol, callback, options)\u001b[0m\n\u001b[0;32m    629\u001b[0m     \u001b[39mreturn\u001b[39;00m _minimize_cobyla(fun, x0, args, constraints, \u001b[39m*\u001b[39m\u001b[39m*\u001b[39moptions)\n\u001b[0;32m    630\u001b[0m \u001b[39melif\u001b[39;00m meth \u001b[39m==\u001b[39m \u001b[39m'\u001b[39m\u001b[39mslsqp\u001b[39m\u001b[39m'\u001b[39m:\n\u001b[1;32m--> 631\u001b[0m     \u001b[39mreturn\u001b[39;00m _minimize_slsqp(fun, x0, args, jac, bounds,\n\u001b[0;32m    632\u001b[0m                            constraints, callback\u001b[39m=\u001b[39mcallback, \u001b[39m*\u001b[39m\u001b[39m*\u001b[39moptions)\n\u001b[0;32m    633\u001b[0m \u001b[39melif\u001b[39;00m meth \u001b[39m==\u001b[39m \u001b[39m'\u001b[39m\u001b[39mtrust-constr\u001b[39m\u001b[39m'\u001b[39m:\n\u001b[0;32m    634\u001b[0m     \u001b[39mreturn\u001b[39;00m _minimize_trustregion_constr(fun, x0, args, jac, hess, hessp,\n\u001b[0;32m    635\u001b[0m                                         bounds, constraints,\n\u001b[0;32m    636\u001b[0m                                         callback\u001b[39m=\u001b[39mcallback, \u001b[39m*\u001b[39m\u001b[39m*\u001b[39moptions)\n",
      "File \u001b[1;32mc:\\Users\\acer\\anaconda3\\lib\\site-packages\\scipy\\optimize\\slsqp.py:375\u001b[0m, in \u001b[0;36m_minimize_slsqp\u001b[1;34m(func, x0, args, jac, bounds, constraints, maxiter, ftol, iprint, disp, eps, callback, finite_diff_rel_step, **unknown_options)\u001b[0m\n\u001b[0;32m    372\u001b[0m     xu[infbnd[:, \u001b[39m1\u001b[39m]] \u001b[39m=\u001b[39m np\u001b[39m.\u001b[39mnan\n\u001b[0;32m    374\u001b[0m \u001b[39m# ScalarFunction provides function and gradient evaluation\u001b[39;00m\n\u001b[1;32m--> 375\u001b[0m sf \u001b[39m=\u001b[39m _prepare_scalar_function(func, x, jac\u001b[39m=\u001b[39;49mjac, args\u001b[39m=\u001b[39;49margs, epsilon\u001b[39m=\u001b[39;49meps,\n\u001b[0;32m    376\u001b[0m                               finite_diff_rel_step\u001b[39m=\u001b[39;49mfinite_diff_rel_step,\n\u001b[0;32m    377\u001b[0m                               bounds\u001b[39m=\u001b[39;49mnew_bounds)\n\u001b[0;32m    378\u001b[0m \u001b[39m# gh11403 SLSQP sometimes exceeds bounds by 1 or 2 ULP, make sure this\u001b[39;00m\n\u001b[0;32m    379\u001b[0m \u001b[39m# doesn't get sent to the func/grad evaluator.\u001b[39;00m\n\u001b[0;32m    380\u001b[0m wrapped_fun \u001b[39m=\u001b[39m _clip_x_for_func(sf\u001b[39m.\u001b[39mfun, new_bounds)\n",
      "File \u001b[1;32mc:\\Users\\acer\\anaconda3\\lib\\site-packages\\scipy\\optimize\\optimize.py:261\u001b[0m, in \u001b[0;36m_prepare_scalar_function\u001b[1;34m(fun, x0, jac, args, bounds, epsilon, finite_diff_rel_step, hess)\u001b[0m\n\u001b[0;32m    257\u001b[0m     bounds \u001b[39m=\u001b[39m (\u001b[39m-\u001b[39mnp\u001b[39m.\u001b[39minf, np\u001b[39m.\u001b[39minf)\n\u001b[0;32m    259\u001b[0m \u001b[39m# ScalarFunction caches. Reuse of fun(x) during grad\u001b[39;00m\n\u001b[0;32m    260\u001b[0m \u001b[39m# calculation reduces overall function evaluations.\u001b[39;00m\n\u001b[1;32m--> 261\u001b[0m sf \u001b[39m=\u001b[39m ScalarFunction(fun, x0, args, grad, hess,\n\u001b[0;32m    262\u001b[0m                     finite_diff_rel_step, bounds, epsilon\u001b[39m=\u001b[39;49mepsilon)\n\u001b[0;32m    264\u001b[0m \u001b[39mreturn\u001b[39;00m sf\n",
      "File \u001b[1;32mc:\\Users\\acer\\anaconda3\\lib\\site-packages\\scipy\\optimize\\_differentiable_functions.py:140\u001b[0m, in \u001b[0;36mScalarFunction.__init__\u001b[1;34m(self, fun, x0, args, grad, hess, finite_diff_rel_step, finite_diff_bounds, epsilon)\u001b[0m\n\u001b[0;32m    137\u001b[0m     \u001b[39mself\u001b[39m\u001b[39m.\u001b[39mf \u001b[39m=\u001b[39m fun_wrapped(\u001b[39mself\u001b[39m\u001b[39m.\u001b[39mx)\n\u001b[0;32m    139\u001b[0m \u001b[39mself\u001b[39m\u001b[39m.\u001b[39m_update_fun_impl \u001b[39m=\u001b[39m update_fun\n\u001b[1;32m--> 140\u001b[0m \u001b[39mself\u001b[39;49m\u001b[39m.\u001b[39;49m_update_fun()\n\u001b[0;32m    142\u001b[0m \u001b[39m# Gradient evaluation\u001b[39;00m\n\u001b[0;32m    143\u001b[0m \u001b[39mif\u001b[39;00m callable(grad):\n",
      "File \u001b[1;32mc:\\Users\\acer\\anaconda3\\lib\\site-packages\\scipy\\optimize\\_differentiable_functions.py:233\u001b[0m, in \u001b[0;36mScalarFunction._update_fun\u001b[1;34m(self)\u001b[0m\n\u001b[0;32m    231\u001b[0m \u001b[39mdef\u001b[39;00m \u001b[39m_update_fun\u001b[39m(\u001b[39mself\u001b[39m):\n\u001b[0;32m    232\u001b[0m     \u001b[39mif\u001b[39;00m \u001b[39mnot\u001b[39;00m \u001b[39mself\u001b[39m\u001b[39m.\u001b[39mf_updated:\n\u001b[1;32m--> 233\u001b[0m         \u001b[39mself\u001b[39;49m\u001b[39m.\u001b[39;49m_update_fun_impl()\n\u001b[0;32m    234\u001b[0m         \u001b[39mself\u001b[39m\u001b[39m.\u001b[39mf_updated \u001b[39m=\u001b[39m \u001b[39mTrue\u001b[39;00m\n",
      "File \u001b[1;32mc:\\Users\\acer\\anaconda3\\lib\\site-packages\\scipy\\optimize\\_differentiable_functions.py:137\u001b[0m, in \u001b[0;36mScalarFunction.__init__.<locals>.update_fun\u001b[1;34m()\u001b[0m\n\u001b[0;32m    136\u001b[0m \u001b[39mdef\u001b[39;00m \u001b[39mupdate_fun\u001b[39m():\n\u001b[1;32m--> 137\u001b[0m     \u001b[39mself\u001b[39m\u001b[39m.\u001b[39mf \u001b[39m=\u001b[39m fun_wrapped(\u001b[39mself\u001b[39;49m\u001b[39m.\u001b[39;49mx)\n",
      "File \u001b[1;32mc:\\Users\\acer\\anaconda3\\lib\\site-packages\\scipy\\optimize\\_differentiable_functions.py:134\u001b[0m, in \u001b[0;36mScalarFunction.__init__.<locals>.fun_wrapped\u001b[1;34m(x)\u001b[0m\n\u001b[0;32m    130\u001b[0m \u001b[39mself\u001b[39m\u001b[39m.\u001b[39mnfev \u001b[39m+\u001b[39m\u001b[39m=\u001b[39m \u001b[39m1\u001b[39m\n\u001b[0;32m    131\u001b[0m \u001b[39m# Send a copy because the user may overwrite it.\u001b[39;00m\n\u001b[0;32m    132\u001b[0m \u001b[39m# Overwriting results in undefined behaviour because\u001b[39;00m\n\u001b[0;32m    133\u001b[0m \u001b[39m# fun(self.x) will change self.x, with the two no longer linked.\u001b[39;00m\n\u001b[1;32m--> 134\u001b[0m \u001b[39mreturn\u001b[39;00m fun(np\u001b[39m.\u001b[39;49mcopy(x), \u001b[39m*\u001b[39;49margs)\n",
      "\u001b[1;32mc:\\Users\\acer\\Downloads\\Routimize-main\\pomdp.ipynb Cell 8\u001b[0m line \u001b[0;36mobjective\u001b[1;34m(q0)\u001b[0m\n\u001b[0;32m      <a href='vscode-notebook-cell:/c%3A/Users/acer/Downloads/Routimize-main/pomdp.ipynb#X15sZmlsZQ%3D%3D?line=1'>2</a>\u001b[0m b0 \u001b[39m=\u001b[39m [\u001b[39m1\u001b[39m\u001b[39m/\u001b[39m\u001b[39m3\u001b[39m,\u001b[39m1\u001b[39m\u001b[39m/\u001b[39m\u001b[39m3\u001b[39m,\u001b[39m1\u001b[39m\u001b[39m/\u001b[39m\u001b[39m3\u001b[39m]\n\u001b[0;32m      <a href='vscode-notebook-cell:/c%3A/Users/acer/Downloads/Routimize-main/pomdp.ipynb#X15sZmlsZQ%3D%3D?line=2'>3</a>\u001b[0m obj \u001b[39m=\u001b[39m \u001b[39m0\u001b[39m\n\u001b[1;32m----> <a href='vscode-notebook-cell:/c%3A/Users/acer/Downloads/Routimize-main/pomdp.ipynb#X15sZmlsZQ%3D%3D?line=3'>4</a>\u001b[0m \u001b[39mfor\u001b[39;00m i \u001b[39min\u001b[39;00m \u001b[39mrange\u001b[39m(\u001b[39mlen\u001b[39;49m(s)):\n\u001b[0;32m      <a href='vscode-notebook-cell:/c%3A/Users/acer/Downloads/Routimize-main/pomdp.ipynb#X15sZmlsZQ%3D%3D?line=4'>5</a>\u001b[0m     obj \u001b[39m+\u001b[39m\u001b[39m=\u001b[39m b0[i] \u001b[39m*\u001b[39m value_function[i][\u001b[39m0\u001b[39m]\n\u001b[0;32m      <a href='vscode-notebook-cell:/c%3A/Users/acer/Downloads/Routimize-main/pomdp.ipynb#X15sZmlsZQ%3D%3D?line=5'>6</a>\u001b[0m \u001b[39mreturn\u001b[39;00m \u001b[39m-\u001b[39m\u001b[39m1\u001b[39m \u001b[39m*\u001b[39m obj\n",
      "\u001b[1;31mTypeError\u001b[0m: object of type 'int' has no len()"
     ]
    }
   ],
   "source": [
    "from scipy.optimize import minimize\n",
    "\n",
    "# Define the objective function\n",
    "q0 = 0\n",
    "def objective(variables):\n",
    "    b0 = [1/3,1/3,1/3]\n",
    "    obj = 0\n",
    "    for i in range(len(s)):\n",
    "        obj += b0[i] * variables[0][i][q0]\n",
    "    return -1 * obj\n",
    "# Define the constraint\n",
    "def constraint(x):\n",
    "    return x[0]**2 + x[1]**2 - 1\n",
    "\n",
    "# Initial guess\n",
    "initial_guess = [0, 0]\n",
    "\n",
    "# Solve the QCLP\n",
    "result = minimize(objective, initial_guess, constraints={'type': 'ineq', 'fun': constraint})\n",
    "\n",
    "# Access the solution\n",
    "optimal_solution = result.x\n",
    "optimal_value = result.fun\n",
    "\n",
    "# Print the results\n",
    "print(\"Optimal Solution:\", optimal_solution)\n",
    "print(\"Optimal Value:\", optimal_value)"
   ]
  },
  {
   "cell_type": "code",
   "execution_count": 26,
   "metadata": {},
   "outputs": [],
   "source": [
    "def check_value_const(state,qu):\n",
    "    value = value_function[s.index(state)][q.index(qu)]\n",
    "    for action in a:\n",
    "        v = action_selection_model[qu][a.index(action)] * rewards[s.index(state)][a.index(action)]\n",
    "        for sprime in s:\n",
    "            for obs in o:\n",
    "                for qprime in q:\n",
    "                    v += gamma * action_selection_model[qu][a.index(action)] * (state_transition_model[(state,action)][s.index(sprime)] * observation_model[(action,sprime)][o.index(obs)] * node_transition_model[(qu,action,obs)][q.index(qprime)] * value_function[s.index(sprime)][q.index(qprime)])\n",
    "    return np.equal(value,v)"
   ]
  },
  {
   "cell_type": "code",
   "execution_count": null,
   "metadata": {},
   "outputs": [],
   "source": [
    "    "
   ]
  },
  {
   "cell_type": "code",
   "execution_count": null,
   "metadata": {},
   "outputs": [],
   "source": []
  },
  {
   "cell_type": "code",
   "execution_count": 27,
   "metadata": {},
   "outputs": [
    {
     "ename": "IndexError",
     "evalue": "too many indices for array: array is 2-dimensional, but 3 were indexed",
     "output_type": "error",
     "traceback": [
      "\u001b[1;31m---------------------------------------------------------------------------\u001b[0m",
      "\u001b[1;31mIndexError\u001b[0m                                Traceback (most recent call last)",
      "\u001b[1;32mc:\\Users\\acer\\Downloads\\Routimize-main\\pomdp.ipynb Cell 12\u001b[0m line \u001b[0;36m<cell line: 53>\u001b[1;34m()\u001b[0m\n\u001b[0;32m     <a href='vscode-notebook-cell:/c%3A/Users/acer/Downloads/Routimize-main/pomdp.ipynb#X13sZmlsZQ%3D%3D?line=52'>53</a>\u001b[0m \u001b[39mfor\u001b[39;00m q \u001b[39min\u001b[39;00m \u001b[39mrange\u001b[39m(num_nodes):\n\u001b[0;32m     <a href='vscode-notebook-cell:/c%3A/Users/acer/Downloads/Routimize-main/pomdp.ipynb#X13sZmlsZQ%3D%3D?line=53'>54</a>\u001b[0m     \u001b[39mfor\u001b[39;00m s \u001b[39min\u001b[39;00m \u001b[39mrange\u001b[39m(num_states):\n\u001b[1;32m---> <a href='vscode-notebook-cell:/c%3A/Users/acer/Downloads/Routimize-main/pomdp.ipynb#X13sZmlsZQ%3D%3D?line=54'>55</a>\u001b[0m         values[q, s] \u001b[39m=\u001b[39m calculate_value(q, s)\n\u001b[0;32m     <a href='vscode-notebook-cell:/c%3A/Users/acer/Downloads/Routimize-main/pomdp.ipynb#X13sZmlsZQ%3D%3D?line=56'>57</a>\u001b[0m \u001b[39mprint\u001b[39m(\u001b[39m\"\u001b[39m\u001b[39mValue Function:\u001b[39m\u001b[39m\"\u001b[39m)\n\u001b[0;32m     <a href='vscode-notebook-cell:/c%3A/Users/acer/Downloads/Routimize-main/pomdp.ipynb#X13sZmlsZQ%3D%3D?line=57'>58</a>\u001b[0m \u001b[39mprint\u001b[39m(values)\n",
      "\u001b[1;32mc:\\Users\\acer\\Downloads\\Routimize-main\\pomdp.ipynb Cell 12\u001b[0m line \u001b[0;36mcalculate_value\u001b[1;34m(q, s)\u001b[0m\n\u001b[0;32m     <a href='vscode-notebook-cell:/c%3A/Users/acer/Downloads/Routimize-main/pomdp.ipynb#X13sZmlsZQ%3D%3D?line=43'>44</a>\u001b[0m \u001b[39mfor\u001b[39;00m a \u001b[39min\u001b[39;00m \u001b[39mrange\u001b[39m(\u001b[39mlen\u001b[39m(P_a_given_q)):\n\u001b[0;32m     <a href='vscode-notebook-cell:/c%3A/Users/acer/Downloads/Routimize-main/pomdp.ipynb#X13sZmlsZQ%3D%3D?line=44'>45</a>\u001b[0m     \u001b[39mfor\u001b[39;00m o \u001b[39min\u001b[39;00m \u001b[39mrange\u001b[39m(\u001b[39mlen\u001b[39m(P_o_given_s_and_a[a])):\n\u001b[1;32m---> <a href='vscode-notebook-cell:/c%3A/Users/acer/Downloads/Routimize-main/pomdp.ipynb#X13sZmlsZQ%3D%3D?line=45'>46</a>\u001b[0m         value \u001b[39m=\u001b[39m \u001b[39msum\u001b[39;49m(P_a_given_q[q, a] \u001b[39m*\u001b[39;49m P_o_given_s_and_a[a, s, o] \u001b[39m*\u001b[39;49m P_q_prime_given_q_a_o[q, a, o, q_prime] \u001b[39m*\u001b[39;49m (R[s, a, q, q_prime] \u001b[39m+\u001b[39;49m gamma \u001b[39m*\u001b[39;49m calculate_value(q_prime, s))\n\u001b[0;32m     <a href='vscode-notebook-cell:/c%3A/Users/acer/Downloads/Routimize-main/pomdp.ipynb#X13sZmlsZQ%3D%3D?line=46'>47</a>\u001b[0m                     \u001b[39mfor\u001b[39;49;00m q_prime \u001b[39min\u001b[39;49;00m \u001b[39mrange\u001b[39;49m(num_nodes))\n\u001b[0;32m     <a href='vscode-notebook-cell:/c%3A/Users/acer/Downloads/Routimize-main/pomdp.ipynb#X13sZmlsZQ%3D%3D?line=47'>48</a>\u001b[0m         max_value \u001b[39m=\u001b[39m \u001b[39mmax\u001b[39m(max_value, value)\n\u001b[0;32m     <a href='vscode-notebook-cell:/c%3A/Users/acer/Downloads/Routimize-main/pomdp.ipynb#X13sZmlsZQ%3D%3D?line=48'>49</a>\u001b[0m \u001b[39mreturn\u001b[39;00m max_value\n",
      "\u001b[1;32mc:\\Users\\acer\\Downloads\\Routimize-main\\pomdp.ipynb Cell 12\u001b[0m line \u001b[0;36m<genexpr>\u001b[1;34m(.0)\u001b[0m\n\u001b[0;32m     <a href='vscode-notebook-cell:/c%3A/Users/acer/Downloads/Routimize-main/pomdp.ipynb#X13sZmlsZQ%3D%3D?line=43'>44</a>\u001b[0m \u001b[39mfor\u001b[39;00m a \u001b[39min\u001b[39;00m \u001b[39mrange\u001b[39m(\u001b[39mlen\u001b[39m(P_a_given_q)):\n\u001b[0;32m     <a href='vscode-notebook-cell:/c%3A/Users/acer/Downloads/Routimize-main/pomdp.ipynb#X13sZmlsZQ%3D%3D?line=44'>45</a>\u001b[0m     \u001b[39mfor\u001b[39;00m o \u001b[39min\u001b[39;00m \u001b[39mrange\u001b[39m(\u001b[39mlen\u001b[39m(P_o_given_s_and_a[a])):\n\u001b[1;32m---> <a href='vscode-notebook-cell:/c%3A/Users/acer/Downloads/Routimize-main/pomdp.ipynb#X13sZmlsZQ%3D%3D?line=45'>46</a>\u001b[0m         value \u001b[39m=\u001b[39m \u001b[39msum\u001b[39m(P_a_given_q[q, a] \u001b[39m*\u001b[39m P_o_given_s_and_a[a, s, o] \u001b[39m*\u001b[39m P_q_prime_given_q_a_o[q, a, o, q_prime] \u001b[39m*\u001b[39m (R[s, a, q, q_prime] \u001b[39m+\u001b[39m gamma \u001b[39m*\u001b[39m calculate_value(q_prime, s))\n\u001b[0;32m     <a href='vscode-notebook-cell:/c%3A/Users/acer/Downloads/Routimize-main/pomdp.ipynb#X13sZmlsZQ%3D%3D?line=46'>47</a>\u001b[0m                     \u001b[39mfor\u001b[39;00m q_prime \u001b[39min\u001b[39;00m \u001b[39mrange\u001b[39m(num_nodes))\n\u001b[0;32m     <a href='vscode-notebook-cell:/c%3A/Users/acer/Downloads/Routimize-main/pomdp.ipynb#X13sZmlsZQ%3D%3D?line=47'>48</a>\u001b[0m         max_value \u001b[39m=\u001b[39m \u001b[39mmax\u001b[39m(max_value, value)\n\u001b[0;32m     <a href='vscode-notebook-cell:/c%3A/Users/acer/Downloads/Routimize-main/pomdp.ipynb#X13sZmlsZQ%3D%3D?line=48'>49</a>\u001b[0m \u001b[39mreturn\u001b[39;00m max_value\n",
      "\u001b[1;31mIndexError\u001b[0m: too many indices for array: array is 2-dimensional, but 3 were indexed"
     ]
    }
   ],
   "source": [
    "import numpy as np\n",
    "\n",
    "# Define your transition probabilities P(a|q), P(o|s, a), and P(q'|q, a, o)\n",
    "# Replace these with your actual probabilities\n",
    "P_a_given_q = np.array([[0.8, 0.1, 0.1],\n",
    "                        [0.1, 0.8, 0.1],\n",
    "                        [0.1, 0.1, 0.8]])\n",
    "\n",
    "P_o_given_s_and_a = np.array([[0.8, 0.1],\n",
    "                              [0.1, 0.8]])\n",
    "\n",
    "P_q_prime_given_q_a_o = np.array([[[0.8, 0.1, 0.1],\n",
    "                                  [0.1, 0.8, 0.1],\n",
    "                                  [0.1, 0.1, 0.8]],\n",
    "                                 \n",
    "                                 [[0.1, 0.8, 0.1],\n",
    "                                  [0.8, 0.1, 0.1],\n",
    "                                  [0.1, 0.1, 0.8]],\n",
    "                                 \n",
    "                                 [[0.1, 0.1, 0.8],\n",
    "                                  [0.1, 0.1, 0.8],\n",
    "                                  [0.8, 0.1, 0.1]]])\n",
    "\n",
    "# Define your reward function R(s, a, q, q')\n",
    "# Replace these with your actual rewards\n",
    "R = np.array([[[-1, 0, 0],\n",
    "               [0, -1, 0],\n",
    "               [0, 0, -1]],\n",
    "              \n",
    "              [[-1, 0, 0],\n",
    "               [0, -1, 0],\n",
    "               [0, 0, -1]]])\n",
    "\n",
    "# Define the discount factor\n",
    "gamma = 0.9\n",
    "\n",
    "# Define the number of FSC nodes and states\n",
    "num_nodes = 3\n",
    "num_states = 2\n",
    "\n",
    "# Define a function to calculate the value of FSC node q at state s\n",
    "def calculate_value(q, s):\n",
    "    max_value = float('-inf')\n",
    "    for a in range(len(P_a_given_q)):\n",
    "        for o in range(len(P_o_given_s_and_a[a])):\n",
    "            value = sum(P_a_given_q[q, a] * P_o_given_s_and_a[a, s, o] * P_q_prime_given_q_a_o[q, a, o, q_prime] * (R[s, a, q, q_prime] + gamma * calculate_value(q_prime, s))\n",
    "                        for q_prime in range(num_nodes))\n",
    "            max_value = max(max_value, value)\n",
    "    return max_value\n",
    "\n",
    "# Calculate the value of each FSC node at each state\n",
    "values = np.zeros((num_nodes, num_states))\n",
    "for q in range(num_nodes):\n",
    "    for s in range(num_states):\n",
    "        values[q, s] = calculate_value(q, s)\n",
    "\n",
    "print(\"Value Function:\")\n",
    "print(values)\n"
   ]
  },
  {
   "cell_type": "code",
   "execution_count": null,
   "metadata": {},
   "outputs": [
    {
     "name": "stdout",
     "output_type": "stream",
     "text": [
      "Calculated Value Function: [6.58751735 7.1929661  7.04051373 6.75865885 6.93376245]\n",
      "75000\n"
     ]
    }
   ],
   "source": [
    "import numpy as np\n",
    "\n",
    "# Define the number of states and actions\n",
    "num_states = 5\n",
    "num_actions = 3\n",
    "\n",
    "# Create a random reward matrix (state-action pairs)\n",
    "rewards = np.random.rand(num_states, num_actions)\n",
    "\n",
    "# Create a random transition probability matrix (state-action pairs)\n",
    "transition_probs = np.random.rand(num_states, num_actions, num_states)\n",
    "transition_probs /= np.sum(transition_probs, axis=2, keepdims=True)  # Normalize probabilities\n",
    "\n",
    "# Set discount factor\n",
    "gamma = 0.9\n",
    "\n",
    "# Initialize value function randomly\n",
    "value_function = np.random.rand(num_states)\n",
    "\n",
    "# Perform value iteration to calculate the value function\n",
    "num_iterations = 1000\n",
    "i = 0\n",
    "for _ in range(num_iterations):\n",
    "    new_value_function = np.zeros(num_states)\n",
    "    for state in range(num_states):\n",
    "        expected_values = np.zeros(num_actions)\n",
    "        for action in range(num_actions):\n",
    "            expected_rewards = rewards[state, action]\n",
    "            for next_state in range(num_states):\n",
    "                expected_rewards += gamma * transition_probs[state, action, next_state] * value_function[next_state]\n",
    "            expected_values[action] = expected_rewards\n",
    "        new_value_function[state] = np.max(expected_values)\n",
    "    value_function = new_value_function\n",
    "\n",
    "print(\"Calculated Value Function:\", value_function)\n",
    "print(i)\n"
   ]
  }
 ],
 "metadata": {
  "kernelspec": {
   "display_name": "base",
   "language": "python",
   "name": "python3"
  },
  "language_info": {
   "codemirror_mode": {
    "name": "ipython",
    "version": 3
   },
   "file_extension": ".py",
   "mimetype": "text/x-python",
   "name": "python",
   "nbconvert_exporter": "python",
   "pygments_lexer": "ipython3",
   "version": "3.9.12"
  },
  "orig_nbformat": 4
 },
 "nbformat": 4,
 "nbformat_minor": 2
}
