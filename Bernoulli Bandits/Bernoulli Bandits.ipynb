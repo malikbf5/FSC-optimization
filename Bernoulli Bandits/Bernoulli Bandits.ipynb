{
 "cells": [
  {
   "cell_type": "markdown",
   "metadata": {},
   "source": [
    "In this notebook we'll solve the Bernoulli Bandits problem using the QCLP formulation presented in the paper below:\n",
    "https://www.ijcai.org/Proceedings/07/Papers/389.pdf\n",
    "\n",
    "I'll also be borrowing from this video and the code presented in it:\n",
    "https://www.youtube.com/watch?v=8GuQAfyvWYc&list=PLRwcSE2bmyBxc9u_tV65sZTGy729nqgiv&index=16&ab_channel=ICTPQuantitativeLifeSciences"
   ]
  },
  {
   "cell_type": "code",
   "execution_count": 1,
   "metadata": {},
   "outputs": [],
   "source": [
    "from pyomo.environ import *\n",
    "from itertools import product\n",
    "import numpy as np\n",
    "import random\n",
    "import matplotlib.pyplot as plt\n",
    "import pandas as pd\n",
    "import sys\n",
    "# append a new directory to sys.path\n",
    "sys.path.append(\"c:\\\\Users\\\\Tassili\\\\Desktop\\\\FSC-optimization-main\")\n",
    "from QCLP_formulation import *\n",
    "import networkx as nx\n",
    "import os\n",
    "os.environ['NEOS_EMAIL'] = 'malikbf5@gmail.com' "
   ]
  },
  {
   "cell_type": "markdown",
   "metadata": {},
   "source": [
    "# Two-armed Bernoulli Bandits...\n",
    "\n",
    "  Credits: Andrea Mazzolini, Alberto Pezzotta \n",
    "\n",
    "In the standard \"two-armed Bernoulli Bandits\" we can pull one of the two arms of a bandit (slot-machine) $a\\in \\lbrace 1,2 \\rbrace$. Both the arms provide a Bernoulli-distributed reward: $r = 1$ with probability $q_i$, $r = 0$ with $1-q_i$, where $i \\in \\lbrace 1,2 \\rbrace$.\n",
    "\n",
    "<div>\n",
    "<img src=\"Bandits.PNG\" width=\"200\">\n",
    "</div>"
   ]
  },
  {
   "cell_type": "markdown",
   "metadata": {},
   "source": [
    "In the most general case, there is a whole 2D space of possible bandits.\n",
    "Each point correspond to a single state, that is a single realization of the two-bandits above.\n",
    "\n",
    "<div>\n",
    "<img src=\"BeliefSpace.PNG\" width=\"200\">\n",
    "</div>\n",
    "Solving each problem is trivial: we just use the arm with larger success probability."
   ]
  },
  {
   "cell_type": "markdown",
   "metadata": {},
   "source": [
    "In our case we'll choose to focus on two symmetric states (A,B) of this square where we have the following probabilities:  \n",
    "  Probability of winning in state A having chosen action (arm) 1: $P(r = 1 \\,|\\, s= A, a=1) = \\theta$   \n",
    "  Probability of winning in state A having chosen action (arm) 2: $P(r = 1 \\,|\\, s= A, a=2) = 1 - \\theta$   \n",
    "  Probability of winning in state B having chosen action (arm) 1: $P(r = 1 \\,|\\, s= B, a=1) = 1 - \\theta$   \n",
    "  Probability of winning in state B having chosen action (arm) 2: $P(r = 1 \\,|\\, s= B, a=2) = \\theta$   "
   ]
  },
  {
   "cell_type": "markdown",
   "metadata": {},
   "source": [
    "Upon choosing $\\theta$ we get the two states:"
   ]
  },
  {
   "cell_type": "code",
   "execution_count": 2,
   "metadata": {},
   "outputs": [
    {
     "data": {
      "image/png": "[encoded data removed]",
      "text/plain": [
       "<Figure size 300x300 with 1 Axes>"
      ]
     },
     "metadata": {},
     "output_type": "display_data"
    }
   ],
   "source": [
    "thetatest = 0.6\n",
    "# Define the coordinates of the two points\n",
    "point1 = (thetatest, 1- thetatest)\n",
    "point2 = (1- thetatest, thetatest)\n",
    "\n",
    "# Extract x and y coordinates of each point\n",
    "x1, y1 = point1\n",
    "x2, y2 = point2\n",
    "\n",
    "# Plot the points\n",
    "plt.plot(x1, y1, 'bo', label='A')\n",
    "plt.plot(x2, y2, 'ro', label='B')\n",
    "plt.plot([0, 1], [0, 1], 'g--', label='x=y line')\n",
    "\n",
    "# Set plot limits\n",
    "plt.xlim(0, 1)\n",
    "plt.ylim(0, 1)\n",
    "\n",
    "# Add grid\n",
    "plt.grid(True)\n",
    "\n",
    "# Add labels and legend\n",
    "plt.xlabel('$q_1$')\n",
    "plt.ylabel('$q_2$')\n",
    "plt.title('2D space of possible bandits')\n",
    "plt.legend()\n",
    "\n",
    "# set plot size\n",
    "plt.gcf().set_size_inches(3, 3)\n",
    "# Show plot\n",
    "plt.show()\n"
   ]
  },
  {
   "cell_type": "markdown",
   "metadata": {},
   "source": [
    "Following this we define our POMDP parameter values"
   ]
  },
  {
   "cell_type": "code",
   "execution_count": 3,
   "metadata": {},
   "outputs": [],
   "source": [
    "#Define POMDP parameters\n",
    "\n",
    "num_states = 2 # Number of states\n",
    "num_actions = 2 # Number of actions\n",
    "num_observations = 2 # Number of observations\n",
    "\n",
    "s = list(range(num_states))  # state A & B\n",
    "a = list(range(num_actions)) # pull arm 1 or pull arm 2\n",
    "o = list(range(num_observations))  # recieve reward 1 or 0\n",
    "\n",
    "b0 = np.ones((num_states)) / num_states # uniform initial distribution over states\n",
    "gamma = 0.5 # Discount factor \n",
    "theta = 0.8 # Bernoulli parameter for the reward\n",
    "\n",
    "# P(s'|s,a) in this case equals 1 when s' = s and 0 otherwise\n",
    "state_transition_model = np.zeros((num_states, num_actions, num_states)) \n",
    "for state, sprime, action in product(s,s,a):\n",
    "    if state ==  sprime:\n",
    "        state_transition_model[sprime, action, state] = 1\n",
    "\n",
    "# R(s,a), since the reward is stochastic we take instead the average reward for each arm and state\n",
    "reward_model = np.zeros((num_states, num_actions))\n",
    "# state A\n",
    "reward_model[0, 0], reward_model[0, 1] = theta, 1 - theta\n",
    "# state B\n",
    "reward_model[1, 0], reward_model[1, 1] = 1 - theta, theta\n",
    "\n",
    "def bernoulliprob(p,y):\n",
    "    return p**y * (1-p)**(1-y)\n",
    "\n",
    "# O(o|s',a) the probability of observing reward o in state s' after taking action a\n",
    "observation_model = np.zeros((num_states, num_actions, num_observations)) \n",
    "for state, action, observation in product(s,a,o):\n",
    "    if state == action:\n",
    "        observation_model[state,action,observation] = bernoulliprob(theta, observation)\n",
    "    else:\n",
    "        observation_model[state,action,observation] = bernoulliprob(1-theta, observation)\n"
   ]
  },
  {
   "cell_type": "markdown",
   "metadata": {},
   "source": [
    "Visualizing POMDP parameter values"
   ]
  },
  {
   "cell_type": "code",
   "execution_count": 4,
   "metadata": {},
   "outputs": [
    {
     "data": {
      "text/html": [
       "<div>\n",
       "<style scoped>\n",
       "    .dataframe tbody tr th:only-of-type {\n",
       "        vertical-align: middle;\n",
       "    }\n",
       "\n",
       "    .dataframe tbody tr th {\n",
       "        vertical-align: top;\n",
       "    }\n",
       "\n",
       "    .dataframe thead th {\n",
       "        text-align: right;\n",
       "    }\n",
       "</style>\n",
       "<table border=\"1\" class=\"dataframe\">\n",
       "  <thead>\n",
       "    <tr style=\"text-align: right;\">\n",
       "      <th>(s',a,s)</th>\n",
       "      <th>('A', 1, 'A')</th>\n",
       "      <th>('A', 1, 'B')</th>\n",
       "      <th>('A', 2, 'A')</th>\n",
       "      <th>('A', 2, 'B')</th>\n",
       "      <th>('B', 1, 'A')</th>\n",
       "      <th>('B', 1, 'B')</th>\n",
       "      <th>('B', 2, 'A')</th>\n",
       "      <th>('B', 2, 'B')</th>\n",
       "    </tr>\n",
       "  </thead>\n",
       "  <tbody>\n",
       "    <tr>\n",
       "      <th>Transition probability</th>\n",
       "      <td>1.0</td>\n",
       "      <td>0.0</td>\n",
       "      <td>1.0</td>\n",
       "      <td>0.0</td>\n",
       "      <td>0.0</td>\n",
       "      <td>1.0</td>\n",
       "      <td>0.0</td>\n",
       "      <td>1.0</td>\n",
       "    </tr>\n",
       "  </tbody>\n",
       "</table>\n",
       "</div>"
      ],
      "text/plain": [
       "(s',a,s)                ('A', 1, 'A')  ('A', 1, 'B')  ('A', 2, 'A')  \\\n",
       "Transition probability            1.0            0.0            1.0   \n",
       "\n",
       "(s',a,s)                ('A', 2, 'B')  ('B', 1, 'A')  ('B', 1, 'B')  \\\n",
       "Transition probability            0.0            0.0            1.0   \n",
       "\n",
       "(s',a,s)                ('B', 2, 'A')  ('B', 2, 'B')  \n",
       "Transition probability            0.0            1.0  "
      ]
     },
     "execution_count": 4,
     "metadata": {},
     "output_type": "execute_result"
    }
   ],
   "source": [
    "def statename(state):\n",
    "    return 'A' if state == 0 else 'B'\n",
    "state_transition_model_dict = {\n",
    "    str((statename(sprime),action +1,statename(state))): state_transition_model[sprime,action,state]\n",
    "    for sprime,action,state in product(s,a,s)\n",
    "}\n",
    "state_transition_model_df = pd.DataFrame(state_transition_model_dict, index=['Transition probability']) \n",
    "state_transition_model_df = state_transition_model_df.rename_axis(\"(s',a,s)\", axis=\"columns\")\n",
    "state_transition_model_df"
   ]
  },
  {
   "cell_type": "code",
   "execution_count": 5,
   "metadata": {},
   "outputs": [
    {
     "data": {
      "text/html": [
       "<div>\n",
       "<style scoped>\n",
       "    .dataframe tbody tr th:only-of-type {\n",
       "        vertical-align: middle;\n",
       "    }\n",
       "\n",
       "    .dataframe tbody tr th {\n",
       "        vertical-align: top;\n",
       "    }\n",
       "\n",
       "    .dataframe thead th {\n",
       "        text-align: right;\n",
       "    }\n",
       "</style>\n",
       "<table border=\"1\" class=\"dataframe\">\n",
       "  <thead>\n",
       "    <tr style=\"text-align: right;\">\n",
       "      <th></th>\n",
       "      <th>Arm 1</th>\n",
       "      <th>Arm 2</th>\n",
       "    </tr>\n",
       "    <tr>\n",
       "      <th>state</th>\n",
       "      <th></th>\n",
       "      <th></th>\n",
       "    </tr>\n",
       "  </thead>\n",
       "  <tbody>\n",
       "    <tr>\n",
       "      <th>A</th>\n",
       "      <td>0.8</td>\n",
       "      <td>0.2</td>\n",
       "    </tr>\n",
       "    <tr>\n",
       "      <th>B</th>\n",
       "      <td>0.2</td>\n",
       "      <td>0.8</td>\n",
       "    </tr>\n",
       "  </tbody>\n",
       "</table>\n",
       "</div>"
      ],
      "text/plain": [
       "       Arm 1  Arm 2\n",
       "state              \n",
       "A        0.8    0.2\n",
       "B        0.2    0.8"
      ]
     },
     "execution_count": 5,
     "metadata": {},
     "output_type": "execute_result"
    }
   ],
   "source": [
    "rewarddf = pd.DataFrame(reward_model, index=['A', 'B'], columns=['Arm 1', 'Arm 2'])\n",
    "rewarddf.rename_axis(\"state\", axis=\"index\")"
   ]
  },
  {
   "cell_type": "code",
   "execution_count": 6,
   "metadata": {},
   "outputs": [
    {
     "data": {
      "text/html": [
       "<div>\n",
       "<style scoped>\n",
       "    .dataframe tbody tr th:only-of-type {\n",
       "        vertical-align: middle;\n",
       "    }\n",
       "\n",
       "    .dataframe tbody tr th {\n",
       "        vertical-align: top;\n",
       "    }\n",
       "\n",
       "    .dataframe thead th {\n",
       "        text-align: right;\n",
       "    }\n",
       "</style>\n",
       "<table border=\"1\" class=\"dataframe\">\n",
       "  <thead>\n",
       "    <tr style=\"text-align: right;\">\n",
       "      <th></th>\n",
       "      <th>('A', 1, 0)</th>\n",
       "      <th>('A', 1, 1)</th>\n",
       "      <th>('A', 2, 0)</th>\n",
       "      <th>('A', 2, 1)</th>\n",
       "      <th>('B', 1, 0)</th>\n",
       "      <th>('B', 1, 1)</th>\n",
       "      <th>('B', 2, 0)</th>\n",
       "      <th>('B', 2, 1)</th>\n",
       "    </tr>\n",
       "    <tr>\n",
       "      <th>(s',a,o)</th>\n",
       "      <th></th>\n",
       "      <th></th>\n",
       "      <th></th>\n",
       "      <th></th>\n",
       "      <th></th>\n",
       "      <th></th>\n",
       "      <th></th>\n",
       "      <th></th>\n",
       "    </tr>\n",
       "  </thead>\n",
       "  <tbody>\n",
       "    <tr>\n",
       "      <th>Observation probability</th>\n",
       "      <td>0.2</td>\n",
       "      <td>0.8</td>\n",
       "      <td>0.8</td>\n",
       "      <td>0.2</td>\n",
       "      <td>0.8</td>\n",
       "      <td>0.2</td>\n",
       "      <td>0.2</td>\n",
       "      <td>0.8</td>\n",
       "    </tr>\n",
       "  </tbody>\n",
       "</table>\n",
       "</div>"
      ],
      "text/plain": [
       "                         ('A', 1, 0)  ('A', 1, 1)  ('A', 2, 0)  ('A', 2, 1)  \\\n",
       "(s',a,o)                                                                      \n",
       "Observation probability          0.2          0.8          0.8          0.2   \n",
       "\n",
       "                         ('B', 1, 0)  ('B', 1, 1)  ('B', 2, 0)  ('B', 2, 1)  \n",
       "(s',a,o)                                                                     \n",
       "Observation probability          0.8          0.2          0.2          0.8  "
      ]
     },
     "execution_count": 6,
     "metadata": {},
     "output_type": "execute_result"
    }
   ],
   "source": [
    "observation_model_dict = {\n",
    "    (str((statename(sprime),action +1,observation))): observation_model[sprime,action,observation]\n",
    "    for sprime,action,observation in product(s,a,o) }\n",
    "observation_model_df = pd.DataFrame(observation_model_dict, index=['Observation probability'])\n",
    "observation_model_df.rename_axis(\"(s',a,o)\", axis=\"index\")"
   ]
  },
  {
   "cell_type": "markdown",
   "metadata": {},
   "source": [
    "# QCLP formulation\n",
    "<div>\n",
    "<img src=\"QCLP formulation.PNG\" width=\"600\">\n",
    "</div>\n",
    "\n",
    "Where:  \n",
    "The variable $x(q', a, q, o)$ represents $P(q', a|q, o)$  \n",
    "The variable $y(q, s)$ represents $V(q, s)$  \n",
    "$q_0$ is the initial controller node  \n",
    "$o_k$ is an arbitrary fixed observation  \n",
    "\n",
    "Note that $P(q', a|q, o)= P(q'|q, a, o) P(a|q)$ \n",
    "\n",
    "And $\\sum{q'} P(q', a|q, o) = P(a|q)$"
   ]
  },
  {
   "cell_type": "code",
   "execution_count": 8,
   "metadata": {},
   "outputs": [],
   "source": [
    "# num_nodes = 4\n",
    "# q = list(range(num_nodes)) # Nodes in the FSC\n",
    "# newmodel = qclp_formulation(num_states, num_actions, num_observations, num_nodes, b0, gamma, state_transition_model, reward_model, observation_model)\n",
    "\n",
    "\n",
    "\n",
    "\n",
    "\n",
    "# opt = SolverFactory('ipopt')\n",
    "# opt.options[\"print_user_options\"] = \"yes\"\n",
    "# opt.options[\"print_options_documentation\"] = \"yes\"\n",
    "# es = opt.solve(newmodel) \n",
    "# print(res.write())\n",
    "# opt.solve(newmodel, tee=True).write()\n",
    "# newmodel.display()\n",
    "# newmodel.y.pprint()\n",
    "# newmodel.x.pprint()\n",
    "# newmodel.pprint()\n",
    "\n",
    "\n",
    "\n",
    "\n",
    "\n",
    "# solver_manager = SolverManagerFactory('neos')\n",
    "# results = solver_manager.solve(newmodel, solver=\"snopt\")\n",
    "# results.write()\n",
    "# newmodel.x.pprint()\n",
    "# newmodel.y.pprint()\n",
    "# newmodel.pprint()\n",
    "# adf, ndf = actionselect_nodetrans(newmodel.x)\n",
    "# vdf = value_dataframe(newmodel.y)\n",
    "# with pd.option_context('display.max_rows', None,\n",
    "#                        'display.max_columns', None,\n",
    "#                        'display.precision', 3,\n",
    "#                        ):\n",
    "#     print(\"Action selection\")\n",
    "#     print(adf)\n",
    "#     print(\"\\n\")\n",
    "#     print(\"Node Transition\")\n",
    "#     print(ndf)\n",
    "#     print(\"\\n\")\n",
    "#     print(\"Value\")\n",
    "#     print(vdf)"
   ]
  },
  {
   "cell_type": "code",
   "execution_count": 7,
   "metadata": {},
   "outputs": [],
   "source": [
    "def display_df(name= \"\", vdf = None, adf = None, ndf = None):\n",
    "    with pd.option_context('display.max_rows', None,\n",
    "                       'display.max_columns', None,\n",
    "                       'display.precision', 5,\n",
    "                       ):\n",
    "        if vdf is not None:\n",
    "            print(\"Value \" + name)\n",
    "            print(vdf)\n",
    "            print(\"\\n\")\n",
    "        if adf is not None:\n",
    "            print(\"Action selection \"+ name)\n",
    "            print(adf)\n",
    "            print(\"\\n\")\n",
    "        if ndf is not None:\n",
    "            print(\"Node Transition \"+ name)\n",
    "            print(ndf[ndf[\"P(q\\',a | q,o)\"] != 0].T)\n"
   ]
  },
  {
   "cell_type": "markdown",
   "metadata": {},
   "source": [
    "# Creating Solution dataframes"
   ]
  },
  {
   "cell_type": "code",
   "execution_count": 9,
   "metadata": {},
   "outputs": [],
   "source": [
    "# # create value dataframe\n",
    "# def value_dataframe(newmodel,horiz=True, name =\"V(q,s)\"):\n",
    "#     optimal_y = {\"(q,s)\": [key for key in newmodel.y.get_values().keys()],\n",
    "#                   name: [newmodel.y.get_values()[key] for key in newmodel.y.get_values().keys()]}\n",
    "#     if horiz:\n",
    "#         optimal_y_df = pd.DataFrame(optimal_y).T   \n",
    "#         # specify column names\n",
    "#         optimal_y_df.columns = optimal_y_df.iloc[0]\n",
    "#         # drop extra row\n",
    "#         optimal_y_df = optimal_y_df.drop(optimal_y_df.index[0])\n",
    "#         # add objective function value\n",
    "#         optimal_y_df.insert(0,\"objective funct\",value(newmodel.obj))\n",
    "#         # add mean value\n",
    "#         optimal_y_df.insert(1,\"mean value\",float(optimal_y_df.mean(axis=1)[0]))\n",
    "#         # add value over nodes\n",
    "#         optimal_y_df.insert(2,\n",
    "#                             \"value for nodes V(q)\",\n",
    "#                             str([round(sum(newmodel.y.get_values()[key] for key in newmodel.y.get_values().keys() if key[0] == qnode)\n",
    "#                                    /len(newmodel.s),2) \n",
    "#                                    for qnode in newmodel.q]))\n",
    "#         # add value over states\n",
    "#         optimal_y_df.insert(3,\"value for states V(s)\",\n",
    "#                             str([round(sum(newmodel.y.get_values()[key] for key in newmodel.y.get_values().keys() if key[1] == state)\n",
    "#                                    /len(newmodel.q),2) \n",
    "#                              for state in newmodel.s]))\n",
    "#     else:\n",
    "#         optimal_y_df = pd.DataFrame(optimal_y)\n",
    "#         # set index\n",
    "#         optimal_y_df = optimal_y_df.set_index(\"(q,s)\")\n",
    "#         # add objective function value\n",
    "#         optimal_y_df.loc[\"objective funct\"] = value(newmodel.obj)\n",
    "#         # add mean value\n",
    "#         optimal_y_df.loc[\"mean value\"] = float(optimal_y_df.mean(axis=1)[0])\n",
    "#         # add value over nodes\n",
    "#         optimal_y_df.loc[\"value for nodes V(q)\"] = str([round(sum(newmodel.y.get_values()[key] for key in newmodel.y.get_values().keys() \n",
    "#                                                               if key[0]==qnode)/len(newmodel.s),3) \n",
    "#                                                               for qnode in newmodel.q])\n",
    "#         # add value over states\n",
    "#         optimal_y_df.loc[\"value for states V(s)\"] = str([round(sum(newmodel.y.get_values()[key] for key in newmodel.y.get_values().keys() \n",
    "#                                                                if key[1]==si)/len(newmodel.q),3) \n",
    "#                                                                for si in newmodel.s])\n",
    "        \n",
    "#     return optimal_y_df\n",
    "\n",
    "# # create action selection and node transition dataframes\n",
    "# def actionselect_nodetrans(newmodelx, horiz_action = True, horiz_trans = False):\n",
    "#     nodetrans = {}\n",
    "#     actionselect = {}\n",
    "\n",
    "#     for key in newmodelx.get_values().keys():\n",
    "#         index = key[1:]\n",
    "#         actionselect[key[1:3]] = sum(newmodelx.get_values()[key] for key in newmodelx.get_values().keys() if key[1:] == index)\n",
    "#         nodetrans[key] = 0 \n",
    "#         if actionselect[key[1:3]] != 0:\n",
    "#             nodetrans[key] = newmodelx.get_values()[key] / actionselect[key[1:3]]\n",
    "\n",
    "#     actionselectdict = [{\"(a,q)\": key, \"P(a | q)\": actionselect[key]}for key in actionselect.keys()]\n",
    "#     if horiz_action:\n",
    "#         actionselectdf = pd.DataFrame(actionselectdict).T\n",
    "#         actionselectdf.columns = actionselectdf.iloc[0]\n",
    "#         actionselectdf.drop(actionselectdf.index[0], inplace=True)\n",
    "#     else:\n",
    "#         actionselectdf = pd.DataFrame(actionselectdict)\n",
    "#         actionselectdf = actionselectdf.set_index(\"(a,q)\")\n",
    "    \n",
    "#     nodetransdict = [{\"(q',a,q,o)\": key, \"P(q' | q, a, o)\": round(nodetrans[key],3), \"P(q',a | q,o)\": round(value(newmodelx[key]),3)}for key in nodetrans.keys()]\n",
    "#     nodetransdf = pd.DataFrame(nodetransdict)\n",
    "#     nodetransdf.set_index(\"(q',a,q,o)\", inplace=True)\n",
    "#     if horiz_trans:\n",
    "#         nodetransdf = pd.DataFrame(nodetransdict).T\n",
    "#         nodetransdf.columns = nodetransdf.iloc[0]\n",
    "#         nodetransdf.drop(nodetransdf.index[0], inplace=True)\n",
    "#     else:\n",
    "#         nodetransdf = pd.DataFrame(nodetransdict)\n",
    "#         nodetransdf.set_index(\"(q',a,q,o)\", inplace=True)\n",
    "    \n",
    "#     return actionselectdf, nodetransdf\n",
    "\n",
    "# # optimal_ydf = value_dataframe(newmodel.y,horiz=True)\n",
    "# # optimal_ydf\n",
    "# # adf, ndf = actionselect_nodetrans(newmodel.x, horiz_action=True,horiz_trans=False)\n",
    "# # adf"
   ]
  },
  {
   "cell_type": "code",
   "execution_count": 10,
   "metadata": {},
   "outputs": [],
   "source": [
    "# # Win Stay Lose Shift strategy for two node controller\n",
    "# value_WSLS2 = [{\"(q,s)\":(qi,si), \"V_WSLS_2(q,s)\": 1.47 if qi == si else 0.87}\n",
    "#             for (qi,si) in product(range(2),range(2))]\n",
    "# value_WSLS2df = pd.DataFrame(value_WSLS2).T\n",
    "# value_WSLS2df.columns = value_WSLS2df.iloc[0]\n",
    "# value_WSLS2df.drop(value_WSLS2df.index[0], inplace=True)\n",
    "# value_WSLS2df.insert(0,\"mean value\",float(value_WSLS2df.mean(axis=1)[0]))\n",
    "# value_WSLS2df.insert(0,\"objective funct\",0.5* (1.47 + 0.87))\n",
    "# value_WSLS2df.insert(2,\"value for nodes V(q)\", str([(1.47+0.87)/2 for i in range(2)]))\n",
    "# value_WSLS2df.insert(3,\"value for states V(s)\", str([(1.47+0.87)/2 for i in range(2)]))\n",
    "# value_WSLS2df"
   ]
  },
  {
   "cell_type": "code",
   "execution_count": 8,
   "metadata": {},
   "outputs": [],
   "source": [
    "def calculate_value_list(model):\n",
    "    # matrix of coefficients\n",
    "    a = np.zeros((len(model.q)*len(model.s),len(model.q)*len(model.s)))\n",
    "    # vector of constants\n",
    "    b = np.zeros(len(model.q)*len(model.s))\n",
    "    # loop the same way in qclp_formulation\n",
    "    i = 0\n",
    "    for q_ in model.q:\n",
    "        for s_ in model.s:\n",
    "            # sum_a( sum_q'(x[q',a,q,o_k]) * R[s, a] )\n",
    "            b[i] = -sum(\n",
    "                sum([value(model.x[qp_, a_, q_, 0]) for qp_ in model.q])\n",
    "                * reward_model[s_, a_]   for a_ in model.a)\n",
    "            j = 0\n",
    "            for qp_ in model.q:\n",
    "                for sp_ in model.s:\n",
    "                    # sum_a( sum_o( gammma * P(s'|s,a) * O(o|s',a) * x[q',a,q,o] ) )\n",
    "                    a[i,j] = sum(\n",
    "                            gamma * state_transition_model[sp_,a_,s_] *\n",
    "                            observation_model[sp_, a_, o_] *\n",
    "                            value(model.x[qp_, a_, q_, o_]) \n",
    "                        for a_ in model.a for o_ in model.o) - int(qp_ == q_ and sp_ == s_)\n",
    "                    j += 1\n",
    "            i += 1\n",
    "    # solve the linear system and get values for this strategy\n",
    "    v = list(np.linalg.solve(a, b))\n",
    "    return v            "
   ]
  },
  {
   "cell_type": "code",
   "execution_count": 17,
   "metadata": {},
   "outputs": [],
   "source": [
    "# objective function for WSLS heuristic strategies\n",
    "# max sum_s b_0 y(q_0,s)\n",
    "obj = \"first node\"\n",
    "# max sum_s_q b_0 y(q,s) / |q|\n",
    "# obj = \"all nodes\""
   ]
  },
  {
   "cell_type": "markdown",
   "metadata": {},
   "source": [
    "Win Stay Lose Shift heuristics"
   ]
  },
  {
   "cell_type": "markdown",
   "metadata": {},
   "source": [
    "Controller size = 2"
   ]
  },
  {
   "cell_type": "code",
   "execution_count": 13,
   "metadata": {},
   "outputs": [],
   "source": [
    "# initialize the model variable x with win_stay lose_shift strategy for 2 nodes controller for BB\n",
    "def win_stay_lose_shift_2_init(newmodel,solvername = \"snopt\"):\n",
    "    # initial values for the variables with Win-Stay Lose-Shift policy\n",
    "    for qnode in newmodel.q:\n",
    "        for actionn in newmodel.a:\n",
    "            for qnodeprime in newmodel.q:\n",
    "                for obs in newmodel.o:\n",
    "                    if qnode == qnodeprime and qnode == actionn and obs == 1:\n",
    "                        newmodel.x[qnodeprime,actionn,qnode,obs] = 1\n",
    "                        # print(f\"being in {qnode} having chosen {actionn} and observed {obs} we stay in {qnodeprime}\", newmodel.x[qnodeprime,actionn,qnode,obs].value)\n",
    "                    elif qnode != qnodeprime and qnode == actionn and obs == 0:\n",
    "                        newmodel.x[qnodeprime,actionn,qnode,obs] = 1 \n",
    "                        # print(f\"being in {qnode} having chosen {actionn} and observed {obs} we shift to {qnodeprime}\",newmodel.x[qnodeprime,actionn,qnode,obs].value)\n",
    "                    else:\n",
    "                        newmodel.x[qnodeprime,actionn,qnode,obs] = 0\n",
    "                        # print(f\"being in {qnode} having chosen {actionn} and observed {obs} we don't go to {qnodeprime}\",newmodel.x[qnodeprime,actionn,qnode,obs].value)\n",
    "    # get value of this strategy\n",
    "    value_of_strat = calculate_value_list(newmodel)\n",
    "    # Win Stay Lose Shift strategy for two node controller dataframe for BB\n",
    "    value_WSLS2 = {\"(q,s)\":[(qi,si) for (qi,si) in product(range(2),range(2))]}\n",
    "    value_WSLS2[\"V_WSLS_2(q,s)\"] = value_of_strat\n",
    "    value_WSLS2df = pd.DataFrame(value_WSLS2).T\n",
    "    value_WSLS2df.columns = value_WSLS2df.iloc[0]\n",
    "    value_WSLS2df.drop(value_WSLS2df.index[0], inplace=True)\n",
    "    value_WSLS2df.insert(len(value_WSLS2df.columns),\"mean value\",float(value_WSLS2df.mean(axis=1)[0]))\n",
    "    value_WSLS2df.insert(len(value_WSLS2df.columns),\"objective funct\",(value_WSLS2df[(0,0)]+value_WSLS2df[(0,1)])*0.5)    \n",
    "    # solve the model\n",
    "    opt = SolverManagerFactory(\"neos\")\n",
    "    opt.solve(newmodel, solver = solvername)\n",
    "    # results dataframe\n",
    "    vdf = value_dataframe(newmodel,name =\"V_WSWS_2_init(q,s)\")\n",
    "    adf, ndf = actionselect_nodetrans(newmodel.x, horiz_action=True,horiz_trans=False)\n",
    "    return newmodel, vdf, adf, ndf, value_WSLS2df"
   ]
  },
  {
   "cell_type": "code",
   "execution_count": 14,
   "metadata": {},
   "outputs": [],
   "source": [
    "num_nodes = 2\n",
    "newmodel2 = qclp_formulation(num_states, num_actions, num_observations, num_nodes, b0, gamma, state_transition_model, reward_model, observation_model)\n",
    "newmodel2, vwsls2, adf2, ndf2, value_WSLS2df = win_stay_lose_shift_2_init(newmodel2)\n",
    "# display_df(vdf = vwsls2, adf = adf2, ndf = ndf2, name = \"wsls2\")"
   ]
  },
  {
   "cell_type": "code",
   "execution_count": 15,
   "metadata": {},
   "outputs": [
    {
     "data": {
      "text/html": [
       "<div>\n",
       "<style scoped>\n",
       "    .dataframe tbody tr th:only-of-type {\n",
       "        vertical-align: middle;\n",
       "    }\n",
       "\n",
       "    .dataframe tbody tr th {\n",
       "        vertical-align: top;\n",
       "    }\n",
       "\n",
       "    .dataframe thead th {\n",
       "        text-align: right;\n",
       "    }\n",
       "</style>\n",
       "<table border=\"1\" class=\"dataframe\">\n",
       "  <thead>\n",
       "    <tr style=\"text-align: right;\">\n",
       "      <th>(q,s)</th>\n",
       "      <th>objective funct</th>\n",
       "      <th>mean value</th>\n",
       "      <th>value for nodes V(q)</th>\n",
       "      <th>value for states V(s)</th>\n",
       "      <th>(0, 0)</th>\n",
       "      <th>(0, 1)</th>\n",
       "      <th>(1, 0)</th>\n",
       "      <th>(1, 1)</th>\n",
       "    </tr>\n",
       "  </thead>\n",
       "  <tbody>\n",
       "    <tr>\n",
       "      <th>V_WSWS_2_init(q,s)</th>\n",
       "      <td>1.18</td>\n",
       "      <td>1.18</td>\n",
       "      <td>[1.18, 1.18]</td>\n",
       "      <td>[1.18, 1.18]</td>\n",
       "      <td>1.48</td>\n",
       "      <td>0.88</td>\n",
       "      <td>0.879999</td>\n",
       "      <td>1.48</td>\n",
       "    </tr>\n",
       "  </tbody>\n",
       "</table>\n",
       "</div>"
      ],
      "text/plain": [
       "(q,s)               objective funct  mean value value for nodes V(q)  \\\n",
       "V_WSWS_2_init(q,s)             1.18        1.18         [1.18, 1.18]   \n",
       "\n",
       "(q,s)              value for states V(s) (0, 0) (0, 1)    (1, 0) (1, 1)  \n",
       "V_WSWS_2_init(q,s)          [1.18, 1.18]   1.48   0.88  0.879999   1.48  "
      ]
     },
     "execution_count": 15,
     "metadata": {},
     "output_type": "execute_result"
    }
   ],
   "source": [
    "vwsls2"
   ]
  },
  {
   "cell_type": "code",
   "execution_count": 16,
   "metadata": {},
   "outputs": [
    {
     "data": {
      "text/html": [
       "<div>\n",
       "<style scoped>\n",
       "    .dataframe tbody tr th:only-of-type {\n",
       "        vertical-align: middle;\n",
       "    }\n",
       "\n",
       "    .dataframe tbody tr th {\n",
       "        vertical-align: top;\n",
       "    }\n",
       "\n",
       "    .dataframe thead th {\n",
       "        text-align: right;\n",
       "    }\n",
       "</style>\n",
       "<table border=\"1\" class=\"dataframe\">\n",
       "  <thead>\n",
       "    <tr style=\"text-align: right;\">\n",
       "      <th>(q,s)</th>\n",
       "      <th>(0, 0)</th>\n",
       "      <th>(0, 1)</th>\n",
       "      <th>(1, 0)</th>\n",
       "      <th>(1, 1)</th>\n",
       "      <th>mean value</th>\n",
       "      <th>objective funct</th>\n",
       "    </tr>\n",
       "  </thead>\n",
       "  <tbody>\n",
       "    <tr>\n",
       "      <th>V_WSLS_2(q,s)</th>\n",
       "      <td>1.48</td>\n",
       "      <td>0.88</td>\n",
       "      <td>0.88</td>\n",
       "      <td>1.48</td>\n",
       "      <td>1.18</td>\n",
       "      <td>1.18</td>\n",
       "    </tr>\n",
       "  </tbody>\n",
       "</table>\n",
       "</div>"
      ],
      "text/plain": [
       "(q,s)         (0, 0) (0, 1) (1, 0) (1, 1)  mean value objective funct\n",
       "V_WSLS_2(q,s)   1.48   0.88   0.88   1.48        1.18            1.18"
      ]
     },
     "execution_count": 16,
     "metadata": {},
     "output_type": "execute_result"
    }
   ],
   "source": [
    "value_WSLS2df"
   ]
  },
  {
   "cell_type": "markdown",
   "metadata": {},
   "source": [
    "Controller size = 3"
   ]
  },
  {
   "cell_type": "code",
   "execution_count": 17,
   "metadata": {},
   "outputs": [],
   "source": [
    "# initialize the model variable x with win_stay lose_shift strategy for 3 nodes controller for BB\n",
    "def win_stay_lose_shift_3_init(newmodel,solvername = \"snopt\"):\n",
    "    # initial values for the variables with Win-Stay Lose-Shift policy\n",
    "    for qnode in newmodel.q:\n",
    "        for actionn in newmodel.a:\n",
    "            for qnodeprime in newmodel.q:\n",
    "                for obs in newmodel.o:\n",
    "                    # if we win in the node corresponding to action, we stay\n",
    "                    if qnodeprime == qnode and qnode == actionn and obs == 1:\n",
    "                        newmodel.x[qnodeprime,actionn,qnode,obs] = 1\n",
    "                    # if we lose in the node corresponding to action, we shift to the intermediate node\n",
    "                    elif qnodeprime == 2 and qnode == actionn and obs == 0:\n",
    "                        newmodel.x[qnodeprime,actionn,qnode,obs] = 1\n",
    "                    # if we win in the intermediate node, we shift to node corresponding to action taken\n",
    "                    elif qnodeprime == actionn and qnode == 2 and obs == 1:\n",
    "                        newmodel.x[qnodeprime,actionn,qnode,obs] = 0.5 * 1 # P(a | 2) = 0.5\n",
    "                    # if we lose in the intermediate node, we shift to node corresponding to the other action\n",
    "                    elif qnodeprime!= actionn and qnode == 2 and qnodeprime != 2 and obs == 0:\n",
    "                        newmodel.x[qnodeprime,actionn,qnode,obs] = 0.5 * 1 # P(a | 2) = 0.5\n",
    "                    # the rest is 0\n",
    "                    else: \n",
    "                        newmodel.x[qnodeprime,actionn,qnode,obs] = 0\n",
    "    # get value of this strategy\n",
    "    value_of_strat = calculate_value_list(newmodel)\n",
    "    # Win Stay Lose Shift strategy for three node controller dataframe for BB\n",
    "    value_WSLS3 = {\"(q,s)\":[(qi,si) for (qi,si) in product(range(3),range(2))]}\n",
    "    value_WSLS3[\"V_WSLS_3(q,s)\"] = value_of_strat\n",
    "    value_WSLS3df = pd.DataFrame(value_WSLS3).T\n",
    "    value_WSLS3df.columns = value_WSLS3df.iloc[0]\n",
    "    value_WSLS3df.drop(value_WSLS3df.index[0], inplace=True)\n",
    "    value_WSLS3df.insert(len(value_WSLS3df.columns),\"mean value\",float(value_WSLS3df.mean(axis=1)[0]))\n",
    "    value_WSLS3df.insert(len(value_WSLS3df.columns),\"objective funct\",(value_WSLS3df[(0,0)]+value_WSLS3df[(0,1)])*0.5)\n",
    "    # solve the model\n",
    "    opt = SolverManagerFactory(\"neos\")\n",
    "    opt.solve(newmodel, solver = solvername)\n",
    "    # results dataframe\n",
    "    vdf = value_dataframe(newmodel,name =\"V_WSWS_3_init(q,s)\")\n",
    "    adf, ndf = actionselect_nodetrans(newmodel.x, horiz_action=True,horiz_trans=False)\n",
    "    return newmodel, vdf, adf, ndf, value_WSLS3df"
   ]
  },
  {
   "cell_type": "code",
   "execution_count": 18,
   "metadata": {},
   "outputs": [],
   "source": [
    "num_nodes = 3\n",
    "newmodel3 = qclp_formulation(num_states, num_actions, num_observations, num_nodes, b0, gamma, state_transition_model, reward_model, observation_model,obj = obj)\n",
    "newmodel3, vwsls3, adf3, ndf3, value_WSLS3df = win_stay_lose_shift_3_init(newmodel3)\n",
    "# vwsls3\n",
    "# display_df(vdf = vwsls3, adf = adf3, ndf = ndf3, name = \"wsls3\")"
   ]
  },
  {
   "cell_type": "code",
   "execution_count": 19,
   "metadata": {},
   "outputs": [
    {
     "data": {
      "text/html": [
       "<div>\n",
       "<style scoped>\n",
       "    .dataframe tbody tr th:only-of-type {\n",
       "        vertical-align: middle;\n",
       "    }\n",
       "\n",
       "    .dataframe tbody tr th {\n",
       "        vertical-align: top;\n",
       "    }\n",
       "\n",
       "    .dataframe thead th {\n",
       "        text-align: right;\n",
       "    }\n",
       "</style>\n",
       "<table border=\"1\" class=\"dataframe\">\n",
       "  <thead>\n",
       "    <tr style=\"text-align: right;\">\n",
       "      <th>(q,s)</th>\n",
       "      <th>objective funct</th>\n",
       "      <th>mean value</th>\n",
       "      <th>value for nodes V(q)</th>\n",
       "      <th>value for states V(s)</th>\n",
       "      <th>(0, 0)</th>\n",
       "      <th>(0, 1)</th>\n",
       "      <th>(1, 0)</th>\n",
       "      <th>(1, 1)</th>\n",
       "      <th>(2, 0)</th>\n",
       "      <th>(2, 1)</th>\n",
       "    </tr>\n",
       "  </thead>\n",
       "  <tbody>\n",
       "    <tr>\n",
       "      <th>V_WSWS_3_init(q,s)</th>\n",
       "      <td>1.1875</td>\n",
       "      <td>1.160714</td>\n",
       "      <td>[1.188, 1.094, 1.187]</td>\n",
       "      <td>[0.975, 1.338]</td>\n",
       "      <td>1.475</td>\n",
       "      <td>0.9</td>\n",
       "      <td>0.6</td>\n",
       "      <td>1.5875</td>\n",
       "      <td>0.85</td>\n",
       "      <td>1.525</td>\n",
       "    </tr>\n",
       "  </tbody>\n",
       "</table>\n",
       "</div>"
      ],
      "text/plain": [
       "(q,s)               objective funct  mean value   value for nodes V(q)  \\\n",
       "V_WSWS_3_init(q,s)           1.1875    1.160714  [1.188, 1.094, 1.187]   \n",
       "\n",
       "(q,s)              value for states V(s) (0, 0) (0, 1) (1, 0)  (1, 1) (2, 0)  \\\n",
       "V_WSWS_3_init(q,s)        [0.975, 1.338]  1.475    0.9    0.6  1.5875   0.85   \n",
       "\n",
       "(q,s)              (2, 1)  \n",
       "V_WSWS_3_init(q,s)  1.525  "
      ]
     },
     "execution_count": 19,
     "metadata": {},
     "output_type": "execute_result"
    }
   ],
   "source": [
    "vwsls3"
   ]
  },
  {
   "cell_type": "code",
   "execution_count": 20,
   "metadata": {},
   "outputs": [
    {
     "data": {
      "text/html": [
       "<div>\n",
       "<style scoped>\n",
       "    .dataframe tbody tr th:only-of-type {\n",
       "        vertical-align: middle;\n",
       "    }\n",
       "\n",
       "    .dataframe tbody tr th {\n",
       "        vertical-align: top;\n",
       "    }\n",
       "\n",
       "    .dataframe thead th {\n",
       "        text-align: right;\n",
       "    }\n",
       "</style>\n",
       "<table border=\"1\" class=\"dataframe\">\n",
       "  <thead>\n",
       "    <tr style=\"text-align: right;\">\n",
       "      <th>(q,s)</th>\n",
       "      <th>(0, 0)</th>\n",
       "      <th>(0, 1)</th>\n",
       "      <th>(1, 0)</th>\n",
       "      <th>(1, 1)</th>\n",
       "      <th>(2, 0)</th>\n",
       "      <th>(2, 1)</th>\n",
       "      <th>mean value</th>\n",
       "      <th>objective funct</th>\n",
       "    </tr>\n",
       "  </thead>\n",
       "  <tbody>\n",
       "    <tr>\n",
       "      <th>V_WSLS_3(q,s)</th>\n",
       "      <td>1.53125</td>\n",
       "      <td>0.75</td>\n",
       "      <td>0.75</td>\n",
       "      <td>1.53125</td>\n",
       "      <td>1.1875</td>\n",
       "      <td>1.1875</td>\n",
       "      <td>1.15625</td>\n",
       "      <td>1.140625</td>\n",
       "    </tr>\n",
       "  </tbody>\n",
       "</table>\n",
       "</div>"
      ],
      "text/plain": [
       "(q,s)           (0, 0) (0, 1) (1, 0)   (1, 1)  (2, 0)  (2, 1)  mean value  \\\n",
       "V_WSLS_3(q,s)  1.53125   0.75   0.75  1.53125  1.1875  1.1875     1.15625   \n",
       "\n",
       "(q,s)         objective funct  \n",
       "V_WSLS_3(q,s)        1.140625  "
      ]
     },
     "execution_count": 20,
     "metadata": {},
     "output_type": "execute_result"
    }
   ],
   "source": [
    "value_WSLS3df"
   ]
  },
  {
   "cell_type": "code",
   "execution_count": 21,
   "metadata": {},
   "outputs": [
    {
     "data": {
      "text/html": [
       "<div>\n",
       "<style scoped>\n",
       "    .dataframe tbody tr th:only-of-type {\n",
       "        vertical-align: middle;\n",
       "    }\n",
       "\n",
       "    .dataframe tbody tr th {\n",
       "        vertical-align: top;\n",
       "    }\n",
       "\n",
       "    .dataframe thead th {\n",
       "        text-align: right;\n",
       "    }\n",
       "</style>\n",
       "<table border=\"1\" class=\"dataframe\">\n",
       "  <thead>\n",
       "    <tr style=\"text-align: right;\">\n",
       "      <th>(a,q)</th>\n",
       "      <th>(0, 0)</th>\n",
       "      <th>(0, 1)</th>\n",
       "      <th>(0, 2)</th>\n",
       "      <th>(1, 0)</th>\n",
       "      <th>(1, 1)</th>\n",
       "      <th>(1, 2)</th>\n",
       "    </tr>\n",
       "  </thead>\n",
       "  <tbody>\n",
       "    <tr>\n",
       "      <th>P(a | q)</th>\n",
       "      <td>1.0</td>\n",
       "      <td>0.0</td>\n",
       "      <td>0.0</td>\n",
       "      <td>-0.0</td>\n",
       "      <td>1.0</td>\n",
       "      <td>1.0</td>\n",
       "    </tr>\n",
       "  </tbody>\n",
       "</table>\n",
       "</div>"
      ],
      "text/plain": [
       "(a,q)    (0, 0) (0, 1) (0, 2) (1, 0) (1, 1) (1, 2)\n",
       "P(a | q)    1.0    0.0    0.0   -0.0    1.0    1.0"
      ]
     },
     "execution_count": 21,
     "metadata": {},
     "output_type": "execute_result"
    }
   ],
   "source": [
    "adf3"
   ]
  },
  {
   "cell_type": "markdown",
   "metadata": {},
   "source": [
    "Controller size = 4"
   ]
  },
  {
   "cell_type": "code",
   "execution_count": 22,
   "metadata": {},
   "outputs": [],
   "source": [
    "# initialize the model variable x with win_stay lose_shift strategy for 4 nodes controller for BB\n",
    "def win_stay_lose_shift_4_init(newmodel,solvername = \"snopt\"):\n",
    "    # initial values for the variables with Win-Stay Lose-Shift policy\n",
    "    for qnode in newmodel.q:\n",
    "        for actionn in newmodel.a:\n",
    "            for qnodeprime in newmodel.q:\n",
    "                for obs in newmodel.o:\n",
    "                    # from node 0 having picked first action and won, we stay\n",
    "                    if qnode ==  0 and qnodeprime == 0 and actionn == 0 and obs == 1:\n",
    "                        newmodel.x[qnodeprime,actionn,qnode,obs] = 1\n",
    "                    # from node 0 having picked first action and lost, we shift to node 1\n",
    "                    elif qnode == 0 and qnodeprime == 1 and actionn == 0 and obs == 0:\n",
    "                        newmodel.x[qnodeprime,actionn,qnode,obs] = 1\n",
    "                    # from node 1 having picked first action and won, stochastic transition\n",
    "                    elif qnode == 1 and qnodeprime == 0 and actionn == 0 and obs == 1:\n",
    "                        newmodel.x[qnodeprime,actionn,qnode,obs] = 0.5\n",
    "                    elif qnode == 1 and qnodeprime == 2 and actionn == 0 and obs == 1:\n",
    "                        newmodel.x[qnodeprime,actionn,qnode,obs] = 0.5\n",
    "                    # from node 1 having picked first action and lost again, we shift to node 2\n",
    "                    elif qnode == 1 and qnodeprime == 2 and actionn == 0 and obs == 0:\n",
    "                        newmodel.x[qnodeprime,actionn,qnode,obs] = 1\n",
    "                    # from node 2 having picked the second action and won, we stay\n",
    "                    elif qnode == 2 and qnodeprime == 2 and actionn == 1 and obs == 1:\n",
    "                        newmodel.x[qnodeprime,actionn,qnode,obs] = 1\n",
    "                     # from node 2 having picked the second action and lost, we shift to node 3\n",
    "                    elif qnode == 2 and qnodeprime == 3 and actionn == 1 and obs == 0:\n",
    "                        newmodel.x[qnodeprime,actionn,qnode,obs] = 1\n",
    "                    # from node 3 having picked the second action and won, stochastic transition\n",
    "                    elif qnode == 3 and qnodeprime == 2 and actionn == 1 and obs == 1:\n",
    "                        newmodel.x[qnodeprime,actionn,qnode,obs] = 0.5\n",
    "                    elif qnode == 3 and qnodeprime == 0 and actionn == 1 and obs == 1:\n",
    "                        newmodel.x[qnodeprime,actionn,qnode,obs] = 0.5\n",
    "                    # from node 3 having picked the second action and lost again, we shift to node 0\n",
    "                    elif qnode == 3 and qnodeprime == 0 and actionn == 1 and obs == 0:\n",
    "                        newmodel.x[qnodeprime,actionn,qnode,obs] = 1\n",
    "                    # else = 0\n",
    "                    else:\n",
    "                        newmodel.x[qnodeprime,actionn,qnode,obs] = 0\n",
    "    # get value of this strategy\n",
    "    value_of_strat = calculate_value_list(newmodel)\n",
    "    # Win Stay Lose Shift strategy for four node controller dataframe for BB\n",
    "    value_WSLS4 = {\"(q,s)\":[(qi,si) for (qi,si) in product(range(4),range(2))]}\n",
    "    value_WSLS4[\"V_WSLS_4(q,s)\"] =  value_of_strat\n",
    "    value_WSLS4df = pd.DataFrame(value_WSLS4).T\n",
    "    value_WSLS4df.columns = value_WSLS4df.iloc[0]\n",
    "    value_WSLS4df.drop(value_WSLS4df.index[0], inplace=True)\n",
    "    value_WSLS4df.insert(len(value_WSLS4df.columns),\"mean value\",float(value_WSLS4df.mean(axis=1)[0]))\n",
    "    value_WSLS4df.insert(len(value_WSLS4df.columns),\"objective funct\",(value_WSLS4df[(0,0)]+value_WSLS4df[(0,1)])*0.5)\n",
    "    # solve the model\n",
    "    opt = SolverManagerFactory(\"neos\")\n",
    "    opt.solve(newmodel, solver = solvername)\n",
    "    # results dataframe\n",
    "    vdf = value_dataframe(newmodel,name =\"V_WSWS_4_init(q,s)\")\n",
    "    adf, ndf = actionselect_nodetrans(newmodel.x, horiz_action=True,horiz_trans=False)\n",
    "    return newmodel, vdf, adf, ndf, value_WSLS4df   "
   ]
  },
  {
   "cell_type": "code",
   "execution_count": 23,
   "metadata": {},
   "outputs": [],
   "source": [
    "num_nodes = 4\n",
    "newmodel4 = qclp_formulation(num_states, num_actions, num_observations, num_nodes, b0, gamma, state_transition_model, reward_model, observation_model, obj = obj)\n",
    "newmodel4, vwsls4, adf4, ndf4, value_WSLS4df = win_stay_lose_shift_4_init(newmodel4)\n",
    "# vwsls4\n",
    "# display_df(vdf = vwsls4, adf = adf4, ndf = ndf4, name = \"wsls4\")"
   ]
  },
  {
   "cell_type": "code",
   "execution_count": 24,
   "metadata": {},
   "outputs": [
    {
     "data": {
      "text/html": [
       "<div>\n",
       "<style scoped>\n",
       "    .dataframe tbody tr th:only-of-type {\n",
       "        vertical-align: middle;\n",
       "    }\n",
       "\n",
       "    .dataframe tbody tr th {\n",
       "        vertical-align: top;\n",
       "    }\n",
       "\n",
       "    .dataframe thead th {\n",
       "        text-align: right;\n",
       "    }\n",
       "</style>\n",
       "<table border=\"1\" class=\"dataframe\">\n",
       "  <thead>\n",
       "    <tr style=\"text-align: right;\">\n",
       "      <th>(q,s)</th>\n",
       "      <th>objective funct</th>\n",
       "      <th>mean value</th>\n",
       "      <th>value for nodes V(q)</th>\n",
       "      <th>value for states V(s)</th>\n",
       "      <th>(0, 0)</th>\n",
       "      <th>(0, 1)</th>\n",
       "      <th>(1, 0)</th>\n",
       "      <th>(1, 1)</th>\n",
       "      <th>(2, 0)</th>\n",
       "      <th>(2, 1)</th>\n",
       "      <th>(3, 0)</th>\n",
       "      <th>(3, 1)</th>\n",
       "    </tr>\n",
       "  </thead>\n",
       "  <tbody>\n",
       "    <tr>\n",
       "      <th>V_WSWS_4_init(q,s)</th>\n",
       "      <td>1.1875</td>\n",
       "      <td>1.165459</td>\n",
       "      <td>[1.187, 1.182, 1.094, 1.187]</td>\n",
       "      <td>[1.046, 1.28]</td>\n",
       "      <td>1.475</td>\n",
       "      <td>0.9</td>\n",
       "      <td>1.257823</td>\n",
       "      <td>1.106309</td>\n",
       "      <td>0.6</td>\n",
       "      <td>1.5875</td>\n",
       "      <td>0.85</td>\n",
       "      <td>1.525</td>\n",
       "    </tr>\n",
       "  </tbody>\n",
       "</table>\n",
       "</div>"
      ],
      "text/plain": [
       "(q,s)               objective funct  mean value          value for nodes V(q)  \\\n",
       "V_WSWS_4_init(q,s)           1.1875    1.165459  [1.187, 1.182, 1.094, 1.187]   \n",
       "\n",
       "(q,s)              value for states V(s) (0, 0) (0, 1)    (1, 0)    (1, 1)  \\\n",
       "V_WSWS_4_init(q,s)         [1.046, 1.28]  1.475    0.9  1.257823  1.106309   \n",
       "\n",
       "(q,s)              (2, 0)  (2, 1) (3, 0) (3, 1)  \n",
       "V_WSWS_4_init(q,s)    0.6  1.5875   0.85  1.525  "
      ]
     },
     "execution_count": 24,
     "metadata": {},
     "output_type": "execute_result"
    }
   ],
   "source": [
    "vwsls4"
   ]
  },
  {
   "cell_type": "code",
   "execution_count": 25,
   "metadata": {},
   "outputs": [
    {
     "data": {
      "text/html": [
       "<div>\n",
       "<style scoped>\n",
       "    .dataframe tbody tr th:only-of-type {\n",
       "        vertical-align: middle;\n",
       "    }\n",
       "\n",
       "    .dataframe tbody tr th {\n",
       "        vertical-align: top;\n",
       "    }\n",
       "\n",
       "    .dataframe thead th {\n",
       "        text-align: right;\n",
       "    }\n",
       "</style>\n",
       "<table border=\"1\" class=\"dataframe\">\n",
       "  <thead>\n",
       "    <tr style=\"text-align: right;\">\n",
       "      <th>(q,s)</th>\n",
       "      <th>(0, 0)</th>\n",
       "      <th>(0, 1)</th>\n",
       "      <th>(1, 0)</th>\n",
       "      <th>(1, 1)</th>\n",
       "      <th>(2, 0)</th>\n",
       "      <th>(2, 1)</th>\n",
       "      <th>(3, 0)</th>\n",
       "      <th>(3, 1)</th>\n",
       "      <th>mean value</th>\n",
       "      <th>objective funct</th>\n",
       "    </tr>\n",
       "  </thead>\n",
       "  <tbody>\n",
       "    <tr>\n",
       "      <th>V_WSLS_4(q,s)</th>\n",
       "      <td>1.550099</td>\n",
       "      <td>0.635248</td>\n",
       "      <td>1.300594</td>\n",
       "      <td>0.929307</td>\n",
       "      <td>0.635248</td>\n",
       "      <td>1.550099</td>\n",
       "      <td>0.929307</td>\n",
       "      <td>1.300594</td>\n",
       "      <td>1.103812</td>\n",
       "      <td>1.092673</td>\n",
       "    </tr>\n",
       "  </tbody>\n",
       "</table>\n",
       "</div>"
      ],
      "text/plain": [
       "(q,s)            (0, 0)    (0, 1)    (1, 0)    (1, 1)    (2, 0)    (2, 1)  \\\n",
       "V_WSLS_4(q,s)  1.550099  0.635248  1.300594  0.929307  0.635248  1.550099   \n",
       "\n",
       "(q,s)            (3, 0)    (3, 1)  mean value objective funct  \n",
       "V_WSLS_4(q,s)  0.929307  1.300594    1.103812        1.092673  "
      ]
     },
     "execution_count": 25,
     "metadata": {},
     "output_type": "execute_result"
    }
   ],
   "source": [
    "value_WSLS4df"
   ]
  },
  {
   "cell_type": "markdown",
   "metadata": {},
   "source": [
    "# Graph visualizations"
   ]
  },
  {
   "cell_type": "code",
   "execution_count": 26,
   "metadata": {},
   "outputs": [],
   "source": [
    "# function that returns positions of action nodes circling a controller node\n",
    "def action_node_pos(number_actions,origin, radius = 1, angle = 0):\n",
    "    angle_increment = np.divide(np.multiply(2 , np.pi) , number_actions)\n",
    "    action_pos = []\n",
    "    for i in range(number_actions):\n",
    "        action_pos.append((np.multiply(np.cos(angle),radius)+origin[0], np.multiply(np.sin(angle),radius) + origin[1]))\n",
    "        angle += angle_increment\n",
    "    return action_pos\n",
    "\n",
    "# l = action_node_pos(3, (0,0), angle = np.pi/2)\n",
    "# print(l)\n",
    "# for i in l:\n",
    "#     plt.plot(i[0], i[1], 'bo')\n",
    "\n",
    "# function that returns positions of nodes in a horizontal line\n",
    "def horiz_pos(number_nodes, space = 1, origin = (0,0)):\n",
    "    qnode_pos_list = []\n",
    "    if number_nodes % 2 == 0:\n",
    "        qnode_pos_list.append((origin[0] + space * 0.5, origin[1]))\n",
    "        qnode_pos_list.append((origin[0] - space * 0.5, origin[1]))\n",
    "        for i in range(1,number_nodes //2):\n",
    "            qnode_pos_list.append((qnode_pos_list[0][0] + (i)* space, qnode_pos_list[0][1] ))\n",
    "            qnode_pos_list.append((qnode_pos_list[1][0] - (i)*space, qnode_pos_list[1][1] ))\n",
    "    else:\n",
    "        qnode_pos_list.append(origin)\n",
    "        for i in range(number_nodes // 2):\n",
    "            qnode_pos_list.append((origin[0] + (i+1) * space, origin[1] ))\n",
    "            qnode_pos_list.append((origin[0] - (i+1) * space, origin[1] ))\n",
    "    return qnode_pos_list\n",
    "\n",
    "# l = horiz_pos(6, space = 0.5, origin = (0,0))\n",
    "# print(l)\n",
    "# for i in l:\n",
    "#     plt.plot(i[0], i[1], 'bo', label='A')"
   ]
  },
  {
   "cell_type": "code",
   "execution_count": 27,
   "metadata": {},
   "outputs": [],
   "source": [
    "# function that returns action selection and node transition dict\n",
    "\n",
    "# function that draws action selection graph\n",
    "\n",
    "# function that draws node transition graph"
   ]
  },
  {
   "cell_type": "code",
   "execution_count": 28,
   "metadata": {},
   "outputs": [],
   "source": [
    "# nodes = [ \"q\" + str(i) for i in q]\n",
    "# states = [\"s\" + str(i) for i in s]\n",
    "# actions = [\"a\" + str(i) for i in a]\n",
    "# observations = [\"o\" + str(i) for i in o]\n",
    "\n",
    "# # Create action selection graph\n",
    "# G = nx.MultiDiGraph() # multi directed graph\n",
    "# print()\n",
    "# # action node list\n",
    "# actionnodelist = []\n",
    "\n",
    "# # dictionary for labels\n",
    "# labels_dict = {}\n",
    "\n",
    "# for qnode in nodes:\n",
    "#     G.add_node(qnode)\n",
    "#     labels_dict[qnode] = qnode\n",
    "#     for actionnode in actions:\n",
    "#         G.add_node((actionnode, qnode))\n",
    "#         actionnodelist.append((actionnode, qnode))\n",
    "#         labels_dict[(actionnode, qnode)] = actionnode\n",
    "#         G.add_edge(qnode, (actionnode, qnode), \n",
    "#         probability = actionselect[(int(actionnode[1]), int(qnode[1]))]\n",
    "#         )\n",
    "\n",
    "# # radius surrounding origin for controller nodes\n",
    "# radius1 = 1\n",
    "# # radius surrounding controller node for action nodes\n",
    "# radius2 = 0.5\n",
    "\n",
    "# qnodepos = action_node_pos(len(nodes),origin = (0,0), radius = radius1)\n",
    "\n",
    "# pos = {}\n",
    "\n",
    "# for qnode in nodes:\n",
    "#     pos[qnode] = qnodepos.pop(0)\n",
    "#     i = 0\n",
    "#     # position action nodes surrounding the controller node\n",
    "#     actionnodepos = action_node_pos(len(actions), pos[qnode], radius = radius2)\n",
    "#     for actionnode in actions:\n",
    "#         pos[(actionnode, qnode)] = actionnodepos[i]\n",
    "#         i += 1\n",
    "\n",
    "# # Draw nodes\n",
    "# # controller nodes\n",
    "# nx.draw_networkx_nodes(G, pos,nodes, node_size=1000, node_color='skyblue')\n",
    "# # action nodes\n",
    "# nx.draw_networkx_nodes(G, pos,actionnodelist, node_size=500, node_color='red')\n",
    "\n",
    " \n",
    "# # Draw edges\n",
    "# widthlist = [G[e[0]][e[1]][0]['probability'] for e in G.edges]\n",
    "# nx.draw_networkx_edges(G, pos, width=widthlist, arrows=True,  connectionstyle='arc3, rad = 0.3', arrowsize = 15)\n",
    "\n",
    "# # Draw labels\n",
    "# nx.draw_networkx_labels(G, pos,labels = labels_dict, font_size=10, font_family=\"sans-serif\")\n",
    "\n",
    "\n",
    "# plt.title('Action Selection')\n",
    "# plt.show()"
   ]
  },
  {
   "cell_type": "code",
   "execution_count": 29,
   "metadata": {},
   "outputs": [],
   "source": [
    "# nodesprime = [qnode + \"\\'\" for qnode in nodes]\n",
    "# # create transition graph\n",
    "# G1 = nx.MultiDiGraph() \n",
    "\n",
    "# # create controller nodes (q')\n",
    "# for qprime in nodesprime:\n",
    "#     G1.add_node(qprime)\n",
    "    \n",
    "# # transition node list\n",
    "# transnodelist = []\n",
    "\n",
    "# # create (a,q,o) nodes and add edges to q' nodes\n",
    "# for qnode in nodes:\n",
    "#     for actionnode in actions:\n",
    "#         for observation in observations:\n",
    "#             G1.add_node((actionnode, qnode, observation))\n",
    "#             transnodelist.append((actionnode, qnode, observation))\n",
    "#             for qprime in nodesprime:\n",
    "#                 G1.add_edge((actionnode, qnode, observation), qprime , probability = nodetrans[(int(qprime[1]), int(actionnode[1]), int(qnode[1]), int(observation[1]))])\n",
    "\n",
    "# # positions for controller nodes (q')\n",
    "# space_nodes = 1\n",
    "# # position nodes horizontally with space_nodes between them\n",
    "# nodepos = horiz_pos(len(nodes), space = space_nodes)\n",
    "# for qprime in nodesprime:\n",
    "#     pos[qprime] = nodepos.pop(0)\n",
    "\n",
    "# # positions for (a,q,o) nodes\n",
    "# radius = len(nodesprime) * space_nodes / 1.5\n",
    "# # position (a,q,o) nodes circularly around the controller nodes (q')\n",
    "# nodetranspos = action_node_pos(len(actions)* len(nodes) * len(observations), (0,0), radius)\n",
    "# for qnode in nodes:\n",
    "#     for actionnode in actions:\n",
    "#         for observation in observations:\n",
    "#             pos[(actionnode, qnode, observation)] = nodetranspos.pop(0)\n",
    "\n",
    "# # Draw nodes\n",
    "# nx.draw_networkx_nodes(G1, pos,nodesprime, node_size=600, node_color='skyblue')\n",
    "# nx.draw_networkx_nodes(G1, pos,transnodelist, node_size=2000, node_color='red')\n",
    "\n",
    "# # Draw labels\n",
    "# aq_labels = {currnode: currnode for currnode in G1.nodes if type(currnode) == str}\n",
    "# aq_labels = {currnode: (str(currnode[0]) + ',' + str(currnode[1]) + ',' + str(currnode[2])  if type(currnode) == tuple else currnode ) for currnode in G1.nodes} \n",
    "# nx.draw_networkx_labels(G1, pos,aq_labels, font_size=9, font_family=\"sans-serif\")\n",
    "\n",
    "# # Draw edges\n",
    "\n",
    "# width_prob = [G1[e[0]][e[1]][0]['probability'] for e in G1.edges()]\n",
    "# nx.draw_networkx_edges(G1, pos, width= width_prob , arrows=True, connectionstyle='arc3, rad = 0.3', arrowsize = 20)\n",
    "\n",
    "# # plt.axis('off')\n",
    "# plt.title('Controller Node Transtiion')\n",
    "# plt.show()\n"
   ]
  },
  {
   "cell_type": "markdown",
   "metadata": {},
   "source": [
    "# Generating instances"
   ]
  },
  {
   "cell_type": "code",
   "execution_count": 9,
   "metadata": {},
   "outputs": [],
   "source": [
    "def opt_instances(num_nodes_list, num_instances_for_each_numnodes,num_states, num_actions, num_observations, b0, gamma, state_transition_model, reward_model, observation_model, obj = \"first node\"):\n",
    "    sol = {}\n",
    "    for num_node in num_nodes_list:\n",
    "        sol[num_node] = {}\n",
    "        for instance in range(num_instances_for_each_numnodes):\n",
    "            sol[num_node][instance] = {}\n",
    "            # call qclp funct\n",
    "            newmodel = qclp_formulation(num_states, num_actions, num_observations, num_node, b0, gamma, state_transition_model, reward_model, observation_model, obj = obj)\n",
    "            # generate x values randomly\n",
    "            generate_randomx(newmodel, num_node, num_actions)\n",
    "            # newmodel.x.pprint()\n",
    "            # print([sum(newmodel.x[qnodeprime,actionn,qnode,obs].value for qnodeprime in newmodel.q for actionn in newmodel.a) for qnode in newmodel.q for obs in newmodel.o])\n",
    "            # print([sum(newmodel.x[qnodeprime,actionn,qnode,obs].value for qnodeprime in newmodel.q) == sum(newmodel.x[qnodeprime,actionn,qnode,0].value for qnodeprime in newmodel.q)  for qnode in newmodel.q for actionn in newmodel.a for obs in newmodel.o])\n",
    "            # call opt\n",
    "            opt = SolverManagerFactory('neos')\n",
    "            opt.solve(newmodel, solver = \"snopt\")\n",
    "            # save results\n",
    "            # dataframe for y\n",
    "            vdf = value_dataframe(newmodel)\n",
    "            # dataframe for action selection and node transition\n",
    "            adf, ndf = actionselect_nodetrans(newmodel.x, horiz_action = True, horiz_trans = True)\n",
    "            sol[num_node][instance] = {\"model\": newmodel, \"value df\": vdf, \n",
    "                                       \"action selection df\": adf, \"node transition df\": ndf,\n",
    "                                       \"objective\": value(newmodel.obj),\n",
    "                                       \"mean value\": sum(newmodel.y.get_values().values()) / len(newmodel.y.get_values()),\n",
    "                                       \"mean value for nodes\": [round(sum(newmodel.y.get_values()[key] for key in newmodel.y.get_values().keys() if key[0] == qnode)/len(newmodel.s),2) for qnode in newmodel.q],\n",
    "                                       \"mean value for states\": [round(sum(newmodel.y.get_values()[key] for key in newmodel.y.get_values().keys() if key[1] == state)/len(newmodel.q),2) for state in newmodel.s]}\n",
    "        # mean value for a given controller size over instances\n",
    "        sol[num_node][\"mean value\"] = round(sum(sol[num_node][instance][\"mean value\"] \n",
    "                                                for instance in range(num_instances_for_each_numnodes)) \n",
    "                                                / num_instances_for_each_numnodes,3)\n",
    "        # max objective function for a given controller size over instances\n",
    "        sol[num_node][\"max obj\"] = max([sol[num_node][instance][\"objective\"] \n",
    "                                                 for instance in range(num_instances_for_each_numnodes)])\n",
    "        # mean objective function for a given controller size over instances\n",
    "        sol[num_node][\"mean obj\"] = sum(sol[num_node][instance][\"objective\"] \n",
    "                                                 for instance in range(num_instances_for_each_numnodes)) / num_instances_for_each_numnodes\n",
    "        # mean value for nodes for a given controller size over instances\n",
    "        sol[num_node][\"mean value for nodes\"] = np.round(sum(np.array(\n",
    "            sol[num_node][instance][\"mean value for nodes\"]) \n",
    "            for instance in range(num_instances_for_each_numnodes)) \n",
    "            / num_instances_for_each_numnodes,3)\n",
    "        # mean value for states a given controller size over instances\n",
    "        sol[num_node][\"mean value for states\"] = np.round(sum(np.array(\n",
    "            sol[num_node][instance][\"mean value for states\"]) \n",
    "            for instance in range(num_instances_for_each_numnodes)) \n",
    "            / num_instances_for_each_numnodes,3)\n",
    "        # value df for a given controller size    \n",
    "        sol[num_node][\"value df\"] = pd.concat([sol[num_node][instance][\"value df\"] for instance in range(num_instances_for_each_numnodes)])\n",
    "        # action selection df for a given controller size\n",
    "        sol[num_node][\"action select df\"] = pd.concat([sol[num_node][instance][\"action selection df\"] for instance in range(num_instances_for_each_numnodes)])\n",
    "        # node transition df for a given controller size\n",
    "        sol[num_node][\"node trans df\"] = pd.concat([sol[num_node][instance][\"node transition df\"] for instance in range(num_instances_for_each_numnodes)])\n",
    "    \n",
    "    # solution dataframe\n",
    "    sol[\"dataframe\"] = pd.DataFrame({ \"controller size\": num_nodes_list, \n",
    "                                     \"max obj\": [sol[num_node][\"max obj\"] for num_node in num_nodes_list],\n",
    "                                     \"mean obj\": [sol[num_node][\"mean obj\"] for num_node in num_nodes_list],\n",
    "                                     \"mean value\": [sol[num_node][\"mean value\"] for num_node in num_nodes_list], \n",
    "                                     \"mean value for nodes V(q)\": [sol[num_node][\"mean value for nodes\"] for num_node in num_nodes_list], \n",
    "                                     \"mean value for states V(s)\": [sol[num_node][\"mean value for states\"] for num_node in num_nodes_list]})\n",
    "    sol[\"dataframe\"].set_index(\"controller size\", inplace=True)\n",
    "    return sol"
   ]
  },
  {
   "cell_type": "code",
   "execution_count": 31,
   "metadata": {},
   "outputs": [
    {
     "data": {
      "text/html": [
       "<div>\n",
       "<style scoped>\n",
       "    .dataframe tbody tr th:only-of-type {\n",
       "        vertical-align: middle;\n",
       "    }\n",
       "\n",
       "    .dataframe tbody tr th {\n",
       "        vertical-align: top;\n",
       "    }\n",
       "\n",
       "    .dataframe thead th {\n",
       "        text-align: right;\n",
       "    }\n",
       "</style>\n",
       "<table border=\"1\" class=\"dataframe\">\n",
       "  <thead>\n",
       "    <tr style=\"text-align: right;\">\n",
       "      <th></th>\n",
       "      <th>max obj</th>\n",
       "      <th>mean obj</th>\n",
       "      <th>mean value</th>\n",
       "      <th>mean value for nodes V(q)</th>\n",
       "      <th>mean value for states V(s)</th>\n",
       "    </tr>\n",
       "    <tr>\n",
       "      <th>controller size</th>\n",
       "      <th></th>\n",
       "      <th></th>\n",
       "      <th></th>\n",
       "      <th></th>\n",
       "      <th></th>\n",
       "    </tr>\n",
       "  </thead>\n",
       "  <tbody>\n",
       "    <tr>\n",
       "      <th>2</th>\n",
       "      <td>1.180000</td>\n",
       "      <td>1.18000</td>\n",
       "      <td>1.180</td>\n",
       "      <td>[1.18, 1.18]</td>\n",
       "      <td>[1.18, 1.18]</td>\n",
       "    </tr>\n",
       "    <tr>\n",
       "      <th>3</th>\n",
       "      <td>1.190026</td>\n",
       "      <td>1.18476</td>\n",
       "      <td>1.154</td>\n",
       "      <td>[1.185, 1.129, 1.15]</td>\n",
       "      <td>[1.079, 1.232]</td>\n",
       "    </tr>\n",
       "    <tr>\n",
       "      <th>4</th>\n",
       "      <td>1.195762</td>\n",
       "      <td>1.18906</td>\n",
       "      <td>1.138</td>\n",
       "      <td>[1.191, 1.134, 1.09, 1.14]</td>\n",
       "      <td>[1.106, 1.169]</td>\n",
       "    </tr>\n",
       "  </tbody>\n",
       "</table>\n",
       "</div>"
      ],
      "text/plain": [
       "                  max obj  mean obj  mean value   mean value for nodes V(q)  \\\n",
       "controller size                                                               \n",
       "2                1.180000   1.18000       1.180                [1.18, 1.18]   \n",
       "3                1.190026   1.18476       1.154        [1.185, 1.129, 1.15]   \n",
       "4                1.195762   1.18906       1.138  [1.191, 1.134, 1.09, 1.14]   \n",
       "\n",
       "                mean value for states V(s)  \n",
       "controller size                             \n",
       "2                             [1.18, 1.18]  \n",
       "3                           [1.079, 1.232]  \n",
       "4                           [1.106, 1.169]  "
      ]
     },
     "execution_count": 31,
     "metadata": {},
     "output_type": "execute_result"
    }
   ],
   "source": [
    "number_instances = 10\n",
    "controller_size_list = [2,3,4]\n",
    "sol = opt_instances(controller_size_list, number_instances,num_states, num_actions, num_observations, b0, gamma, state_transition_model, reward_model, observation_model, obj = obj)\n",
    "sol[\"dataframe\"]"
   ]
  },
  {
   "cell_type": "code",
   "execution_count": 38,
   "metadata": {},
   "outputs": [],
   "source": [
    "# Value of controllers given a controller size\n",
    "# controllersize = 4\n",
    "# sol[controllersize][\"value df\"]"
   ]
  },
  {
   "cell_type": "code",
   "execution_count": 33,
   "metadata": {},
   "outputs": [],
   "source": [
    "# Action selection given a controller size\n",
    "# sol[controllersize][\"action select df\"]\n"
   ]
  },
  {
   "cell_type": "code",
   "execution_count": 34,
   "metadata": {},
   "outputs": [],
   "source": [
    "# Node transitions given a controller size\n",
    "# with pd.option_context('display.max_rows', None,'display.max_columns', None,'display.precision', 3):\n",
    "# sol[controllersize][\"node trans df\"]"
   ]
  },
  {
   "cell_type": "markdown",
   "metadata": {},
   "source": [
    "### Comparison of results"
   ]
  },
  {
   "cell_type": "code",
   "execution_count": 35,
   "metadata": {},
   "outputs": [
    {
     "data": {
      "text/html": [
       "<div>\n",
       "<style scoped>\n",
       "    .dataframe tbody tr th:only-of-type {\n",
       "        vertical-align: middle;\n",
       "    }\n",
       "\n",
       "    .dataframe tbody tr th {\n",
       "        vertical-align: top;\n",
       "    }\n",
       "\n",
       "    .dataframe thead th {\n",
       "        text-align: right;\n",
       "    }\n",
       "</style>\n",
       "<table border=\"1\" class=\"dataframe\">\n",
       "  <thead>\n",
       "    <tr style=\"text-align: right;\">\n",
       "      <th></th>\n",
       "      <th>random RESTART</th>\n",
       "      <th>WSLS RESTART</th>\n",
       "      <th>WSLS</th>\n",
       "    </tr>\n",
       "    <tr>\n",
       "      <th>controller size</th>\n",
       "      <th></th>\n",
       "      <th></th>\n",
       "      <th></th>\n",
       "    </tr>\n",
       "  </thead>\n",
       "  <tbody>\n",
       "    <tr>\n",
       "      <th>2</th>\n",
       "      <td>1.180000</td>\n",
       "      <td>1.1800</td>\n",
       "      <td>1.180000</td>\n",
       "    </tr>\n",
       "    <tr>\n",
       "      <th>3</th>\n",
       "      <td>1.190026</td>\n",
       "      <td>1.1875</td>\n",
       "      <td>1.140625</td>\n",
       "    </tr>\n",
       "    <tr>\n",
       "      <th>4</th>\n",
       "      <td>1.195762</td>\n",
       "      <td>1.1875</td>\n",
       "      <td>1.092673</td>\n",
       "    </tr>\n",
       "  </tbody>\n",
       "</table>\n",
       "</div>"
      ],
      "text/plain": [
       "                 random RESTART  WSLS RESTART      WSLS\n",
       "controller size                                        \n",
       "2                      1.180000        1.1800  1.180000\n",
       "3                      1.190026        1.1875  1.140625\n",
       "4                      1.195762        1.1875  1.092673"
      ]
     },
     "execution_count": 35,
     "metadata": {},
     "output_type": "execute_result"
    }
   ],
   "source": [
    "comparisondf = pd.DataFrame({\"controller size\":[2,3,4],\n",
    "                             \"random RESTART\": list(sol[\"dataframe\"][\"max obj\"]),\n",
    "                             \"WSLS RESTART\": [vwsls2[\"objective funct\"][0],vwsls3[\"objective funct\"][0], vwsls4[\"objective funct\"][0]],\n",
    "                             \"WSLS\": [value_WSLS2df[\"objective funct\"][0],value_WSLS3df[\"objective funct\"][0],value_WSLS4df[\"objective funct\"][0]]})\n",
    "comparisondf.set_index(\"controller size\", inplace=True)\n",
    "comparisondf"
   ]
  },
  {
   "attachments": {
    "image.png": {
     "image/png": "[encoded data removed]"
    }
   },
   "cell_type": "markdown",
   "metadata": {},
   "source": [
    "when first node\n",
    "![image.png](attachment:image.png)"
   ]
  },
  {
   "attachments": {
    "image.png": {
     "image/png": "[encoded data removed]"
    }
   },
   "cell_type": "markdown",
   "metadata": {},
   "source": [
    "when all nodes\n",
    "![image.png](attachment:image.png)"
   ]
  },
  {
   "cell_type": "markdown",
   "metadata": {},
   "source": [
    "Bayesian POMDP value"
   ]
  },
  {
   "cell_type": "code",
   "execution_count": 10,
   "metadata": {},
   "outputs": [
    {
     "data": {
      "text/plain": [
       "[<matplotlib.lines.Line2D at 0x1f0e01ea090>]"
      ]
     },
     "execution_count": 10,
     "metadata": {},
     "output_type": "execute_result"
    },
    {
     "data": {
      "image/png": "[encoded data removed]",
      "text/plain": [
       "<Figure size 640x480 with 1 Axes>"
      ]
     },
     "metadata": {},
     "output_type": "display_data"
    }
   ],
   "source": [
    "# construct belief points on segment\n",
    "def belief_points(num_points):\n",
    "    # define segment\n",
    "    segment = (0,1)\n",
    "    # return list of belief points where first element if belief to be in the first state\n",
    "    # and second element is belief to be in the second state\n",
    "    return [(point, 1 - point) for point in list(np.linspace(segment[0],segment[1],num_points))]\n",
    "b = belief_points(100)\n",
    "# plot first element in points in b on segment\n",
    "plt.plot([point[0] for point in b], [0 for point in b], 'ro')"
   ]
  },
  {
   "cell_type": "code",
   "execution_count": 11,
   "metadata": {},
   "outputs": [],
   "source": [
    "# belief update function\n",
    "def belief_update(belief_point, action, observation, state_transition_model, observation_model):\n",
    "    # belief update formula\n",
    "    new_belief_point = [0 for i in range(len(belief_point))]\n",
    "    for sprime in range(len(belief_point)):\n",
    "        # sum_s b(s) * P(s'|s,a) * O(o|s', a)\n",
    "        numerator = sum(belief_point[state] *\n",
    "                        observation_model[sprime, action, observation] *\n",
    "                        state_transition_model[sprime, action, state] \n",
    "                        for state in range(len(belief_point)))\n",
    "        # sum_s,s' b(s) * P(s'|s,a) * O(o|s', a)\n",
    "        denominator = sum(belief_point[state] *\n",
    "                        observation_model[sp, action, observation] *\n",
    "                        state_transition_model[sp, action, state] \n",
    "                        for state,sp in product(range(len(belief_point)),range(len(belief_point)))\n",
    "                        )\n",
    "        if denominator != 0:\n",
    "            new_belief_point[sprime] = numerator / denominator\n",
    "    return tuple(new_belief_point)\n",
    "# new_belief_point = belief_update(b[0], 1, 0, state_transition_model, observation_model)\n",
    "# type(new_belief_point)"
   ]
  },
  {
   "cell_type": "code",
   "execution_count": 12,
   "metadata": {},
   "outputs": [],
   "source": [
    "# closest belief function\n",
    "def closest_belief(belief_point, belief_list):\n",
    "    return min(belief_list, key = lambda x: sum((x[i] - belief_point[i])**2 for i in range(len(belief_point))))\n",
    "# type(closest_belief((0.6,0.4),[(0,1),(1,0)]))"
   ]
  },
  {
   "cell_type": "code",
   "execution_count": 13,
   "metadata": {},
   "outputs": [],
   "source": [
    "# value iteration algorithm\n",
    "def value_iteration_bp(beliefpoints, tol, state_transition_model, observation_model, rewards, num_states, num_actions, num_observations, gamma):\n",
    "    # initialize value function V(b) = 0 for each b\n",
    "    valuefun = { bp: 0 for bp in beliefpoints}\n",
    "    tempvaluefun = { bp: 0 for bp in beliefpoints}\n",
    "    # best action\n",
    "    bestaction = {bp: 0 for bp in beliefpoints}\n",
    "    # delta which tells us to stop after exceeding tolerance\n",
    "    # value iteration algo\n",
    "    i = 0\n",
    "    while True:\n",
    "        delta = 0\n",
    "        #print(i)\n",
    "        for bp in beliefpoints:\n",
    "            # bellman operator\n",
    "            quality = [0 for i in range(num_actions)]\n",
    "            for action in range(num_actions):\n",
    "                # sum_s,s',y b(s) * P(s'| s, a) * f(y| s', a) * (r(s,a) + gamma * V(b'(.|a, y)))\n",
    "                quality[action] = sum(\n",
    "                bp[state]* \n",
    "                observation_model[stateprime, action, obs]* \n",
    "                state_transition_model[stateprime, action, state]*\n",
    "                (rewards[state,action]+\n",
    "                gamma *\n",
    "                valuefun[closest_belief(\n",
    "                belief_update(bp, action, obs, state_transition_model, observation_model),\n",
    "                beliefpoints\n",
    "                )]\n",
    "                ) \n",
    "                for state, stateprime, obs in \n",
    "                product(range(num_states), range(num_states), range(num_observations)))\n",
    "            # take max over actions and update V'\n",
    "            tempvaluefun[bp] = max(quality)\n",
    "            # update best action\n",
    "            bestaction[bp] = quality.index(max(quality))\n",
    "            # update delta = max(delta, |V(b) - V'(b)|)\n",
    "            delta = max(delta, abs(tempvaluefun[bp] - valuefun[bp]))\n",
    "        # update value function V <- V'\n",
    "        valuefun = tempvaluefun.copy()\n",
    "        # print(delta)\n",
    "        if delta <= tol:\n",
    "            break\n",
    "        i += 1\n",
    "    return valuefun, bestaction"
   ]
  },
  {
   "cell_type": "code",
   "execution_count": 14,
   "metadata": {},
   "outputs": [],
   "source": [
    "v,ba = value_iteration_bp(b,10**-10, \n",
    "                        state_transition_model, observation_model, reward_model, \n",
    "                        num_states, num_actions, num_observations, \n",
    "                        gamma)"
   ]
  },
  {
   "cell_type": "code",
   "execution_count": 15,
   "metadata": {},
   "outputs": [],
   "source": [
    "# # plot value function V(b)\n",
    "# plt.plot([bp[0] for bp in b], [v[bp] for bp in b], label = \"V(b)\")\n",
    "# # plot belief points with best action = 0\n",
    "# plt.plot(\n",
    "#     [point[0] for point in b if ba[point] == 0],\n",
    "#     [min(v.values()) - 0.5 for point in b if ba[point] == 0], 'ro', label = f\"best action: {0}\")\n",
    "# # plot belief points with best action = 1\n",
    "# plt.plot(\n",
    "#     [point[0] for point in b if ba[point] == 1],\n",
    "#     [min(v.values()) - 0.5 for point in b if ba[point] == 1], 'bo', label = f\"best action: {1}\")\n",
    "# # legend\n",
    "# plt.legend(loc = \"upper right\")"
   ]
  },
  {
   "cell_type": "code",
   "execution_count": 36,
   "metadata": {},
   "outputs": [
    {
     "name": "stdout",
     "output_type": "stream",
     "text": [
      "WARNING: Loading a SolverResults object with a warning status into\n",
      "model.name=\"unknown\";\n",
      "    - termination condition: optimal\n",
      "    - message from solver: SNOPT 7.6.1 \\x3a Requested accuracy could not be\n",
      "      achieved.; 199 iterations, objective 1.2891414141414144; Nonlin\n",
      "      evals\\x3a constrs = 79, Jac = 78.\n",
      "WARNING: Loading a SolverResults object with a warning status into\n",
      "model.name=\"unknown\";\n",
      "    - termination condition: optimal\n",
      "    - message from solver: SNOPT 7.6.1 \\x3a Requested accuracy could not be\n",
      "      achieved.; 221 iterations, objective 1.2949494949497682; Nonlin\n",
      "      evals\\x3a constrs = 29217, Jac = 29216.\n"
     ]
    }
   ],
   "source": [
    "# compare with FSC QCLP\n",
    "number_instances = 1\n",
    "controller_size_list = [2, 3, 4]\n",
    "# dictionary containing for each FSC size the objective function\n",
    "valuefsc = {fsc_size: [] for fsc_size in controller_size_list}\n",
    "# choosing a random sample of belief points for less optimization calls\n",
    "sample_size = 10\n",
    "sample_b = random.sample(b, k = sample_size)\n",
    "sample_b.sort(key= lambda x: x[0])\n",
    "for fsc_size in controller_size_list:\n",
    "    for bp in sample_b:\n",
    "        # b0 distribution over states according to belief point\n",
    "        bdist = np.array(bp)\n",
    "        # run QCLP optimization\n",
    "        sol = opt_instances(controller_size_list,\n",
    "                            number_instances,num_states, num_actions, num_observations, \n",
    "                            bdist, gamma, \n",
    "                            state_transition_model, reward_model, observation_model, \n",
    "                            obj = obj)\n",
    "        # add max objective funciton under this belief point \n",
    "        valuefsc[fsc_size].append(sol[fsc_size][\"max obj\"])"
   ]
  },
  {
   "cell_type": "code",
   "execution_count": 43,
   "metadata": {},
   "outputs": [
    {
     "data": {
      "text/plain": [
       "<matplotlib.legend.Legend at 0x1f0e7078f50>"
      ]
     },
     "execution_count": 43,
     "metadata": {},
     "output_type": "execute_result"
    },
    {
     "data": {
      "image/png": "[encoded data removed]",
      "text/plain": [
       "<Figure size 640x480 with 1 Axes>"
      ]
     },
     "metadata": {},
     "output_type": "display_data"
    }
   ],
   "source": [
    "# plot objective function for each size\n",
    "for fsc_size in controller_size_list:\n",
    "    plt.plot([bp[0] for bp in sample_b], valuefsc[fsc_size] , label = f\"V_FSC_{fsc_size}(b)\")\n",
    "\n",
    "# # plot value function V(b)\n",
    "plt.plot([bp[0] for bp in b], [v[bp] for bp in b], label = \"V(b)\")\n",
    "\n",
    "# plot belief points with best action = 0\n",
    "plt.plot(\n",
    "    [point[0] for point in b if ba[point] == 0],\n",
    "    [min(v.values()) - 0.5 for point in b if ba[point] == 0], 'ro', label = f\"best action: {0}\")\n",
    "\n",
    "# plot belief points with best action = 1\n",
    "plt.plot(\n",
    "    [point[0] for point in b if ba[point] == 1],\n",
    "    [min(v.values()) - 0.5 for point in b if ba[point] == 1], 'bo', label = f\"best action: {1}\")\n",
    "\n",
    "# legend\n",
    "plt.legend(loc = \"lower right\")"
   ]
  },
  {
   "cell_type": "code",
   "execution_count": 40,
   "metadata": {},
   "outputs": [
    {
     "data": {
      "text/plain": [
       "<matplotlib.legend.Legend at 0x1f0e6f07010>"
      ]
     },
     "execution_count": 40,
     "metadata": {},
     "output_type": "execute_result"
    },
    {
     "data": {
      "image/png": "[encoded data removed]",
      "text/plain": [
       "<Figure size 640x480 with 1 Axes>"
      ]
     },
     "metadata": {},
     "output_type": "display_data"
    }
   ],
   "source": [
    "fsc_size = 2\n",
    "plt.plot([bp[0] for bp in sample_b], valuefsc[fsc_size] , label = f\"V_FSC_{fsc_size}(b)\")\n",
    "\n",
    "# # plot value function V(b)\n",
    "plt.plot([bp[0] for bp in b], [v[bp] for bp in b], label = \"V(b)\")\n",
    "\n",
    "# plot belief points with best action = 0\n",
    "plt.plot(\n",
    "    [point[0] for point in b if ba[point] == 0],\n",
    "    [min(v.values()) - 0.5 for point in b if ba[point] == 0], 'ro', label = f\"best action: {0}\")\n",
    "\n",
    "# plot belief points with best action = 1\n",
    "plt.plot(\n",
    "    [point[0] for point in b if ba[point] == 1],\n",
    "    [min(v.values()) - 0.5 for point in b if ba[point] == 1], 'bo', label = f\"best action: {1}\")\n",
    "\n",
    "# legend\n",
    "plt.legend(loc = \"lower right\")"
   ]
  },
  {
   "cell_type": "code",
   "execution_count": 41,
   "metadata": {},
   "outputs": [
    {
     "data": {
      "text/plain": [
       "<matplotlib.legend.Legend at 0x1f0e6c5ffd0>"
      ]
     },
     "execution_count": 41,
     "metadata": {},
     "output_type": "execute_result"
    },
    {
     "data": {
      "image/png": "[encoded data removed]",
      "text/plain": [
       "<Figure size 640x480 with 1 Axes>"
      ]
     },
     "metadata": {},
     "output_type": "display_data"
    }
   ],
   "source": [
    "fsc_size = 3\n",
    "plt.plot([bp[0] for bp in sample_b], valuefsc[fsc_size] , label = f\"V_FSC_{fsc_size}(b)\")\n",
    "\n",
    "# # plot value function V(b)\n",
    "plt.plot([bp[0] for bp in b], [v[bp] for bp in b], label = \"V(b)\")\n",
    "\n",
    "# plot belief points with best action = 0\n",
    "plt.plot(\n",
    "    [point[0] for point in b if ba[point] == 0],\n",
    "    [min(v.values()) - 0.5 for point in b if ba[point] == 0], 'ro', label = f\"best action: {0}\")\n",
    "\n",
    "# plot belief points with best action = 1\n",
    "plt.plot(\n",
    "    [point[0] for point in b if ba[point] == 1],\n",
    "    [min(v.values()) - 0.5 for point in b if ba[point] == 1], 'bo', label = f\"best action: {1}\")\n",
    "\n",
    "# legend\n",
    "plt.legend(loc = \"lower right\")"
   ]
  },
  {
   "cell_type": "code",
   "execution_count": 42,
   "metadata": {},
   "outputs": [
    {
     "data": {
      "text/plain": [
       "<matplotlib.legend.Legend at 0x1f0e70031d0>"
      ]
     },
     "execution_count": 42,
     "metadata": {},
     "output_type": "execute_result"
    },
    {
     "data": {
      "image/png": "[encoded data removed]",
      "text/plain": [
       "<Figure size 640x480 with 1 Axes>"
      ]
     },
     "metadata": {},
     "output_type": "display_data"
    }
   ],
   "source": [
    "fsc_size = 4\n",
    "plt.plot([bp[0] for bp in sample_b], valuefsc[fsc_size] , label = f\"V_FSC_{fsc_size}(b)\")\n",
    "\n",
    "# # plot value function V(b)\n",
    "plt.plot([bp[0] for bp in b], [v[bp] for bp in b], label = \"V(b)\")\n",
    "\n",
    "# plot belief points with best action = 0\n",
    "plt.plot(\n",
    "    [point[0] for point in b if ba[point] == 0],\n",
    "    [min(v.values()) - 0.5 for point in b if ba[point] == 0], 'ro', label = f\"best action: {0}\")\n",
    "\n",
    "# plot belief points with best action = 1\n",
    "plt.plot(\n",
    "    [point[0] for point in b if ba[point] == 1],\n",
    "    [min(v.values()) - 0.5 for point in b if ba[point] == 1], 'bo', label = f\"best action: {1}\")\n",
    "\n",
    "# legend\n",
    "plt.legend(loc = \"lower right\")"
   ]
  }
 ],
 "metadata": {
  "kernelspec": {
   "display_name": "base",
   "language": "python",
   "name": "python3"
  },
  "language_info": {
   "codemirror_mode": {
    "name": "ipython",
    "version": 3
   },
   "file_extension": ".py",
   "mimetype": "text/x-python",
   "name": "python",
   "nbconvert_exporter": "python",
   "pygments_lexer": "ipython3",
   "version": "3.11.5"
  }
 },
 "nbformat": 4,
 "nbformat_minor": 2
}
