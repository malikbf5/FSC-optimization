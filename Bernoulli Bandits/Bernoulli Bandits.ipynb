{
 "cells": [
  {
   "cell_type": "markdown",
   "metadata": {},
   "source": [
    "In this notebook we'll solve the Bernoulli Bandits problem using the QCLP formulation presented in the paper below:\n",
    "https://www.ijcai.org/Proceedings/07/Papers/389.pdf\n",
    "\n",
    "I'll also be borrowing from this video and the code presented in it:\n",
    "https://www.youtube.com/watch?v=8GuQAfyvWYc&list=PLRwcSE2bmyBxc9u_tV65sZTGy729nqgiv&index=16&ab_channel=ICTPQuantitativeLifeSciences"
   ]
  },
  {
   "cell_type": "code",
   "execution_count": 4,
   "metadata": {},
   "outputs": [],
   "source": [
    "from pyomo.environ import *\n",
    "from itertools import product\n",
    "import numpy as np\n",
    "import random\n",
    "import matplotlib.pyplot as plt\n",
    "import pandas as pd\n",
    "import sys\n",
    "# append a new directory to sys.path\n",
    "sys.path.append(\"c:\\\\Users\\\\Tassili\\\\Desktop\\\\FSC-optimization-main\")\n",
    "from QCLP_formulation import qclp_formulation\n",
    "import networkx as nx"
   ]
  },
  {
   "cell_type": "markdown",
   "metadata": {},
   "source": [
    "# Two-armed Bernoulli Bandits...\n",
    "\n",
    "  Credits: Andrea Mazzolini, Alberto Pezzotta \n",
    "\n",
    "In the standard \"two-armed Bernoulli Bandits\" we can pull one of the two arms of a bandit (slot-machine) $a\\in \\lbrace 1,2 \\rbrace$. Both the arms provide a Bernoulli-distributed reward: $r = 1$ with probability $q_i$, $r = 0$ with $1-q_i$, where $i \\in \\lbrace 1,2 \\rbrace$.\n",
    "\n",
    "<div>\n",
    "<img src=\"Bandits.PNG\" width=\"400\">\n",
    "</div>"
   ]
  },
  {
   "cell_type": "markdown",
   "metadata": {},
   "source": [
    "In the most general case, there is a whole 2D space of possible bandits.\n",
    "Each point correspond to a single state, that is a single realization of the two-bandits above.\n",
    "\n",
    "<div>\n",
    "<img src=\"BeliefSpace.PNG\" width=\"400\">\n",
    "</div>\n",
    "Solving each problem is trivial: we just use the arm with larger success probability."
   ]
  },
  {
   "cell_type": "markdown",
   "metadata": {},
   "source": [
    "In our case we'll choose to focus on two symmetric states (A,B) of this square where we have the following probabilities:  \n",
    "  Probability of winning in state A having chosen action (arm) 1: $P(r = 1 \\,|\\, s= A, a=1) = \\theta$   \n",
    "  Probability of winning in state A having chosen action (arm) 2: $P(r = 1 \\,|\\, s= A, a=2) = 1 - \\theta$   \n",
    "  Probability of winning in state B having chosen action (arm) 1: $P(r = 1 \\,|\\, s= B, a=1) = 1 - \\theta$   \n",
    "  Probability of winning in state B having chosen action (arm) 2: $P(r = 1 \\,|\\, s= B, a=2) = \\theta$   "
   ]
  },
  {
   "cell_type": "markdown",
   "metadata": {},
   "source": [
    "Upon choosing $\\theta$ we get the two states:"
   ]
  },
  {
   "cell_type": "code",
   "execution_count": 5,
   "metadata": {},
   "outputs": [
    {
     "data": {
      "image/png": "[encoded data removed]",
      "text/plain": [
       "<Figure size 640x480 with 1 Axes>"
      ]
     },
     "metadata": {},
     "output_type": "display_data"
    }
   ],
   "source": [
    "thetatest = 0.6\n",
    "# Define the coordinates of the two points\n",
    "point1 = (thetatest, 1- thetatest)\n",
    "point2 = (1- thetatest, thetatest)\n",
    "\n",
    "# Extract x and y coordinates of each point\n",
    "x1, y1 = point1\n",
    "x2, y2 = point2\n",
    "\n",
    "# Plot the points\n",
    "plt.plot(x1, y1, 'bo', label='A')\n",
    "plt.plot(x2, y2, 'ro', label='B')\n",
    "plt.plot([0, 1], [0, 1], 'g--', label='x=y line')\n",
    "\n",
    "# Set plot limits\n",
    "plt.xlim(0, 1)\n",
    "plt.ylim(0, 1)\n",
    "\n",
    "# Add grid\n",
    "plt.grid(True)\n",
    "\n",
    "# Add labels and legend\n",
    "plt.xlabel('$q_1$')\n",
    "plt.ylabel('$q_2$')\n",
    "plt.title('2D space of possible bandits')\n",
    "plt.legend()\n",
    "\n",
    "# Show plot\n",
    "plt.show()\n"
   ]
  },
  {
   "cell_type": "markdown",
   "metadata": {},
   "source": [
    "Following this we define our POMDP parameter values"
   ]
  },
  {
   "cell_type": "code",
   "execution_count": 6,
   "metadata": {},
   "outputs": [],
   "source": [
    "#Define POMDP parameters\n",
    "\n",
    "num_states = 2 # Number of states\n",
    "num_actions = 2 # Number of actions\n",
    "num_observations = 2 # Number of observations\n",
    "\n",
    "s = list(range(num_states))  # state A & B\n",
    "a = list(range(num_actions)) # pull arm 1 or pull arm 2\n",
    "o = list(range(num_observations))  # recieve reward 1 or 0\n",
    "\n",
    "b0 = np.ones((num_states)) / num_states # uniform initial distribution over states\n",
    "gamma = 0.5 # Discount factor \n",
    "theta = 0.8 # Bernoulli parameter for the reward\n",
    "\n",
    "# P(s'|s,a) in this case equals 1 when s' = s and 0 otherwise\n",
    "state_transition_model = np.zeros((num_states, num_actions, num_states)) \n",
    "for state, sprime, action in product(s,s,a):\n",
    "    if state ==  sprime:\n",
    "        state_transition_model[sprime, action, state] = 1\n",
    "\n",
    "# R(s,a), since the reward is stochastic we take instead the average reward for each arm and state\n",
    "reward_model = np.zeros((num_states, num_actions))\n",
    "# state A\n",
    "reward_model[0, 0], reward_model[0, 1] = theta, 1 - theta\n",
    "# state B\n",
    "reward_model[1, 0], reward_model[1, 1] = 1 - theta, theta\n",
    "\n",
    "def bernoulliprob(p,y):\n",
    "    return p**y * (1-p)**(1-y)\n",
    "\n",
    "# O(o|s',a) the probability of observing reward o in state s' after taking action a\n",
    "observation_model = np.zeros((num_states, num_actions, num_observations)) \n",
    "for state, action, observation in product(s,a,o):\n",
    "    if state == action:\n",
    "        observation_model[state,action,observation] = bernoulliprob(theta, observation)\n",
    "    else:\n",
    "        observation_model[state,action,observation] = bernoulliprob(1-theta, observation)\n"
   ]
  },
  {
   "cell_type": "markdown",
   "metadata": {},
   "source": [
    "Visualizing POMDP parameter values"
   ]
  },
  {
   "cell_type": "code",
   "execution_count": 7,
   "metadata": {},
   "outputs": [
    {
     "data": {
      "text/html": [
       "<div>\n",
       "<style scoped>\n",
       "    .dataframe tbody tr th:only-of-type {\n",
       "        vertical-align: middle;\n",
       "    }\n",
       "\n",
       "    .dataframe tbody tr th {\n",
       "        vertical-align: top;\n",
       "    }\n",
       "\n",
       "    .dataframe thead th {\n",
       "        text-align: right;\n",
       "    }\n",
       "</style>\n",
       "<table border=\"1\" class=\"dataframe\">\n",
       "  <thead>\n",
       "    <tr style=\"text-align: right;\">\n",
       "      <th>(s',a,s)</th>\n",
       "      <th>('A', 1, 'A')</th>\n",
       "      <th>('A', 1, 'B')</th>\n",
       "      <th>('A', 2, 'A')</th>\n",
       "      <th>('A', 2, 'B')</th>\n",
       "      <th>('B', 1, 'A')</th>\n",
       "      <th>('B', 1, 'B')</th>\n",
       "      <th>('B', 2, 'A')</th>\n",
       "      <th>('B', 2, 'B')</th>\n",
       "    </tr>\n",
       "  </thead>\n",
       "  <tbody>\n",
       "    <tr>\n",
       "      <th>Transition probability</th>\n",
       "      <td>1.0</td>\n",
       "      <td>0.0</td>\n",
       "      <td>1.0</td>\n",
       "      <td>0.0</td>\n",
       "      <td>0.0</td>\n",
       "      <td>1.0</td>\n",
       "      <td>0.0</td>\n",
       "      <td>1.0</td>\n",
       "    </tr>\n",
       "  </tbody>\n",
       "</table>\n",
       "</div>"
      ],
      "text/plain": [
       "(s',a,s)                ('A', 1, 'A')  ('A', 1, 'B')  ('A', 2, 'A')  \\\n",
       "Transition probability            1.0            0.0            1.0   \n",
       "\n",
       "(s',a,s)                ('A', 2, 'B')  ('B', 1, 'A')  ('B', 1, 'B')  \\\n",
       "Transition probability            0.0            0.0            1.0   \n",
       "\n",
       "(s',a,s)                ('B', 2, 'A')  ('B', 2, 'B')  \n",
       "Transition probability            0.0            1.0  "
      ]
     },
     "execution_count": 7,
     "metadata": {},
     "output_type": "execute_result"
    }
   ],
   "source": [
    "def statename(state):\n",
    "    return 'A' if state == 0 else 'B'\n",
    "state_transition_model_dict = {\n",
    "    str((statename(sprime),action +1,statename(state))): state_transition_model[sprime,action,state]\n",
    "    for sprime,action,state in product(s,a,s)\n",
    "}\n",
    "state_transition_model_df = pd.DataFrame(state_transition_model_dict, index=['Transition probability']) \n",
    "state_transition_model_df = state_transition_model_df.rename_axis(\"(s',a,s)\", axis=\"columns\")\n",
    "state_transition_model_df"
   ]
  },
  {
   "cell_type": "code",
   "execution_count": 8,
   "metadata": {},
   "outputs": [
    {
     "data": {
      "text/html": [
       "<div>\n",
       "<style scoped>\n",
       "    .dataframe tbody tr th:only-of-type {\n",
       "        vertical-align: middle;\n",
       "    }\n",
       "\n",
       "    .dataframe tbody tr th {\n",
       "        vertical-align: top;\n",
       "    }\n",
       "\n",
       "    .dataframe thead th {\n",
       "        text-align: right;\n",
       "    }\n",
       "</style>\n",
       "<table border=\"1\" class=\"dataframe\">\n",
       "  <thead>\n",
       "    <tr style=\"text-align: right;\">\n",
       "      <th></th>\n",
       "      <th>Arm 1</th>\n",
       "      <th>Arm 2</th>\n",
       "    </tr>\n",
       "    <tr>\n",
       "      <th>state</th>\n",
       "      <th></th>\n",
       "      <th></th>\n",
       "    </tr>\n",
       "  </thead>\n",
       "  <tbody>\n",
       "    <tr>\n",
       "      <th>A</th>\n",
       "      <td>0.8</td>\n",
       "      <td>0.2</td>\n",
       "    </tr>\n",
       "    <tr>\n",
       "      <th>B</th>\n",
       "      <td>0.2</td>\n",
       "      <td>0.8</td>\n",
       "    </tr>\n",
       "  </tbody>\n",
       "</table>\n",
       "</div>"
      ],
      "text/plain": [
       "       Arm 1  Arm 2\n",
       "state              \n",
       "A        0.8    0.2\n",
       "B        0.2    0.8"
      ]
     },
     "execution_count": 8,
     "metadata": {},
     "output_type": "execute_result"
    }
   ],
   "source": [
    "rewarddf = pd.DataFrame(reward_model, index=['A', 'B'], columns=['Arm 1', 'Arm 2'])\n",
    "rewarddf.rename_axis(\"state\", axis=\"index\")"
   ]
  },
  {
   "cell_type": "code",
   "execution_count": 9,
   "metadata": {},
   "outputs": [
    {
     "data": {
      "text/html": [
       "<div>\n",
       "<style scoped>\n",
       "    .dataframe tbody tr th:only-of-type {\n",
       "        vertical-align: middle;\n",
       "    }\n",
       "\n",
       "    .dataframe tbody tr th {\n",
       "        vertical-align: top;\n",
       "    }\n",
       "\n",
       "    .dataframe thead th {\n",
       "        text-align: right;\n",
       "    }\n",
       "</style>\n",
       "<table border=\"1\" class=\"dataframe\">\n",
       "  <thead>\n",
       "    <tr style=\"text-align: right;\">\n",
       "      <th></th>\n",
       "      <th>('A', 1, 0)</th>\n",
       "      <th>('A', 1, 1)</th>\n",
       "      <th>('A', 2, 0)</th>\n",
       "      <th>('A', 2, 1)</th>\n",
       "      <th>('B', 1, 0)</th>\n",
       "      <th>('B', 1, 1)</th>\n",
       "      <th>('B', 2, 0)</th>\n",
       "      <th>('B', 2, 1)</th>\n",
       "    </tr>\n",
       "    <tr>\n",
       "      <th>(s',a,o)</th>\n",
       "      <th></th>\n",
       "      <th></th>\n",
       "      <th></th>\n",
       "      <th></th>\n",
       "      <th></th>\n",
       "      <th></th>\n",
       "      <th></th>\n",
       "      <th></th>\n",
       "    </tr>\n",
       "  </thead>\n",
       "  <tbody>\n",
       "    <tr>\n",
       "      <th>Observation probability</th>\n",
       "      <td>0.2</td>\n",
       "      <td>0.8</td>\n",
       "      <td>0.8</td>\n",
       "      <td>0.2</td>\n",
       "      <td>0.8</td>\n",
       "      <td>0.2</td>\n",
       "      <td>0.2</td>\n",
       "      <td>0.8</td>\n",
       "    </tr>\n",
       "  </tbody>\n",
       "</table>\n",
       "</div>"
      ],
      "text/plain": [
       "                         ('A', 1, 0)  ('A', 1, 1)  ('A', 2, 0)  ('A', 2, 1)  \\\n",
       "(s',a,o)                                                                      \n",
       "Observation probability          0.2          0.8          0.8          0.2   \n",
       "\n",
       "                         ('B', 1, 0)  ('B', 1, 1)  ('B', 2, 0)  ('B', 2, 1)  \n",
       "(s',a,o)                                                                     \n",
       "Observation probability          0.8          0.2          0.2          0.8  "
      ]
     },
     "execution_count": 9,
     "metadata": {},
     "output_type": "execute_result"
    }
   ],
   "source": [
    "observation_model_dict = {\n",
    "    (str((statename(sprime),action +1,observation))): observation_model[sprime,action,observation]\n",
    "    for sprime,action,observation in product(s,a,o) }\n",
    "observation_model_df = pd.DataFrame(observation_model_dict, index=['Observation probability'])\n",
    "observation_model_df.rename_axis(\"(s',a,o)\", axis=\"index\")"
   ]
  },
  {
   "cell_type": "markdown",
   "metadata": {},
   "source": [
    "Finite state controller"
   ]
  },
  {
   "cell_type": "code",
   "execution_count": 10,
   "metadata": {},
   "outputs": [],
   "source": [
    "num_nodes = 2\n",
    "q = list(range(num_nodes)) # Nodes in the FSC\n"
   ]
  },
  {
   "cell_type": "markdown",
   "metadata": {},
   "source": [
    "# QCLP formulation\n",
    "<div>\n",
    "<img src=\"QCLP formulation.PNG\" width=\"850\">\n",
    "</div>\n",
    "\n",
    "Where:  \n",
    "The variable $x(q', a, q, o)$ represents $P(q', a|q, o)$  \n",
    "The variable $y(q, s)$ represents $V(q, s)$  \n",
    "$q_0$ is the initial controller node  \n",
    "$o_k$ is an arbitrary fixed observation  \n",
    "\n",
    "Note that $P(q', a|q, o)= P(q'|q, o) P(a|q)$ \n",
    "\n",
    "And $\\sum{q'} P(q', a|q, o) = P(a|q)$"
   ]
  },
  {
   "cell_type": "code",
   "execution_count": 11,
   "metadata": {},
   "outputs": [],
   "source": [
    "newmodel = qclp_formulation(num_states, num_actions, num_observations, num_nodes, b0, gamma, state_transition_model, reward_model, observation_model)"
   ]
  },
  {
   "cell_type": "markdown",
   "metadata": {},
   "source": [
    "### Win-Stay Lose_Shift initial values"
   ]
  },
  {
   "cell_type": "code",
   "execution_count": 12,
   "metadata": {},
   "outputs": [],
   "source": [
    "def win_stay_lose_shift(num_nodes,newmodel):\n",
    "    # initial values for the variables with Win-Stay Lose-Shift policy\n",
    "    if num_nodes == 2:\n",
    "        for qnode in newmodel.q:\n",
    "            for actionn in newmodel.a:\n",
    "                for qnodeprime in newmodel.q:\n",
    "                    for obs in newmodel.o:\n",
    "                        if qnode == qnodeprime and qnode == actionn and obs == 1:\n",
    "                            newmodel.x[qnodeprime,actionn,qnode,obs] = 1\n",
    "                            # print(f\"being in {qnode} having chosen {actionn} and observed {obs} we stay in {qnodeprime}\", newmodel.x[qnodeprime,actionn,qnode,obs].value)\n",
    "                        elif qnode != qnodeprime and qnode == actionn and obs == 0:\n",
    "                            newmodel.x[qnodeprime,actionn,qnode,obs] = 1 \n",
    "                            # print(f\"being in {qnode} having chosen {actionn} and observed {obs} we shift to {qnodeprime}\",newmodel.x[qnodeprime,actionn,qnode,obs].value)\n",
    "                        else:\n",
    "                            newmodel.x[qnodeprime,actionn,qnode,obs] = 0\n",
    "                            # print(f\"being in {qnode} having chosen {actionn} and observed {obs} we don't go to {qnodeprime}\",newmodel.x[qnodeprime,actionn,qnode,obs].value)\n",
    "        newmodel.x.pprint() "
   ]
  },
  {
   "cell_type": "code",
   "execution_count": 36,
   "metadata": {},
   "outputs": [],
   "source": [
    "opt = SolverFactory('ipopt')\n",
    "# opt.options[\"print_user_options\"] = \"yes\"\n",
    "# opt.options[\"print_options_documentation\"] = \"yes\"\n",
    "es = opt.solve(newmodel) \n",
    "# print(res.write())\n",
    "# opt.solve(newmodel, tee=True).write()\n",
    "# newmodel.display()\n",
    "# newmodel.y.pprint()\n",
    "# newmodel.x.pprint()\n",
    "# newmodel.pprint()"
   ]
  },
  {
   "cell_type": "markdown",
   "metadata": {},
   "source": [
    "# Creating Solution dataframes"
   ]
  },
  {
   "cell_type": "code",
   "execution_count": 34,
   "metadata": {},
   "outputs": [
    {
     "data": {
      "text/html": [
       "<div>\n",
       "<style scoped>\n",
       "    .dataframe tbody tr th:only-of-type {\n",
       "        vertical-align: middle;\n",
       "    }\n",
       "\n",
       "    .dataframe tbody tr th {\n",
       "        vertical-align: top;\n",
       "    }\n",
       "\n",
       "    .dataframe thead th {\n",
       "        text-align: right;\n",
       "    }\n",
       "</style>\n",
       "<table border=\"1\" class=\"dataframe\">\n",
       "  <thead>\n",
       "    <tr style=\"text-align: right;\">\n",
       "      <th>(q,s)</th>\n",
       "      <th>(0, 0)</th>\n",
       "      <th>(0, 1)</th>\n",
       "      <th>(1, 0)</th>\n",
       "      <th>(1, 1)</th>\n",
       "      <th>mean value</th>\n",
       "    </tr>\n",
       "  </thead>\n",
       "  <tbody>\n",
       "    <tr>\n",
       "      <th>V(q,s)</th>\n",
       "      <td>1.0</td>\n",
       "      <td>1.0</td>\n",
       "      <td>1.0</td>\n",
       "      <td>1.0</td>\n",
       "      <td>1.0</td>\n",
       "    </tr>\n",
       "  </tbody>\n",
       "</table>\n",
       "</div>"
      ],
      "text/plain": [
       "(q,s)  (0, 0) (0, 1) (1, 0) (1, 1)  mean value\n",
       "V(q,s)    1.0    1.0    1.0    1.0         1.0"
      ]
     },
     "execution_count": 34,
     "metadata": {},
     "output_type": "execute_result"
    }
   ],
   "source": [
    "def value_dataframe(newmodely,horiz=False):\n",
    "    optimal_y = {\"(q,s)\": [key for key in newmodely.get_values().keys()],\n",
    "                  \"V(q,s)\": [newmodely.get_values()[key] for key in newmodely.get_values().keys()]}\n",
    "    if horiz:\n",
    "        optimal_y_df = pd.DataFrame(optimal_y).T   \n",
    "        # specify column names\n",
    "        optimal_y_df.columns = optimal_y_df.iloc[0]\n",
    "        # drop extra row\n",
    "        optimal_y_df = optimal_y_df.drop(optimal_y_df.index[0])\n",
    "        # add mean value\n",
    "        optimal_y_df.insert(len(optimal_y_df.columns),\"mean value\",float(optimal_y_df.mean(axis=1)[0]))\n",
    "    else:\n",
    "        optimal_y_df = pd.DataFrame(optimal_y)\n",
    "        # set index\n",
    "        optimal_y_df = optimal_y_df.set_index(\"(q,s)\")\n",
    "        # add mean value\n",
    "        optimal_y_df.loc[\"mean value\"] = float(optimal_y_df.mean(axis=1)[0])\n",
    "    return optimal_y_df\n",
    "\n",
    "optimal_ydf = value_dataframe(newmodel.y,horiz=True)\n",
    "optimal_ydf"
   ]
  },
  {
   "cell_type": "code",
   "execution_count": 17,
   "metadata": {},
   "outputs": [
    {
     "data": {
      "text/html": [
       "<div>\n",
       "<style scoped>\n",
       "    .dataframe tbody tr th:only-of-type {\n",
       "        vertical-align: middle;\n",
       "    }\n",
       "\n",
       "    .dataframe tbody tr th {\n",
       "        vertical-align: top;\n",
       "    }\n",
       "\n",
       "    .dataframe thead th {\n",
       "        text-align: right;\n",
       "    }\n",
       "</style>\n",
       "<table border=\"1\" class=\"dataframe\">\n",
       "  <thead>\n",
       "    <tr style=\"text-align: right;\">\n",
       "      <th>(q,s)</th>\n",
       "      <th>(0, 0)</th>\n",
       "      <th>(0, 1)</th>\n",
       "      <th>(1, 0)</th>\n",
       "      <th>(1, 1)</th>\n",
       "      <th>mean value</th>\n",
       "    </tr>\n",
       "  </thead>\n",
       "  <tbody>\n",
       "    <tr>\n",
       "      <th>V_WSLS(q,s)</th>\n",
       "      <td>1.47</td>\n",
       "      <td>0.87</td>\n",
       "      <td>0.87</td>\n",
       "      <td>1.47</td>\n",
       "      <td>1.17</td>\n",
       "    </tr>\n",
       "  </tbody>\n",
       "</table>\n",
       "</div>"
      ],
      "text/plain": [
       "(q,s)       (0, 0) (0, 1) (1, 0) (1, 1)  mean value\n",
       "V_WSLS(q,s)   1.47   0.87   0.87   1.47        1.17"
      ]
     },
     "execution_count": 17,
     "metadata": {},
     "output_type": "execute_result"
    }
   ],
   "source": [
    "value_WSLS = [{\"(q,s)\":(qi,si), \"V_WSLS(q,s)\": 1.47 if qi == si else 0.87}\n",
    "            for (qi,si) in product(range(2),range(2))]\n",
    "value_WSLSdf = pd.DataFrame(value_WSLS).T\n",
    "value_WSLSdf.columns = value_WSLSdf.iloc[0]\n",
    "value_WSLSdf.drop(value_WSLSdf.index[0], inplace=True)\n",
    "value_WSLSdf.insert(len(value_WSLSdf.columns),\"mean value\",float(value_WSLSdf.mean(axis=1)[0]))\n",
    "value_WSLSdf"
   ]
  },
  {
   "cell_type": "code",
   "execution_count": 35,
   "metadata": {},
   "outputs": [
    {
     "data": {
      "text/html": [
       "<div>\n",
       "<style scoped>\n",
       "    .dataframe tbody tr th:only-of-type {\n",
       "        vertical-align: middle;\n",
       "    }\n",
       "\n",
       "    .dataframe tbody tr th {\n",
       "        vertical-align: top;\n",
       "    }\n",
       "\n",
       "    .dataframe thead th {\n",
       "        text-align: right;\n",
       "    }\n",
       "</style>\n",
       "<table border=\"1\" class=\"dataframe\">\n",
       "  <thead>\n",
       "    <tr style=\"text-align: right;\">\n",
       "      <th>(a,q)</th>\n",
       "      <th>(0, 0)</th>\n",
       "      <th>(0, 1)</th>\n",
       "      <th>(1, 0)</th>\n",
       "      <th>(1, 1)</th>\n",
       "    </tr>\n",
       "  </thead>\n",
       "  <tbody>\n",
       "    <tr>\n",
       "      <th>P(a | q)</th>\n",
       "      <td>0.5</td>\n",
       "      <td>0.5</td>\n",
       "      <td>0.5</td>\n",
       "      <td>0.5</td>\n",
       "    </tr>\n",
       "  </tbody>\n",
       "</table>\n",
       "</div>"
      ],
      "text/plain": [
       "(a,q)    (0, 0) (0, 1) (1, 0) (1, 1)\n",
       "P(a | q)    0.5    0.5    0.5    0.5"
      ]
     },
     "execution_count": 35,
     "metadata": {},
     "output_type": "execute_result"
    }
   ],
   "source": [
    "def actionselect_nodetrans(newmodelx, horiz_action = False, horiz_trans = False):\n",
    "    nodetrans = {}\n",
    "    actionselect = {}\n",
    "\n",
    "    for key in newmodel.x.get_values():\n",
    "        index = key[1:]\n",
    "        actionselect[key[1:3]] = sum(newmodel.x.get_values()[key] for key in newmodel.x.get_values() if key[1:] == index)\n",
    "        nodetrans[key] = 0 \n",
    "        if actionselect[key[1:3]] != 0:\n",
    "            nodetrans[key] = newmodel.x.get_values()[key] / actionselect[key[1:3]]\n",
    "    \n",
    "    \n",
    "    actionselectdict = [{\"(a,q)\": key, \"P(a | q)\": actionselect[key]}for key in actionselect.keys()]\n",
    "    if horiz_action:\n",
    "        actionselectdf = pd.DataFrame(actionselectdict).T\n",
    "        actionselectdf.columns = actionselectdf.iloc[0]\n",
    "        actionselectdf.drop(actionselectdf.index[0], inplace=True)\n",
    "    else:\n",
    "        actionselectdf = pd.DataFrame(actionselectdict)\n",
    "        actionselectdf = actionselectdf.set_index(\"(a,q)\")\n",
    "    \n",
    "    nodetransdict = [{\"(q',a,q,o)\": key, \"P(q' | q, a, o)\": round(nodetrans[key],3), \"P(q',a | q,o)\": round(value(newmodel.x[key]),3)}for key in nodetrans.keys()]\n",
    "    nodetransdf = pd.DataFrame(nodetransdict)\n",
    "    nodetransdf.set_index(\"(q',a,q,o)\", inplace=True)\n",
    "    if horiz_trans:\n",
    "        nodetransdf = pd.DataFrame(nodetransdict).T\n",
    "        nodetransdf.columns = nodetransdf.iloc[0]\n",
    "        nodetransdf.drop(nodetransdf.index[0], inplace=True)\n",
    "    else:\n",
    "        nodetransdf = pd.DataFrame(nodetransdict)\n",
    "        nodetransdf.set_index(\"(q',a,q,o)\", inplace=True)\n",
    "    \n",
    "    return actionselectdf, nodetransdf\n",
    "\n",
    "adf, ndf = actionselect_nodetrans(newmodel.x, horiz_action=True,horiz_trans=False)\n",
    "adf"
   ]
  },
  {
   "cell_type": "markdown",
   "metadata": {},
   "source": [
    "# Graph visualizations"
   ]
  },
  {
   "cell_type": "code",
   "execution_count": 676,
   "metadata": {},
   "outputs": [
    {
     "name": "stdout",
     "output_type": "stream",
     "text": [
      "[(6.123233995736766e-17, 1.0), (-0.8660254037844388, -0.4999999999999997), (0.8660254037844384, -0.5000000000000004)]\n"
     ]
    },
    {
     "data": {
      "image/png": "[encoded data removed]",
      "text/plain": [
       "<Figure size 640x480 with 1 Axes>"
      ]
     },
     "metadata": {},
     "output_type": "display_data"
    }
   ],
   "source": [
    "def action_node_pos(number_actions,origin, radius = 1, angle = 0):\n",
    "    angle_increment = np.divide(np.multiply(2 , np.pi) , number_actions)\n",
    "    action_pos = []\n",
    "    for i in range(number_actions):\n",
    "        action_pos.append((np.multiply(np.cos(angle),radius)+origin[0], np.multiply(np.sin(angle),radius) + origin[1]))\n",
    "        angle += angle_increment\n",
    "    return action_pos\n",
    "\n",
    "l = action_node_pos(3, (0,0), angle = np.pi/2)\n",
    "print(l)\n",
    "for i in l:\n",
    "    plt.plot(i[0], i[1], 'bo')"
   ]
  },
  {
   "cell_type": "code",
   "execution_count": 677,
   "metadata": {},
   "outputs": [
    {
     "name": "stdout",
     "output_type": "stream",
     "text": [
      "\n"
     ]
    },
    {
     "data": {
      "image/png": "[encoded data removed]",
      "text/plain": [
       "<Figure size 640x480 with 1 Axes>"
      ]
     },
     "metadata": {},
     "output_type": "display_data"
    }
   ],
   "source": [
    "nodes = [ \"q\" + str(i) for i in q]\n",
    "states = [\"s\" + str(i) for i in s]\n",
    "actions = [\"a\" + str(i) for i in a]\n",
    "observations = [\"o\" + str(i) for i in o]\n",
    "\n",
    "# Create action selection graph\n",
    "G = nx.MultiDiGraph() # multi directed graph\n",
    "print()\n",
    "# action node list\n",
    "actionnodelist = []\n",
    "\n",
    "# dictionary for labels\n",
    "labels_dict = {}\n",
    "\n",
    "for qnode in nodes:\n",
    "    G.add_node(qnode)\n",
    "    labels_dict[qnode] = qnode\n",
    "    for actionnode in actions:\n",
    "        G.add_node((actionnode, qnode))\n",
    "        actionnodelist.append((actionnode, qnode))\n",
    "        labels_dict[(actionnode, qnode)] = actionnode\n",
    "        G.add_edge(qnode, (actionnode, qnode), probability = actionselect[(int(actionnode[1]), int(qnode[1]))])\n",
    "\n",
    "# radius surrounding origin for controller nodes\n",
    "radius1 = 1\n",
    "# radius surrounding controller node for action nodes\n",
    "radius2 = 0.5\n",
    "\n",
    "qnodepos = action_node_pos(len(nodes),origin = (0,0), radius = radius1)\n",
    "\n",
    "pos = {}\n",
    "\n",
    "for qnode in nodes:\n",
    "    pos[qnode] = qnodepos.pop(0)\n",
    "    i = 0\n",
    "    # position action nodes surrounding the controller node\n",
    "    actionnodepos = action_node_pos(len(actions), pos[qnode], radius = radius2)\n",
    "    for actionnode in actions:\n",
    "        pos[(actionnode, qnode)] = actionnodepos[i]\n",
    "        i += 1\n",
    "\n",
    "# Draw nodes\n",
    "# controller nodes\n",
    "nx.draw_networkx_nodes(G, pos,nodes, node_size=1000, node_color='skyblue')\n",
    "# action nodes\n",
    "nx.draw_networkx_nodes(G, pos,actionnodelist, node_size=500, node_color='red')\n",
    "\n",
    " \n",
    "# Draw edges\n",
    "widthlist = [G[e[0]][e[1]][0]['probability'] for e in G.edges]\n",
    "nx.draw_networkx_edges(G, pos, width=widthlist, arrows=True,  connectionstyle='arc3, rad = 0.3', arrowsize = 15)\n",
    "\n",
    "# Draw labels\n",
    "nx.draw_networkx_labels(G, pos,labels = labels_dict, font_size=10, font_family=\"sans-serif\")\n",
    "\n",
    "\n",
    "plt.title('Action Selection')\n",
    "plt.show()\n"
   ]
  },
  {
   "cell_type": "code",
   "execution_count": 678,
   "metadata": {},
   "outputs": [
    {
     "name": "stdout",
     "output_type": "stream",
     "text": [
      "[(0.25, 0), (-0.25, 0), (0.75, 0), (-0.75, 0), (1.25, 0), (-1.25, 0)]\n"
     ]
    },
    {
     "data": {
      "image/png": "[encoded data removed]",
      "text/plain": [
       "<Figure size 640x480 with 1 Axes>"
      ]
     },
     "metadata": {},
     "output_type": "display_data"
    }
   ],
   "source": [
    "def horiz_pos(number_nodes, space = 1, origin = (0,0)):\n",
    "    qnode_pos_list = []\n",
    "    if number_nodes % 2 == 0:\n",
    "        qnode_pos_list.append((origin[0] + space * 0.5, origin[1]))\n",
    "        qnode_pos_list.append((origin[0] - space * 0.5, origin[1]))\n",
    "        for i in range(1,number_nodes //2):\n",
    "            qnode_pos_list.append((qnode_pos_list[0][0] + (i)* space, qnode_pos_list[0][1] ))\n",
    "            qnode_pos_list.append((qnode_pos_list[1][0] - (i)*space, qnode_pos_list[1][1] ))\n",
    "    else:\n",
    "        qnode_pos_list.append(origin)\n",
    "        for i in range(number_nodes // 2):\n",
    "            qnode_pos_list.append((origin[0] + (i+1) * space, origin[1] ))\n",
    "            qnode_pos_list.append((origin[0] - (i+1) * space, origin[1] ))\n",
    "    return qnode_pos_list\n",
    "    \n",
    "l = horiz_pos(6, space = 0.5, origin = (0,0))\n",
    "print(l)\n",
    "for i in l:\n",
    "    plt.plot(i[0], i[1], 'bo', label='A')"
   ]
  },
  {
   "cell_type": "code",
   "execution_count": 679,
   "metadata": {},
   "outputs": [
    {
     "data": {
      "image/png": "[encoded data removed]",
      "text/plain": [
       "<Figure size 640x480 with 1 Axes>"
      ]
     },
     "metadata": {},
     "output_type": "display_data"
    }
   ],
   "source": [
    "nodesprime = [qnode + \"\\'\" for qnode in nodes]\n",
    "# create transition graph\n",
    "G1 = nx.MultiDiGraph() \n",
    "\n",
    "# create controller nodes (q')\n",
    "for qprime in nodesprime:\n",
    "    G1.add_node(qprime)\n",
    "    \n",
    "# transition node list\n",
    "transnodelist = []\n",
    "\n",
    "# create (a,q,o) nodes and add edges to q' nodes\n",
    "for qnode in nodes:\n",
    "    for actionnode in actions:\n",
    "        for observation in observations:\n",
    "            G1.add_node((actionnode, qnode, observation))\n",
    "            transnodelist.append((actionnode, qnode, observation))\n",
    "            for qprime in nodesprime:\n",
    "                G1.add_edge((actionnode, qnode, observation), qprime , probability = nodetrans[(int(qprime[1]), int(actionnode[1]), int(qnode[1]), int(observation[1]))])\n",
    "\n",
    "# positions for controller nodes (q')\n",
    "space_nodes = 1\n",
    "# position nodes horizontally with space_nodes between them\n",
    "nodepos = horiz_pos(len(nodes), space = space_nodes)\n",
    "for qprime in nodesprime:\n",
    "    pos[qprime] = nodepos.pop(0)\n",
    "\n",
    "# positions for (a,q,o) nodes\n",
    "radius = len(nodesprime) * space_nodes / 1.5\n",
    "# position (a,q,o) nodes circularly around the controller nodes (q')\n",
    "nodetranspos = action_node_pos(len(actions)* len(nodes) * len(observations), (0,0), radius)\n",
    "for qnode in nodes:\n",
    "    for actionnode in actions:\n",
    "        for observation in observations:\n",
    "            pos[(actionnode, qnode, observation)] = nodetranspos.pop(0)\n",
    "\n",
    "# Draw nodes\n",
    "nx.draw_networkx_nodes(G1, pos,nodesprime, node_size=600, node_color='skyblue')\n",
    "nx.draw_networkx_nodes(G1, pos,transnodelist, node_size=2000, node_color='red')\n",
    "\n",
    "# Draw labels\n",
    "aq_labels = {currnode: currnode for currnode in G1.nodes if type(currnode) == str}\n",
    "aq_labels = {currnode: (str(currnode[0]) + ',' + str(currnode[1]) + ',' + str(currnode[2])  if type(currnode) == tuple else currnode ) for currnode in G1.nodes} \n",
    "nx.draw_networkx_labels(G1, pos,aq_labels, font_size=9, font_family=\"sans-serif\")\n",
    "\n",
    "# Draw edges\n",
    "\n",
    "width_prob = [G1[e[0]][e[1]][0]['probability'] for e in G1.edges()]\n",
    "nx.draw_networkx_edges(G1, pos, width= width_prob , arrows=True, connectionstyle='arc3, rad = 0.3', arrowsize = 20)\n",
    "\n",
    "# plt.axis('off')\n",
    "plt.title('Controller Node Transtiion')\n",
    "plt.show()\n"
   ]
  },
  {
   "cell_type": "markdown",
   "metadata": {},
   "source": [
    "# Generating instances"
   ]
  },
  {
   "cell_type": "code",
   "execution_count": 680,
   "metadata": {},
   "outputs": [],
   "source": [
    "def opt_instances(num_nodes_list, num_instances_for_each_numnodes,num_states, num_actions, num_observations, num_nodes, b0, gamma, state_transition_model, reward_model, observation_model):\n",
    "    sol = {}\n",
    "    for num_node in num_nodes_list:\n",
    "        sol[num_node] = {}\n",
    "        for instance in range(num_instances_for_each_numnodes):\n",
    "            sol[num_node][instance] = {}\n",
    "            # call qclp funct\n",
    "            newmodel = qclp_formulation(num_states, num_actions, num_observations, num_nodes, b0, gamma, state_transition_model, reward_model, observation_model)\n",
    "            # generate x values randomly\n",
    "            for qnode in newmodel.q:\n",
    "                left_in_prob_a = 1\n",
    "                for actionn in range(num_actions):\n",
    "                    if actionn == num_actions - 1:\n",
    "                        prob_a_q = left_in_prob_a\n",
    "                        # left_in_prob_a -= prob_a_q\n",
    "                    else:\n",
    "                        prob_a_q = random.uniform(0, left_in_prob_a)\n",
    "                        left_in_prob_a -= prob_a_q\n",
    "                    for obs in newmodel.o:\n",
    "                        left_in_prob_qprime = 1\n",
    "                        for qnodeprime in range(num_nodes):\n",
    "                            if qnodeprime == num_nodes - 1:\n",
    "                                prob_qprime = left_in_prob_qprime\n",
    "                                # left_in_prob_qprime -= prob_qprime\n",
    "                            else:\n",
    "                                prob_qprime = random.uniform(0, left_in_prob_qprime)\n",
    "                                # print(f\"prob_qprime {prob_qprime}\")\n",
    "                                left_in_prob_qprime -= prob_qprime\n",
    "                            newmodel.x[qnodeprime,actionn,qnode,obs] = prob_qprime * prob_a_q\n",
    "                #         print(f\"left in prob qprime {left_in_prob_qprime}\")\n",
    "                # print(f\"left in prob a{left_in_prob_a}\")\n",
    "            # print(newmodel.x.get_values())\n",
    "            # print([sum(newmodel.x.get_values()[key] for key in newmodel.x.get_values() if key[2:] == index) for index in product(newmodel.o,range(num_nodes))])\n",
    "            # call opt\n",
    "            opt = SolverFactory('ipopt')\n",
    "            opt.solve(newmodel)\n",
    "            # save results\n",
    "            sol[num_node][instance] = {\"model\": newmodel,\"objective function\": newmodel.obj, \"optimal_y\": newmodel.y.get_values(), \"optimal_x\": newmodel.x.get_values(), \"mean value of nodes\": sum(newmodel.y.get_values().values()) / len(newmodel.y.get_values())}\n",
    "        sol[num_node][\"mean value of nodes for size of controller\"] = sum(sol[num_node][instance][\"mean value of nodes\"] for instance in range(num_instances_for_each_numnodes)) / num_instances_for_each_numnodes\n",
    "    return sol"
   ]
  },
  {
   "cell_type": "code",
   "execution_count": 690,
   "metadata": {},
   "outputs": [],
   "source": [
    "sol = opt_instances([1,2,3,4,5], 3,num_states, num_actions, num_observations, num_nodes, b0, gamma, state_transition_model, reward_model, observation_model)"
   ]
  },
  {
   "cell_type": "code",
   "execution_count": 691,
   "metadata": {},
   "outputs": [
    {
     "data": {
      "text/plain": [
       "1    1.17998\n",
       "2    1.17998\n",
       "3    1.17998\n",
       "4    1.17998\n",
       "5    1.17998\n",
       "Name: mean value of nodes for size of controller, dtype: object"
      ]
     },
     "execution_count": 691,
     "metadata": {},
     "output_type": "execute_result"
    }
   ],
   "source": [
    "sdf = pd.DataFrame(sol)\n",
    "sdf.iloc[3]"
   ]
  }
 ],
 "metadata": {
  "kernelspec": {
   "display_name": "base",
   "language": "python",
   "name": "python3"
  },
  "language_info": {
   "codemirror_mode": {
    "name": "ipython",
    "version": 3
   },
   "file_extension": ".py",
   "mimetype": "text/x-python",
   "name": "python",
   "nbconvert_exporter": "python",
   "pygments_lexer": "ipython3",
   "version": "3.11.5"
  }
 },
 "nbformat": 4,
 "nbformat_minor": 2
}
