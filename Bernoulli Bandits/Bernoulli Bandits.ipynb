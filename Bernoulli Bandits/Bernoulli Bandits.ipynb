{
 "cells": [
  {
   "cell_type": "markdown",
   "metadata": {},
   "source": [
    "In this notebook we'll solve the Bernoulli Bandits problem using the QCLP formulation presented in the paper below:\n",
    "https://www.ijcai.org/Proceedings/07/Papers/389.pdf\n",
    "\n",
    "I'll also be borrowing from this video and the code presented in it:\n",
    "https://www.youtube.com/watch?v=8GuQAfyvWYc&list=PLRwcSE2bmyBxc9u_tV65sZTGy729nqgiv&index=16&ab_channel=ICTPQuantitativeLifeSciences"
   ]
  },
  {
   "cell_type": "code",
   "execution_count": 1,
   "metadata": {},
   "outputs": [],
   "source": [
    "from pyomo.environ import *\n",
    "from itertools import product\n",
    "import numpy as np\n",
    "import random\n",
    "import matplotlib.pyplot as plt\n",
    "import pandas as pd\n",
    "import sys\n",
    "# append a new directory to sys.path\n",
    "sys.path.append(\"c:\\\\Users\\\\Tassili\\\\Desktop\\\\FSC-optimization-main\")\n",
    "from QCLP_formulation import qclp_formulation"
   ]
  },
  {
   "cell_type": "markdown",
   "metadata": {},
   "source": [
    "# Two-armed Bernoulli Bandits...\n",
    "\n",
    "* Credits: Andrea Mazzolini, Alberto Pezzotta*\n",
    "\n",
    "In the standard \"two-armed Bernoulli Bandits\" we can pull one of the two arms of a bandit (slot-machine) $a\\in \\lbrace 1,2 \\rbrace$. Both the arms provide a Bernoulli-distributed reward: $r = 1$ with probability $q_i$, $r = 0$ with $1-q_i$, where $i \\in \\lbrace 1,2 \\rbrace$.\n",
    "\n",
    "<div>\n",
    "<img src=\"Bandits.PNG\" width=\"400\">\n",
    "</div>"
   ]
  },
  {
   "cell_type": "markdown",
   "metadata": {},
   "source": [
    "In the most general case, there is a whole 2D space of possible bandits.\n",
    "Each point correspond to a single state, that is a single realization of the two-bandits above.\n",
    "\n",
    "<div>\n",
    "<img src=\"BeliefSpace.PNG\" width=\"400\">\n",
    "</div>\n",
    "Solving each problem is trivial: we just use the arm with larger success probability."
   ]
  },
  {
   "cell_type": "markdown",
   "metadata": {},
   "source": [
    "In our case we'll choose to focus on two symmetric states (A,B) of this square where we have the following probabilities:\n",
    "* Probability of winning in state A having chosen action (arm) 1: $P(r = 1 \\,|\\, s= A, a=1) = \\theta$ \n",
    "* Probability of winning in state A having chosen action (arm) 2: $P(r = 1 \\,|\\, s= A, a=2) = 1 - \\theta$ \n",
    "* Probability of winning in state B having chosen action (arm) 1: $P(r = 1 \\,|\\, s= B, a=1) = 1 - \\theta$ \n",
    "* Probability of winning in state B having chosen action (arm) 2: $P(r = 1 \\,|\\, s= B, a=2) = \\theta$ "
   ]
  },
  {
   "cell_type": "markdown",
   "metadata": {},
   "source": [
    "Upon choosing $\\theta$ we get the two states:"
   ]
  },
  {
   "cell_type": "code",
   "execution_count": 2,
   "metadata": {},
   "outputs": [
    {
     "data": {
      "image/png": "[encoded data removed]",
      "text/plain": [
       "<Figure size 640x480 with 1 Axes>"
      ]
     },
     "metadata": {},
     "output_type": "display_data"
    }
   ],
   "source": [
    "thetatest = 0.6\n",
    "# Define the coordinates of the two points\n",
    "point1 = (thetatest, 1- thetatest)\n",
    "point2 = (1- thetatest, thetatest)\n",
    "\n",
    "# Extract x and y coordinates of each point\n",
    "x1, y1 = point1\n",
    "x2, y2 = point2\n",
    "\n",
    "# Plot the points\n",
    "plt.plot(x1, y1, 'bo', label='A')\n",
    "plt.plot(x2, y2, 'ro', label='B')\n",
    "plt.plot([0, 1], [0, 1], 'g--', label='x=y line')\n",
    "\n",
    "# Set plot limits\n",
    "plt.xlim(0, 1)\n",
    "plt.ylim(0, 1)\n",
    "\n",
    "# Add grid\n",
    "plt.grid(True)\n",
    "\n",
    "# Add labels and legend\n",
    "plt.xlabel('$q_1$')\n",
    "plt.ylabel('$q_2$')\n",
    "plt.title('2D space of possible bandits')\n",
    "plt.legend()\n",
    "\n",
    "# Show plot\n",
    "plt.show()\n"
   ]
  },
  {
   "cell_type": "markdown",
   "metadata": {},
   "source": [
    "Following this we define our POMDP parameter values"
   ]
  },
  {
   "cell_type": "code",
   "execution_count": 3,
   "metadata": {},
   "outputs": [],
   "source": [
    "#Define POMDP parameters\n",
    "\n",
    "num_states = 2 # Number of states\n",
    "num_actions = 2 # Number of actions\n",
    "num_observations = 2 # Number of observations\n",
    "\n",
    "s = list(range(num_states))  # state A & B\n",
    "a = list(range(num_actions)) # pull arm 1 or pull arm 2\n",
    "o = list(range(num_observations))  # recieve reward 1 or 0\n",
    "\n",
    "b0 = np.ones((num_states)) / num_states # uniform initial distribution over states\n",
    "gamma = 0.9 # Discount factor \n",
    "theta = 0.8 # Bernoulli parameter for the reward\n",
    "\n",
    "# P(s'|s,a) in this case equals 1 when s' = s and 0 otherwise\n",
    "state_transition_model = np.zeros((num_states, num_actions, num_states)) \n",
    "for state, sprime, action in product(s,s,a):\n",
    "    if state ==  sprime:\n",
    "        state_transition_model[sprime, action, state] = 1\n",
    "\n",
    "# R(s,a), since the reward is stochastic we take instead the average reward for each arm and state\n",
    "reward_model = np.zeros((num_states, num_actions))\n",
    "# state A\n",
    "reward_model[0, 0], reward_model[0, 1] = theta, 1 - theta\n",
    "# state B\n",
    "reward_model[1, 0], reward_model[1, 1] = 1 - theta, theta\n",
    "\n",
    "def bernoulliprob(p,y):\n",
    "    return p**y * (1-p)**(1-y)\n",
    "\n",
    "# O(o|s',a) the probability of observing reward o in state s' after taking action a\n",
    "observation_model = np.zeros((num_states, num_actions, num_observations)) \n",
    "for state, action, observation in product(s,a,o):\n",
    "    if state == action:\n",
    "        observation_model[state,action,observation] = bernoulliprob(theta, observation)\n",
    "    else:\n",
    "        observation_model[state,action,observation] = bernoulliprob(1-theta, observation)\n"
   ]
  },
  {
   "cell_type": "markdown",
   "metadata": {},
   "source": [
    "Visualizing POMDP parameter values"
   ]
  },
  {
   "cell_type": "code",
   "execution_count": 4,
   "metadata": {},
   "outputs": [
    {
     "data": {
      "text/html": [
       "<div>\n",
       "<style scoped>\n",
       "    .dataframe tbody tr th:only-of-type {\n",
       "        vertical-align: middle;\n",
       "    }\n",
       "\n",
       "    .dataframe tbody tr th {\n",
       "        vertical-align: top;\n",
       "    }\n",
       "\n",
       "    .dataframe thead th {\n",
       "        text-align: right;\n",
       "    }\n",
       "</style>\n",
       "<table border=\"1\" class=\"dataframe\">\n",
       "  <thead>\n",
       "    <tr style=\"text-align: right;\">\n",
       "      <th></th>\n",
       "      <th>Transition probability</th>\n",
       "    </tr>\n",
       "    <tr>\n",
       "      <th>(s',a,s)</th>\n",
       "      <th></th>\n",
       "    </tr>\n",
       "  </thead>\n",
       "  <tbody>\n",
       "    <tr>\n",
       "      <th>('A', 1, 'A')</th>\n",
       "      <td>1.0</td>\n",
       "    </tr>\n",
       "    <tr>\n",
       "      <th>('A', 1, 'B')</th>\n",
       "      <td>0.0</td>\n",
       "    </tr>\n",
       "    <tr>\n",
       "      <th>('A', 2, 'A')</th>\n",
       "      <td>1.0</td>\n",
       "    </tr>\n",
       "    <tr>\n",
       "      <th>('A', 2, 'B')</th>\n",
       "      <td>0.0</td>\n",
       "    </tr>\n",
       "    <tr>\n",
       "      <th>('B', 1, 'A')</th>\n",
       "      <td>0.0</td>\n",
       "    </tr>\n",
       "    <tr>\n",
       "      <th>('B', 1, 'B')</th>\n",
       "      <td>1.0</td>\n",
       "    </tr>\n",
       "    <tr>\n",
       "      <th>('B', 2, 'A')</th>\n",
       "      <td>0.0</td>\n",
       "    </tr>\n",
       "    <tr>\n",
       "      <th>('B', 2, 'B')</th>\n",
       "      <td>1.0</td>\n",
       "    </tr>\n",
       "  </tbody>\n",
       "</table>\n",
       "</div>"
      ],
      "text/plain": [
       "               Transition probability\n",
       "(s',a,s)                             \n",
       "('A', 1, 'A')                     1.0\n",
       "('A', 1, 'B')                     0.0\n",
       "('A', 2, 'A')                     1.0\n",
       "('A', 2, 'B')                     0.0\n",
       "('B', 1, 'A')                     0.0\n",
       "('B', 1, 'B')                     1.0\n",
       "('B', 2, 'A')                     0.0\n",
       "('B', 2, 'B')                     1.0"
      ]
     },
     "execution_count": 4,
     "metadata": {},
     "output_type": "execute_result"
    }
   ],
   "source": [
    "def statename(state):\n",
    "    return 'A' if state == 0 else 'B'\n",
    "state_transition_model_dict = {\n",
    "    str((statename(sprime),action +1,statename(state))): state_transition_model[sprime,action,state]\n",
    "    for sprime,action,state in product(s,a,s)\n",
    "}\n",
    "state_transition_model_df = pd.DataFrame(state_transition_model_dict, index=['Transition probability']) \n",
    "state_transition_model_df.rename_axis(\"(s',a,s)\", axis=\"columns\").T"
   ]
  },
  {
   "cell_type": "code",
   "execution_count": 5,
   "metadata": {},
   "outputs": [
    {
     "data": {
      "text/html": [
       "<div>\n",
       "<style scoped>\n",
       "    .dataframe tbody tr th:only-of-type {\n",
       "        vertical-align: middle;\n",
       "    }\n",
       "\n",
       "    .dataframe tbody tr th {\n",
       "        vertical-align: top;\n",
       "    }\n",
       "\n",
       "    .dataframe thead th {\n",
       "        text-align: right;\n",
       "    }\n",
       "</style>\n",
       "<table border=\"1\" class=\"dataframe\">\n",
       "  <thead>\n",
       "    <tr style=\"text-align: right;\">\n",
       "      <th></th>\n",
       "      <th>Arm 1</th>\n",
       "      <th>Arm 2</th>\n",
       "    </tr>\n",
       "    <tr>\n",
       "      <th>state</th>\n",
       "      <th></th>\n",
       "      <th></th>\n",
       "    </tr>\n",
       "  </thead>\n",
       "  <tbody>\n",
       "    <tr>\n",
       "      <th>A</th>\n",
       "      <td>0.8</td>\n",
       "      <td>0.2</td>\n",
       "    </tr>\n",
       "    <tr>\n",
       "      <th>B</th>\n",
       "      <td>0.2</td>\n",
       "      <td>0.8</td>\n",
       "    </tr>\n",
       "  </tbody>\n",
       "</table>\n",
       "</div>"
      ],
      "text/plain": [
       "       Arm 1  Arm 2\n",
       "state              \n",
       "A        0.8    0.2\n",
       "B        0.2    0.8"
      ]
     },
     "execution_count": 5,
     "metadata": {},
     "output_type": "execute_result"
    }
   ],
   "source": [
    "rewarddf = pd.DataFrame(reward_model, index=['A', 'B'], columns=['Arm 1', 'Arm 2'])\n",
    "rewarddf.rename_axis(\"state\", axis=\"index\")"
   ]
  },
  {
   "cell_type": "code",
   "execution_count": 6,
   "metadata": {},
   "outputs": [
    {
     "data": {
      "text/html": [
       "<div>\n",
       "<style scoped>\n",
       "    .dataframe tbody tr th:only-of-type {\n",
       "        vertical-align: middle;\n",
       "    }\n",
       "\n",
       "    .dataframe tbody tr th {\n",
       "        vertical-align: top;\n",
       "    }\n",
       "\n",
       "    .dataframe thead th {\n",
       "        text-align: right;\n",
       "    }\n",
       "</style>\n",
       "<table border=\"1\" class=\"dataframe\">\n",
       "  <thead>\n",
       "    <tr style=\"text-align: right;\">\n",
       "      <th></th>\n",
       "      <th>Observation probability</th>\n",
       "    </tr>\n",
       "    <tr>\n",
       "      <th>(s',a,o)</th>\n",
       "      <th></th>\n",
       "    </tr>\n",
       "  </thead>\n",
       "  <tbody>\n",
       "    <tr>\n",
       "      <th>('A', 1, 0)</th>\n",
       "      <td>0.2</td>\n",
       "    </tr>\n",
       "    <tr>\n",
       "      <th>('A', 1, 1)</th>\n",
       "      <td>0.8</td>\n",
       "    </tr>\n",
       "    <tr>\n",
       "      <th>('A', 2, 0)</th>\n",
       "      <td>0.8</td>\n",
       "    </tr>\n",
       "    <tr>\n",
       "      <th>('A', 2, 1)</th>\n",
       "      <td>0.2</td>\n",
       "    </tr>\n",
       "    <tr>\n",
       "      <th>('B', 1, 0)</th>\n",
       "      <td>0.8</td>\n",
       "    </tr>\n",
       "    <tr>\n",
       "      <th>('B', 1, 1)</th>\n",
       "      <td>0.2</td>\n",
       "    </tr>\n",
       "    <tr>\n",
       "      <th>('B', 2, 0)</th>\n",
       "      <td>0.2</td>\n",
       "    </tr>\n",
       "    <tr>\n",
       "      <th>('B', 2, 1)</th>\n",
       "      <td>0.8</td>\n",
       "    </tr>\n",
       "  </tbody>\n",
       "</table>\n",
       "</div>"
      ],
      "text/plain": [
       "             Observation probability\n",
       "(s',a,o)                            \n",
       "('A', 1, 0)                      0.2\n",
       "('A', 1, 1)                      0.8\n",
       "('A', 2, 0)                      0.8\n",
       "('A', 2, 1)                      0.2\n",
       "('B', 1, 0)                      0.8\n",
       "('B', 1, 1)                      0.2\n",
       "('B', 2, 0)                      0.2\n",
       "('B', 2, 1)                      0.8"
      ]
     },
     "execution_count": 6,
     "metadata": {},
     "output_type": "execute_result"
    }
   ],
   "source": [
    "observation_model_dict = {\n",
    "    (str((statename(sprime),action +1,observation))): observation_model[sprime,action,observation]\n",
    "    for sprime,action,observation in product(s,a,o) }\n",
    "observation_model_df = pd.DataFrame(observation_model_dict, index=['Observation probability']).T\n",
    "observation_model_df.rename_axis(\"(s',a,o)\", axis=\"index\")"
   ]
  },
  {
   "cell_type": "markdown",
   "metadata": {},
   "source": [
    "FSC"
   ]
  },
  {
   "cell_type": "code",
   "execution_count": 13,
   "metadata": {},
   "outputs": [],
   "source": [
    "num_nodes = 1\n",
    "q = list(range(num_nodes)) # Nodes in the FSC\n"
   ]
  },
  {
   "cell_type": "markdown",
   "metadata": {},
   "source": [
    "# QCLP formulation\n",
    "<div>\n",
    "<img src=\"QCLP formulation.PNG\" width=\"850\">\n",
    "</div>\n",
    "Where the variable $x(q', a, q, o)$ represents $P(q', a|q, o)$, variable $y(q, s)$\n",
    "represents $V(q, s)$, $q_0$ is the initial controller node and $o_k$ is an arbitrary fixed observation\n",
    "\n",
    "Note that $P(q', a|q, o)= P(q'|q, o) P(a|q)$ \n",
    "\n",
    "And $\\sum{q'} P(q', a|q, o) = P(a|q)$"
   ]
  },
  {
   "cell_type": "code",
   "execution_count": 14,
   "metadata": {},
   "outputs": [],
   "source": [
    "newmodel = qclp_formulation(num_states, num_actions, num_observations, num_nodes, b0, gamma, state_transition_model, reward_model, observation_model)"
   ]
  },
  {
   "cell_type": "code",
   "execution_count": 15,
   "metadata": {},
   "outputs": [
    {
     "name": "stdout",
     "output_type": "stream",
     "text": [
      "# ==========================================================\n",
      "# = Solver Results                                         =\n",
      "# ==========================================================\n",
      "# ----------------------------------------------------------\n",
      "#   Problem Information\n",
      "# ----------------------------------------------------------\n",
      "Problem: \n",
      "- Lower bound: -inf\n",
      "  Upper bound: inf\n",
      "  Number of objectives: 1\n",
      "  Number of constraints: 6\n",
      "  Number of variables: 6\n",
      "  Sense: unknown\n",
      "# ----------------------------------------------------------\n",
      "#   Solver Information\n",
      "# ----------------------------------------------------------\n",
      "Solver: \n",
      "- Status: ok\n",
      "  Message: Ipopt 3.11.1\\x3a Optimal Solution Found\n",
      "  Termination condition: optimal\n",
      "  Id: 0\n",
      "  Error rc: 0\n",
      "  Time: 0.0829308032989502\n",
      "# ----------------------------------------------------------\n",
      "#   Solution Information\n",
      "# ----------------------------------------------------------\n",
      "Solution: \n",
      "- number of solutions: 0\n",
      "  number of solutions displayed: 0\n",
      "None\n"
     ]
    }
   ],
   "source": [
    "opt = SolverFactory('ipopt')\n",
    "res = opt.solve(newmodel) \n",
    "print(res.write())"
   ]
  },
  {
   "cell_type": "code",
   "execution_count": 16,
   "metadata": {},
   "outputs": [
    {
     "name": "stdout",
     "output_type": "stream",
     "text": [
      "y : Size=2, Index=y_index\n",
      "    Key    : Lower : Value              : Upper : Fixed : Stale : Domain\n",
      "    (0, 0) :  None :  4.999999999996204 :  None : False : False :  Reals\n",
      "    (0, 1) :  None : 4.9999999999961275 :  None : False : False :  Reals\n"
     ]
    }
   ],
   "source": [
    "newmodel.y.pprint()"
   ]
  },
  {
   "cell_type": "code",
   "execution_count": 17,
   "metadata": {},
   "outputs": [
    {
     "name": "stdout",
     "output_type": "stream",
     "text": [
      "x : Size=4, Index=x_index\n",
      "    Key          : Lower : Value               : Upper : Fixed : Stale : Domain\n",
      "    (0, 0, 0, 0) :   0.0 :  0.4999999999999895 :   1.0 : False : False :  Reals\n",
      "    (0, 0, 0, 1) :   0.0 : 0.49999999999999045 :   1.0 : False : False :  Reals\n",
      "    (0, 1, 0, 0) :   0.0 :  0.4999999999999756 :   1.0 : False : False :  Reals\n",
      "    (0, 1, 0, 1) :   0.0 : 0.49999999999997646 :   1.0 : False : False :  Reals\n"
     ]
    }
   ],
   "source": [
    "newmodel.x.pprint()"
   ]
  },
  {
   "cell_type": "markdown",
   "metadata": {},
   "source": [
    "# Checking code\n",
    "for the following values:\n",
    "\n",
    "number of states: 2\n",
    "\n",
    "number of actions: 2\n",
    "\n",
    "number of observations: 2\n",
    "\n",
    "$\\theta = 0.8$, $\\gamma = 0.5$, $b_0 = (0.5, 0.5)$\n",
    "\n",
    "Reward model:\n",
    "\n",
    "$R(s = A, a = 1) = P(r = 1 \\,|\\, s= A, a=1) = \\theta$  \n",
    "\n",
    "$R(s = A, a = 2) = P(r = 1 \\,|\\, s= A, a=2) = 1 - \\theta$ \n",
    "\n",
    "$R(s = B, a = 1) = P(r = 1 \\,|\\, s= B, a=1) = 1 - \\theta$ \n",
    "\n",
    "$R(s = B, a = 2) = P(r = 1 \\,|\\, s= B, a=2) = \\theta$ \n",
    "\n",
    "State transition model:\n",
    "\n",
    "$P(s'|s, a) = \\mathbb{1}_{s=s'}$ \n",
    "\n",
    "Observation model:\n",
    "\n",
    "$O(o = 1|s' = A,a = 1) = \\theta$\n",
    "\n",
    "$O(o = 1|s' = A,a = 2) = 1 - \\theta$\n",
    "\n",
    "$O(o = 1|s' = B,a = 1) = 1 - \\theta$\n",
    "\n",
    "$O(o = 1|s' = B,a = 2) = \\theta$\n",
    "\n",
    "#### Objective function given by the code:\n",
    "\n",
    "obj = $0.5*y(0,0) + 0.5*y(0,1)$\n",
    "\n",
    "#### Constraints:\n",
    "\n",
    "##### Bellman constraint:\n",
    "\n",
    "for $q = 0, s = 0$: \n",
    "\n",
    "$y[0,0] = (0.8*x[0,0,0,0] + 0.5*(0.2*x[0,0,0,0]*y[0,0] + 0.0*x[0,0,0,0]*y[0,1] + 0.8*x[0,0,0,1]*y[0,0] + 0.0*x[0,0,0,1]*y[0,1])   + 0.2*x[0,1,0,0] + 0.5*(0.8*x[0,1,0,0]*y[0,0] + 0.0*x[0,1,0,0]*y[0,1] + 0.2*x[0,1,0,1]*y[0,0] + 0.0*x[0,1,0,1]*y[0,1]))$\n",
    "\n",
    " for $q = 0, s = 1:$\n",
    " \n",
    " $y[0,1] = (0.2*x[0,0,0,0] + 0.5*(0.0*x[0,0,0,0]*y[0,0] + 0.8*x[0,0,0,0]*y[0,1] + 0.0*x[0,0,0,1]*y[0,0] + 0.2*x[0,0,0,1]*y[0,1]) + 0.8*x[0,1,0,0] + 0.5*(0.0*x[0,1,0,0]*y[0,0] + 0.2*x[0,1,0,0]*y[0,1] + 0.0*x[0,1,0,1]*y[0,0] + 0.8*x[0,1,0,1]*y[0,1]))$\n",
    "\n",
    " ##### Sum over action and resulting node:\n",
    "\n",
    " for $q = 0, o = 0:$\n",
    "\n",
    " $x[0,0,0,0] + x[0,1,0,0] == 1$\n",
    "\n",
    " for $q = 0, o = 1:$\n",
    "\n",
    " $x[0,0,0,1] + x[0,1,0,1] == 1$\n",
    "\n",
    " ##### Independence of observation:\n",
    "\n",
    " $o_k = 0$\n",
    " \n",
    "for $q = 0, a = 0, o = 0$  \n",
    "$x[0,0,0,0] == x[0,0,0,0]$\n",
    "\n",
    "for $q = 0, a = 1, o = 0$  \n",
    "$x[0,1,0,0] == x[0,1,0,0]$ \n",
    "\n",
    "for $q = 0, a = 0, o = 1$  \n",
    "$x[0,0,0,1] ==  x[0,0,0,0]$ \n",
    "\n",
    "for $q = 0, a = 1, o = 1$  \n",
    "$x[0,1,0,1] == x[0,1,0,0]$ "
   ]
  }
 ],
 "metadata": {
  "kernelspec": {
   "display_name": "base",
   "language": "python",
   "name": "python3"
  },
  "language_info": {
   "codemirror_mode": {
    "name": "ipython",
    "version": 3
   },
   "file_extension": ".py",
   "mimetype": "text/x-python",
   "name": "python",
   "nbconvert_exporter": "python",
   "pygments_lexer": "ipython3",
   "version": "3.11.5"
  }
 },
 "nbformat": 4,
 "nbformat_minor": 2
}
