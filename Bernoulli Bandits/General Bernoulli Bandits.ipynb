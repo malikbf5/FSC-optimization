{
 "cells": [
  {
   "cell_type": "markdown",
   "metadata": {},
   "source": [
    "import stuff here"
   ]
  },
  {
   "cell_type": "code",
   "execution_count": 19,
   "metadata": {},
   "outputs": [],
   "source": [
    "from pyomo.environ import *\n",
    "from itertools import product\n",
    "import numpy as np\n",
    "import random\n",
    "import matplotlib.pyplot as plt\n",
    "from matplotlib.lines import Line2D\n",
    "import pandas as pd\n",
    "import sys\n",
    "# append a new directory to sys.path\n",
    "sys.path.append(\"C:\\\\Users\\\\Tassili\\\\Documents\\\\GitHub\\\\FSC-optimization\")\n",
    "from QCLP_formulation import *\n",
    "import networkx as nx\n",
    "import os\n",
    "os.environ['NEOS_EMAIL'] = 'malikbf5@gmail.com' \n"
   ]
  },
  {
   "cell_type": "markdown",
   "metadata": {},
   "source": [
    "# General two-armed Bernoulli Bandits\n",
    "\n",
    "  Credits: Andrea Mazzolini, Alberto Pezzotta \n",
    "\n",
    "In the standard \"two-armed Bernoulli Bandits\" we can pull one of the two arms of a bandit (slot-machine) $a\\in \\lbrace 1,2 \\rbrace$. Both the arms provide a Bernoulli-distributed reward: $r = 1$ with probability $q_i$, $r = 0$ with $1-q_i$, where $i \\in \\lbrace 1,2 \\rbrace$.\n",
    "\n",
    "<div>\n",
    "<img src=\"Bandits.PNG\" width=\"200\">\n",
    "</div>"
   ]
  },
  {
   "cell_type": "markdown",
   "metadata": {},
   "source": [
    "There is a whole 2D space of possible bandits.\n",
    "Each point correspond to a single state, that is a single realization of the two-bandits above.\n",
    "\n",
    "<div>\n",
    "<img src=\"BeliefSpace.PNG\" width=\"200\">\n",
    "</div>\n",
    "Solving each problem is trivial: we just use the arm with larger success probability."
   ]
  },
  {
   "cell_type": "markdown",
   "metadata": {},
   "source": [
    "In our case we'll consider two possible states to be in (state A and B) where each state is characterized by its winning probabilities for each arm which we'll denote as $\\theta$, so state A is characterized by ($\\theta_{A,1}, \\theta_{A,2}$) and for B ($\\theta_{B,1}, \\theta_{B,2}$)"
   ]
  },
  {
   "cell_type": "markdown",
   "metadata": {},
   "source": [
    "By choosing random values of $\\theta$ for each arm we get the following states:"
   ]
  },
  {
   "cell_type": "code",
   "execution_count": 49,
   "metadata": {},
   "outputs": [
    {
     "data": {
      "image/png": "[encoded data removed]",
      "text/plain": [
       "<Figure size 300x300 with 1 Axes>"
      ]
     },
     "metadata": {},
     "output_type": "display_data"
    }
   ],
   "source": [
    "# Define the coordinates of the two points\n",
    "# point1 = np.random.uniform(0, 1, 2)\n",
    "# point2 = np.random.uniform(0, 1, 2)\n",
    "point1 = [0.4, 0.6]\n",
    "point2 = [0.6, 0.4]\n",
    "# Extract x and y coordinates of each point\n",
    "x1, y1 = point1\n",
    "x2, y2 = point2\n",
    "\n",
    "# Plot the points\n",
    "plt.plot(x1, y1, 'bo', label='A')\n",
    "plt.plot(x2, y2, 'ro', label='B')\n",
    "plt.plot([0, 1], [0, 1], 'g--', label='x=y line')\n",
    "\n",
    "# Set plot limits\n",
    "plt.xlim(0, 1)\n",
    "plt.ylim(0, 1)\n",
    "\n",
    "# Add grid\n",
    "plt.grid(True)\n",
    "\n",
    "# Add labels and legend\n",
    "plt.xlabel('$q_1$')\n",
    "plt.ylabel('$q_2$')\n",
    "plt.title('2D space of possible bandits')\n",
    "plt.legend()\n",
    "\n",
    "# set plot size\n",
    "plt.gcf().set_size_inches(3, 3)\n",
    "# Show plot\n",
    "plt.show()\n"
   ]
  },
  {
   "cell_type": "code",
   "execution_count": 50,
   "metadata": {},
   "outputs": [],
   "source": [
    "#Define POMDP \n",
    "\n",
    "num_states = 2 # Number of states\n",
    "num_actions = 2 # Number of actions\n",
    "num_observations = 2 # Number of observations\n",
    "\n",
    "s = list(range(num_states))  # state A & B\n",
    "a = list(range(num_actions)) # pull arm 1 or pull arm 2\n",
    "o = list(range(num_observations))  # recieve reward 1 or 0\n",
    "\n",
    "# P(s'|s,a) in this case equals 1 when s' = s and 0 otherwise\n",
    "state_transition_model = np.zeros((num_states, num_actions, num_states)) \n",
    "for state, sprime, action in product(s,s,a):\n",
    "    if state ==  sprime:\n",
    "        state_transition_model[sprime, action, state] = 1\n",
    "\n",
    "# R(s,a), since the reward is stochastic we take instead the average reward for each arm and state\n",
    "reward_model = np.zeros((num_states, num_actions))\n",
    "# state A\n",
    "reward_model[0, 0], reward_model[0, 1] = x1, y1\n",
    "# state B\n",
    "reward_model[1, 0], reward_model[1, 1] = x2, y2\n",
    "\n",
    "def bernoulliprob(p,y):\n",
    "    return p**y * (1-p)**(1-y)\n",
    "\n",
    "# O(o|s',a) the probability of observing reward o in state s' after taking action a\n",
    "observation_model = np.zeros((num_states, num_actions, num_observations)) \n",
    "# state A\n",
    "# if action 0 is taken\n",
    "observation_model[0, 0, 1], observation_model[0, 0, 0] = x1, 1 - x1\n",
    "# if action 1 is taken\n",
    "observation_model[0, 1, 1], observation_model[0, 1, 0] = y1, 1 - y1\n",
    "# state B\n",
    "# if action 0 is taken\n",
    "observation_model[1, 0, 1], observation_model[1, 0, 0] = x2, 1 - x2\n",
    "# if action 1 is taken\n",
    "observation_model[1, 1, 1], observation_model[1, 1, 0] = y2, 1 - y2"
   ]
  },
  {
   "cell_type": "markdown",
   "metadata": {},
   "source": [
    "Visualizing POMDP parameter values"
   ]
  },
  {
   "cell_type": "code",
   "execution_count": 51,
   "metadata": {},
   "outputs": [
    {
     "data": {
      "text/html": [
       "<div>\n",
       "<style scoped>\n",
       "    .dataframe tbody tr th:only-of-type {\n",
       "        vertical-align: middle;\n",
       "    }\n",
       "\n",
       "    .dataframe tbody tr th {\n",
       "        vertical-align: top;\n",
       "    }\n",
       "\n",
       "    .dataframe thead th {\n",
       "        text-align: right;\n",
       "    }\n",
       "</style>\n",
       "<table border=\"1\" class=\"dataframe\">\n",
       "  <thead>\n",
       "    <tr style=\"text-align: right;\">\n",
       "      <th>(s',a,s)</th>\n",
       "      <th>('A', 1, 'A')</th>\n",
       "      <th>('A', 1, 'B')</th>\n",
       "      <th>('A', 2, 'A')</th>\n",
       "      <th>('A', 2, 'B')</th>\n",
       "      <th>('B', 1, 'A')</th>\n",
       "      <th>('B', 1, 'B')</th>\n",
       "      <th>('B', 2, 'A')</th>\n",
       "      <th>('B', 2, 'B')</th>\n",
       "    </tr>\n",
       "  </thead>\n",
       "  <tbody>\n",
       "    <tr>\n",
       "      <th>Transition probability</th>\n",
       "      <td>1.0</td>\n",
       "      <td>0.0</td>\n",
       "      <td>1.0</td>\n",
       "      <td>0.0</td>\n",
       "      <td>0.0</td>\n",
       "      <td>1.0</td>\n",
       "      <td>0.0</td>\n",
       "      <td>1.0</td>\n",
       "    </tr>\n",
       "  </tbody>\n",
       "</table>\n",
       "</div>"
      ],
      "text/plain": [
       "(s',a,s)                ('A', 1, 'A')  ('A', 1, 'B')  ('A', 2, 'A')  \\\n",
       "Transition probability            1.0            0.0            1.0   \n",
       "\n",
       "(s',a,s)                ('A', 2, 'B')  ('B', 1, 'A')  ('B', 1, 'B')  \\\n",
       "Transition probability            0.0            0.0            1.0   \n",
       "\n",
       "(s',a,s)                ('B', 2, 'A')  ('B', 2, 'B')  \n",
       "Transition probability            0.0            1.0  "
      ]
     },
     "execution_count": 51,
     "metadata": {},
     "output_type": "execute_result"
    }
   ],
   "source": [
    "def statename(state):\n",
    "    return 'A' if state == 0 else 'B'\n",
    "state_transition_model_dict = {\n",
    "    str((statename(sprime),action +1,statename(state))): state_transition_model[sprime,action,state]\n",
    "    for sprime,action,state in product(s,a,s)\n",
    "}\n",
    "state_transition_model_df = pd.DataFrame(state_transition_model_dict, index=['Transition probability']) \n",
    "state_transition_model_df = state_transition_model_df.rename_axis(\"(s',a,s)\", axis=\"columns\")\n",
    "state_transition_model_df"
   ]
  },
  {
   "cell_type": "code",
   "execution_count": 52,
   "metadata": {},
   "outputs": [
    {
     "data": {
      "text/html": [
       "<div>\n",
       "<style scoped>\n",
       "    .dataframe tbody tr th:only-of-type {\n",
       "        vertical-align: middle;\n",
       "    }\n",
       "\n",
       "    .dataframe tbody tr th {\n",
       "        vertical-align: top;\n",
       "    }\n",
       "\n",
       "    .dataframe thead th {\n",
       "        text-align: right;\n",
       "    }\n",
       "</style>\n",
       "<table border=\"1\" class=\"dataframe\">\n",
       "  <thead>\n",
       "    <tr style=\"text-align: right;\">\n",
       "      <th></th>\n",
       "      <th>Arm 1</th>\n",
       "      <th>Arm 2</th>\n",
       "    </tr>\n",
       "    <tr>\n",
       "      <th>state</th>\n",
       "      <th></th>\n",
       "      <th></th>\n",
       "    </tr>\n",
       "  </thead>\n",
       "  <tbody>\n",
       "    <tr>\n",
       "      <th>A</th>\n",
       "      <td>0.4</td>\n",
       "      <td>0.6</td>\n",
       "    </tr>\n",
       "    <tr>\n",
       "      <th>B</th>\n",
       "      <td>0.6</td>\n",
       "      <td>0.4</td>\n",
       "    </tr>\n",
       "  </tbody>\n",
       "</table>\n",
       "</div>"
      ],
      "text/plain": [
       "       Arm 1  Arm 2\n",
       "state              \n",
       "A        0.4    0.6\n",
       "B        0.6    0.4"
      ]
     },
     "execution_count": 52,
     "metadata": {},
     "output_type": "execute_result"
    }
   ],
   "source": [
    "rewarddf = pd.DataFrame(reward_model, index=['A', 'B'], columns=['Arm 1', 'Arm 2'])\n",
    "rewarddf.rename_axis(\"state\", axis=\"index\")"
   ]
  },
  {
   "cell_type": "code",
   "execution_count": 53,
   "metadata": {},
   "outputs": [
    {
     "data": {
      "text/html": [
       "<div>\n",
       "<style scoped>\n",
       "    .dataframe tbody tr th:only-of-type {\n",
       "        vertical-align: middle;\n",
       "    }\n",
       "\n",
       "    .dataframe tbody tr th {\n",
       "        vertical-align: top;\n",
       "    }\n",
       "\n",
       "    .dataframe thead th {\n",
       "        text-align: right;\n",
       "    }\n",
       "</style>\n",
       "<table border=\"1\" class=\"dataframe\">\n",
       "  <thead>\n",
       "    <tr style=\"text-align: right;\">\n",
       "      <th></th>\n",
       "      <th>('A', 1, 0)</th>\n",
       "      <th>('A', 1, 1)</th>\n",
       "      <th>('A', 2, 0)</th>\n",
       "      <th>('A', 2, 1)</th>\n",
       "      <th>('B', 1, 0)</th>\n",
       "      <th>('B', 1, 1)</th>\n",
       "      <th>('B', 2, 0)</th>\n",
       "      <th>('B', 2, 1)</th>\n",
       "    </tr>\n",
       "    <tr>\n",
       "      <th>(s',a,o)</th>\n",
       "      <th></th>\n",
       "      <th></th>\n",
       "      <th></th>\n",
       "      <th></th>\n",
       "      <th></th>\n",
       "      <th></th>\n",
       "      <th></th>\n",
       "      <th></th>\n",
       "    </tr>\n",
       "  </thead>\n",
       "  <tbody>\n",
       "    <tr>\n",
       "      <th>Observation probability</th>\n",
       "      <td>0.6</td>\n",
       "      <td>0.4</td>\n",
       "      <td>0.4</td>\n",
       "      <td>0.6</td>\n",
       "      <td>0.4</td>\n",
       "      <td>0.6</td>\n",
       "      <td>0.6</td>\n",
       "      <td>0.4</td>\n",
       "    </tr>\n",
       "  </tbody>\n",
       "</table>\n",
       "</div>"
      ],
      "text/plain": [
       "                         ('A', 1, 0)  ('A', 1, 1)  ('A', 2, 0)  ('A', 2, 1)  \\\n",
       "(s',a,o)                                                                      \n",
       "Observation probability          0.6          0.4          0.4          0.6   \n",
       "\n",
       "                         ('B', 1, 0)  ('B', 1, 1)  ('B', 2, 0)  ('B', 2, 1)  \n",
       "(s',a,o)                                                                     \n",
       "Observation probability          0.4          0.6          0.6          0.4  "
      ]
     },
     "execution_count": 53,
     "metadata": {},
     "output_type": "execute_result"
    }
   ],
   "source": [
    "observation_model_dict = {\n",
    "    (str((statename(sprime),action +1,observation))): observation_model[sprime,action,observation]\n",
    "    for sprime,action,observation in product(s,a,o) }\n",
    "observation_model_df = pd.DataFrame(observation_model_dict, index=['Observation probability'])\n",
    "observation_model_df.rename_axis(\"(s',a,o)\", axis=\"index\")"
   ]
  },
  {
   "cell_type": "markdown",
   "metadata": {},
   "source": [
    "# QCLP formulation\n",
    "<div>\n",
    "<img src=\"QCLP formulation.PNG\" width=\"600\">\n",
    "</div>\n",
    "\n",
    "Where:  \n",
    "The variable $x(q', a, q, o)$ represents $P(q', a|q, o)$  \n",
    "The variable $y(q, s)$ represents $V(q, s)$  \n",
    "$q_0$ is the initial controller node  \n",
    "$o_k$ is an arbitrary fixed observation  \n",
    "\n",
    "Note that $P(q', a|q, o)= P(q'|q, a, o) \\pi(a|q)$ \n",
    "\n",
    "And $\\sum{q'} P(q', a|q, o) = \\pi(a|q)$"
   ]
  },
  {
   "cell_type": "markdown",
   "metadata": {},
   "source": [
    "Parameters <br>\n",
    "$\\gamma$: discount factor <br>\n",
    "$b_0(s)$: initial distribution of states <br>\n",
    "$\\rho(q)$: initial distribution over nodes in objective function, either $\\rho(q_0) = 1$ or uniform"
   ]
  },
  {
   "cell_type": "code",
   "execution_count": 54,
   "metadata": {},
   "outputs": [],
   "source": [
    "# discount factor\n",
    "gamma = 0.9\n",
    "\n",
    "# b_0(s)\n",
    "b0 = np.ones((num_states)) / num_states # uniform initial distribution over states\n",
    "\n",
    "# distribution over nodes\n",
    "# this fixes the objective function to maximize over y(q_0,s)\n",
    "obj = \"first node\" \n",
    "# this fixes the objective function to maximize over all y(q,s) with uniform distribution\n",
    "# obj = \"all nodes\" "
   ]
  },
  {
   "cell_type": "markdown",
   "metadata": {},
   "source": [
    "## Generating instances \n",
    "where the x variables are restarted randomly to cover more of the search space"
   ]
  },
  {
   "cell_type": "code",
   "execution_count": 55,
   "metadata": {},
   "outputs": [
    {
     "data": {
      "text/html": [
       "<div>\n",
       "<style scoped>\n",
       "    .dataframe tbody tr th:only-of-type {\n",
       "        vertical-align: middle;\n",
       "    }\n",
       "\n",
       "    .dataframe tbody tr th {\n",
       "        vertical-align: top;\n",
       "    }\n",
       "\n",
       "    .dataframe thead th {\n",
       "        text-align: right;\n",
       "    }\n",
       "</style>\n",
       "<table border=\"1\" class=\"dataframe\">\n",
       "  <thead>\n",
       "    <tr style=\"text-align: right;\">\n",
       "      <th></th>\n",
       "      <th>max obj</th>\n",
       "      <th>mean obj</th>\n",
       "      <th>mean value</th>\n",
       "      <th>mean value for nodes V(q)</th>\n",
       "      <th>mean value for states V(s)</th>\n",
       "    </tr>\n",
       "    <tr>\n",
       "      <th>controller size</th>\n",
       "      <th></th>\n",
       "      <th></th>\n",
       "      <th></th>\n",
       "      <th></th>\n",
       "      <th></th>\n",
       "    </tr>\n",
       "  </thead>\n",
       "  <tbody>\n",
       "    <tr>\n",
       "      <th>2</th>\n",
       "      <td>5.180000</td>\n",
       "      <td>5.180000</td>\n",
       "      <td>5.180</td>\n",
       "      <td>[5.18, 5.18]</td>\n",
       "      <td>[5.18, 5.18]</td>\n",
       "    </tr>\n",
       "    <tr>\n",
       "      <th>3</th>\n",
       "      <td>5.249321</td>\n",
       "      <td>5.249321</td>\n",
       "      <td>5.221</td>\n",
       "      <td>[5.25, 5.21, 5.21]</td>\n",
       "      <td>[5.14, 5.31]</td>\n",
       "    </tr>\n",
       "    <tr>\n",
       "      <th>4</th>\n",
       "      <td>5.305529</td>\n",
       "      <td>5.305529</td>\n",
       "      <td>5.270</td>\n",
       "      <td>[5.31, 5.3, 5.25, 5.22]</td>\n",
       "      <td>[5.2, 5.34]</td>\n",
       "    </tr>\n",
       "  </tbody>\n",
       "</table>\n",
       "</div>"
      ],
      "text/plain": [
       "                  max obj  mean obj  mean value mean value for nodes V(q)  \\\n",
       "controller size                                                             \n",
       "2                5.180000  5.180000       5.180              [5.18, 5.18]   \n",
       "3                5.249321  5.249321       5.221        [5.25, 5.21, 5.21]   \n",
       "4                5.305529  5.305529       5.270   [5.31, 5.3, 5.25, 5.22]   \n",
       "\n",
       "                mean value for states V(s)  \n",
       "controller size                             \n",
       "2                             [5.18, 5.18]  \n",
       "3                             [5.14, 5.31]  \n",
       "4                              [5.2, 5.34]  "
      ]
     },
     "execution_count": 55,
     "metadata": {},
     "output_type": "execute_result"
    }
   ],
   "source": [
    "number_instances = 1\n",
    "controller_size_list = [2,3,4]\n",
    "ssol = opt_instances(controller_size_list, number_instances,\n",
    "                     num_states, num_actions, num_observations, \n",
    "                     b0, gamma, state_transition_model, reward_model, \n",
    "                     observation_model, obj = obj)\n",
    "ssol[\"dataframe\"]"
   ]
  },
  {
   "cell_type": "code",
   "execution_count": 56,
   "metadata": {},
   "outputs": [
    {
     "data": {
      "text/plain": [
       "{'model': <pyomo.core.base.PyomoModel.ConcreteModel at 0x1b6bf80c730>,\n",
       " 'value df': (q,s)  (0, 0) (0, 1) (1, 0) (1, 1)  objective funct  mean value  \\\n",
       " V(q,s)   5.08   5.28   5.28   5.08             5.18        5.18   \n",
       " \n",
       " (q,s)  value for nodes V(q) value for states V(s)  \n",
       " V(q,s)         [5.18, 5.18]          [5.18, 5.18]  ,\n",
       " 'action selection df': (a,q)    (0, 0) (0, 1) (1, 0) (1, 1)\n",
       " P(a | q)    1.0    0.0    0.0    1.0,\n",
       " 'node transition df': (q',a,q,o)      (0, 0, 0, 0) (0, 0, 0, 1) (0, 0, 1, 0) (0, 0, 1, 1)  \\\n",
       " P(q' | q, a, o)          0.0          1.0          0.0          1.0   \n",
       " P(q',a | q,o)            0.0          1.0          0.0          0.0   \n",
       " \n",
       " (q',a,q,o)      (0, 1, 0, 0) (0, 1, 0, 1) (0, 1, 1, 0) (0, 1, 1, 1)  \\\n",
       " P(q' | q, a, o)          0.0          0.0          1.0          0.0   \n",
       " P(q',a | q,o)            0.0          0.0          1.0          0.0   \n",
       " \n",
       " (q',a,q,o)      (1, 0, 0, 0) (1, 0, 0, 1) (1, 0, 1, 0) (1, 0, 1, 1)  \\\n",
       " P(q' | q, a, o)          1.0          0.0          0.0          0.0   \n",
       " P(q',a | q,o)            1.0          0.0          0.0          0.0   \n",
       " \n",
       " (q',a,q,o)      (1, 1, 0, 0) (1, 1, 0, 1) (1, 1, 1, 0) (1, 1, 1, 1)  \n",
       " P(q' | q, a, o)          0.0          1.0          0.0          1.0  \n",
       " P(q',a | q,o)            0.0          0.0          0.0          1.0  ,\n",
       " 'objective': 5.18000000342235,\n",
       " 'mean value': 5.180000004441285,\n",
       " 'mean value for nodes': [5.18, 5.18],\n",
       " 'mean value for states': [5.18, 5.18]}"
      ]
     },
     "execution_count": 56,
     "metadata": {},
     "output_type": "execute_result"
    }
   ],
   "source": [
    "ssol[2][0]"
   ]
  }
 ],
 "metadata": {
  "kernelspec": {
   "display_name": "base",
   "language": "python",
   "name": "python3"
  },
  "language_info": {
   "codemirror_mode": {
    "name": "ipython",
    "version": 3
   },
   "file_extension": ".py",
   "mimetype": "text/x-python",
   "name": "python",
   "nbconvert_exporter": "python",
   "pygments_lexer": "ipython3",
   "version": "3.11.5"
  }
 },
 "nbformat": 4,
 "nbformat_minor": 2
}
