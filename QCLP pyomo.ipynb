{
 "cells": [
  {
   "cell_type": "code",
   "execution_count": 1,
   "metadata": {},
   "outputs": [],
   "source": [
    "from pyomo.environ import *"
   ]
  },
  {
   "cell_type": "code",
   "execution_count": 3,
   "metadata": {},
   "outputs": [],
   "source": [
    "from itertools import product\n",
    "import numpy as np\n",
    "import random"
   ]
  },
  {
   "cell_type": "code",
   "execution_count": 4,
   "metadata": {},
   "outputs": [],
   "source": [
    "#Define POMDP parameters\n",
    "\n",
    "num_states = 2 # Number of states\n",
    "num_actions = 3 # Number of actions\n",
    "num_observations = 2 # Number of observations\n",
    "\n",
    "s = list(range(num_states))  # Heads or Tails\n",
    "a = list(range(num_actions)) # Predict Heads, Predict Tails, Observe\n",
    "o = list(range(num_observations))  # Observed Heads, Observed Tails\n",
    "\n",
    "b0 = np.array([0.5, 0.5]) # Initial distribution over states\n",
    "gamma = 0.9 # Discount factor \n",
    "\n",
    "# P(s'|s,a)\n",
    "state_transition_model = np.ones((num_states, num_actions, num_states)) / num_states\n",
    "\n",
    "# R(s,a)\n",
    "reward_model = np.zeros((num_states, num_actions))\n",
    "reward_model[0, :-1] = [10, -1] \n",
    "reward_model[1, :-1] = [-1, 10]\n",
    "\n",
    "\n",
    "# O(o|s',a)\n",
    "observation_model = np.ones((num_states, num_actions, num_observations)) / num_observations"
   ]
  },
  {
   "cell_type": "code",
   "execution_count": 5,
   "metadata": {},
   "outputs": [],
   "source": [
    "def softmax(x: np.ndarray):\n",
    "    e = np.apply_along_axis(lambda t: np.exp(t), -1, x)\n",
    "    return x / e"
   ]
  },
  {
   "cell_type": "code",
   "execution_count": 6,
   "metadata": {},
   "outputs": [],
   "source": [
    "# Finite state controller\n",
    "\n",
    "np.random.seed(0)\n",
    "\n",
    "num_nodes = 3\n",
    "q = list(range(num_nodes)) # Nodes in the FSC\n",
    "node_transition_model = np.random.random((num_nodes, num_actions, num_nodes))\n",
    "sum_over_nodes = np.linalg.norm(node_transition_model, ord=1, axis=-1, keepdims=True) # P(q'|q,a)\n",
    "node_transition_model /= sum_over_nodes\n",
    "\n",
    "# P(a|q)\n",
    "action_selection_model = np.array([\n",
    "  [1/3, 1/3, 1/3],  \n",
    "  [0.8, 0.1, 0.1],\n",
    "  [0.1, 0.8, 0.1]\n",
    "])"
   ]
  },
  {
   "cell_type": "code",
   "execution_count": 7,
   "metadata": {},
   "outputs": [],
   "source": [
    "model = ConcreteModel()\n",
    "\n",
    "\n",
    "\n",
    "model.q = RangeSet(0,len(q)-1)\n",
    "model.a = RangeSet(0,len(a)-1)\n",
    "model.o = RangeSet(0,len(o)-1)\n",
    "model.s = RangeSet(0,len(s)-1)\n",
    "\n",
    "# Variables\n",
    "## x(q', a, q, o) = P(q', a | q, o)\n",
    "model.x = Var(model.q,model.a,model.q,model.o, bounds = (0.0,1.0))\n",
    "\n",
    "## y(q, s) = V(q , s)\n",
    "model.y = Var(model.q,model.s )\n",
    "\n",
    "# Objective\n",
    "q0 = 0\n",
    "model.Obj = Objective(expr = sum([b0[s_]*model.y[q0,s_] for s_ in s]) , sense = maximize)\n",
    "\n",
    "\n",
    "# Constraints\n",
    "## Probability constraints\n",
    "model. sum_over_action_and_qp = ConstraintList()\n",
    "for q_,o_ in product(q,o):\n",
    "    model. sum_over_action_and_qp.add(sum([model.x[qp_,a_,q_,o_] for qp_,a_ in product(q,a)]) == 1) \n",
    "\n",
    "\n",
    "model.sum_independence_on_o = ConstraintList()\n",
    "for q_, o_, a_ in product(q, o, a):\n",
    "    model.sum_independence_on_o.add(sum([model.x[qp_, a_, q_, o_] for qp_ in q]) == sum([model.x[qp_, a_, q_, 0] for qp_ in q])) \n",
    "\n",
    "## Bellman equation constraints\n",
    "model.bellman_equation = ConstraintList()\n",
    "for q_, s_ in product(q, s):\n",
    "    model.bellman_equation.add( model.y[q_, s_] == sum([ \n",
    "                ### The 0 in this line should be o_, but the constraint means we can keep it as 0\n",
    "                sum([model.x[qp_, a_, q_, 0]  for qp_ in q]) * \\\n",
    "                reward_model[s_, a_] + \\\n",
    "                gamma * sum([\n",
    "                    state_transition_model[s_, a_, sp_] *  \\\n",
    "                    sum([\n",
    "                        observation_model[sp_, a_, o_] * \\\n",
    "                            sum([model.x[qp_, a_, q_, o_] * model.y[qp_, sp_] for qp_ in q])            \n",
    "                        for o_ in o\n",
    "                    ])\n",
    "                    for sp_ in s\n",
    "                ]) \n",
    "                for a_ in a\n",
    "            ])) \n"
   ]
  },
  {
   "cell_type": "code",
   "execution_count": 8,
   "metadata": {},
   "outputs": [
    {
     "name": "stdout",
     "output_type": "stream",
     "text": [
      "WARNING: Could not locate the 'ipopt' executable, which is required for solver\n",
      "ipopt\n"
     ]
    },
    {
     "ename": "ApplicationError",
     "evalue": "No executable found for solver 'ipopt'",
     "output_type": "error",
     "traceback": [
      "\u001b[1;31m---------------------------------------------------------------------------\u001b[0m",
      "\u001b[1;31mApplicationError\u001b[0m                          Traceback (most recent call last)",
      "\u001b[1;32mc:\\Users\\Tassili\\Downloads\\pfe malik\\QCLP pyomo.ipynb Cell 7\u001b[0m line \u001b[0;36m2\n\u001b[0;32m      <a href='vscode-notebook-cell:/c%3A/Users/Tassili/Downloads/pfe%20malik/QCLP%20pyomo.ipynb#W6sZmlsZQ%3D%3D?line=0'>1</a>\u001b[0m opt \u001b[39m=\u001b[39m SolverFactory(\u001b[39m'\u001b[39m\u001b[39mipopt\u001b[39m\u001b[39m'\u001b[39m)\n\u001b[1;32m----> <a href='vscode-notebook-cell:/c%3A/Users/Tassili/Downloads/pfe%20malik/QCLP%20pyomo.ipynb#W6sZmlsZQ%3D%3D?line=1'>2</a>\u001b[0m res \u001b[39m=\u001b[39m opt\u001b[39m.\u001b[39msolve(model) \n\u001b[0;32m      <a href='vscode-notebook-cell:/c%3A/Users/Tassili/Downloads/pfe%20malik/QCLP%20pyomo.ipynb#W6sZmlsZQ%3D%3D?line=2'>3</a>\u001b[0m \u001b[39mprint\u001b[39m(res\u001b[39m.\u001b[39mwrite())\n",
      "File \u001b[1;32mc:\\Users\\Tassili\\anaconda3\\Lib\\site-packages\\pyomo\\opt\\base\\solvers.py:533\u001b[0m, in \u001b[0;36mOptSolver.solve\u001b[1;34m(self, *args, **kwds)\u001b[0m\n\u001b[0;32m    530\u001b[0m \u001b[39mdef\u001b[39;00m \u001b[39msolve\u001b[39m(\u001b[39mself\u001b[39m, \u001b[39m*\u001b[39margs, \u001b[39m*\u001b[39m\u001b[39m*\u001b[39mkwds):\n\u001b[0;32m    531\u001b[0m \u001b[39m    \u001b[39m\u001b[39m\"\"\"Solve the problem\"\"\"\u001b[39;00m\n\u001b[1;32m--> 533\u001b[0m     \u001b[39mself\u001b[39m\u001b[39m.\u001b[39mavailable(exception_flag\u001b[39m=\u001b[39m\u001b[39mTrue\u001b[39;00m)\n\u001b[0;32m    534\u001b[0m     \u001b[39m#\u001b[39;00m\n\u001b[0;32m    535\u001b[0m     \u001b[39m# If the inputs are models, then validate that they have been\u001b[39;00m\n\u001b[0;32m    536\u001b[0m     \u001b[39m# constructed! Collect suffix names to try and import from solution.\u001b[39;00m\n\u001b[0;32m    537\u001b[0m     \u001b[39m#\u001b[39;00m\n\u001b[0;32m    538\u001b[0m     \u001b[39mfrom\u001b[39;00m \u001b[39mpyomo\u001b[39;00m\u001b[39m.\u001b[39;00m\u001b[39mcore\u001b[39;00m\u001b[39m.\u001b[39;00m\u001b[39mbase\u001b[39;00m\u001b[39m.\u001b[39;00m\u001b[39mblock\u001b[39;00m \u001b[39mimport\u001b[39;00m _BlockData\n",
      "File \u001b[1;32mc:\\Users\\Tassili\\anaconda3\\Lib\\site-packages\\pyomo\\opt\\solver\\shellcmd.py:141\u001b[0m, in \u001b[0;36mSystemCallSolver.available\u001b[1;34m(self, exception_flag)\u001b[0m\n\u001b[0;32m    139\u001b[0m     \u001b[39mif\u001b[39;00m exception_flag:\n\u001b[0;32m    140\u001b[0m         msg \u001b[39m=\u001b[39m \u001b[39m\"\u001b[39m\u001b[39mNo executable found for solver \u001b[39m\u001b[39m'\u001b[39m\u001b[39m%s\u001b[39;00m\u001b[39m'\u001b[39m\u001b[39m\"\u001b[39m\n\u001b[1;32m--> 141\u001b[0m         \u001b[39mraise\u001b[39;00m ApplicationError(msg \u001b[39m%\u001b[39m \u001b[39mself\u001b[39m\u001b[39m.\u001b[39mname)\n\u001b[0;32m    142\u001b[0m     \u001b[39mreturn\u001b[39;00m \u001b[39mFalse\u001b[39;00m\n\u001b[0;32m    143\u001b[0m \u001b[39mreturn\u001b[39;00m \u001b[39mTrue\u001b[39;00m\n",
      "\u001b[1;31mApplicationError\u001b[0m: No executable found for solver 'ipopt'"
     ]
    }
   ],
   "source": [
    "opt = SolverFactory('ipopt')\n",
    "res = opt.solve(model) \n",
    "print(res.write())"
   ]
  },
  {
   "cell_type": "code",
   "execution_count": null,
   "metadata": {},
   "outputs": [
    {
     "name": "stdout",
     "output_type": "stream",
     "text": [
      "y : Size=6, Index=y_index\n",
      "    Key    : Lower : Value               : Upper : Fixed : Stale : Domain\n",
      "    (0, 0) :  None :   45.00002554462174 :  None : False : False :  Reals\n",
      "    (0, 1) :  None :   45.00002554462178 :  None : False : False :  Reals\n",
      "    (1, 0) :  None : 0.13020315305809238 :  None : False : False :  Reals\n",
      "    (1, 1) :  None : 0.13020315305808122 :  None : False : False :  Reals\n",
      "    (2, 0) :  None :  0.1302031539904279 :  None : False : False :  Reals\n",
      "    (2, 1) :  None : 0.13020315399042792 :  None : False : False :  Reals\n",
      "None\n"
     ]
    }
   ],
   "source": [
    "print(model.y.display())"
   ]
  },
  {
   "cell_type": "code",
   "execution_count": null,
   "metadata": {},
   "outputs": [
    {
     "name": "stdout",
     "output_type": "stream",
     "text": [
      "x : Size=54, Index=x_index\n",
      "    Key          : Lower : Value                  : Upper : Fixed : Stale : Domain\n",
      "    (0, 0, 0, 0) :   0.0 :     0.5000000349083238 :   1.0 : False : False :  Reals\n",
      "    (0, 0, 0, 1) :   0.0 :     0.5000000349083238 :   1.0 : False : False :  Reals\n",
      "    (0, 0, 1, 0) :   0.0 :  4.144530954632525e-05 :   1.0 : False : False :  Reals\n",
      "    (0, 0, 1, 1) :   0.0 :  4.144530954632319e-05 :   1.0 : False : False :  Reals\n",
      "    (0, 0, 2, 0) :   0.0 :  4.144531252396397e-05 :   1.0 : False : False :  Reals\n",
      "    (0, 0, 2, 1) :   0.0 :  4.144531252396177e-05 :   1.0 : False : False :  Reals\n",
      "    (0, 1, 0, 0) :   0.0 :     0.5000000349083269 :   1.0 : False : False :  Reals\n",
      "    (0, 1, 0, 1) :   0.0 :     0.5000000349083269 :   1.0 : False : False :  Reals\n",
      "    (0, 1, 1, 0) :   0.0 :  4.144530954633088e-05 :   1.0 : False : False :  Reals\n",
      "    (0, 1, 1, 1) :   0.0 :  4.144530954619194e-05 :   1.0 : False : False :  Reals\n",
      "    (0, 1, 2, 0) :   0.0 :  4.144531252396467e-05 :   1.0 : False : False :  Reals\n",
      "    (0, 1, 2, 1) :   0.0 :   4.14453125239618e-05 :   1.0 : False : False :  Reals\n",
      "    (0, 2, 0, 0) :   0.0 :                    0.0 :   1.0 : False : False :  Reals\n",
      "    (0, 2, 0, 1) :   0.0 :                    0.0 :   1.0 : False : False :  Reals\n",
      "    (0, 2, 1, 0) :   0.0 : 4.6064510583738387e-05 :   1.0 : False : False :  Reals\n",
      "    (0, 2, 1, 1) :   0.0 : 4.6064510584011565e-05 :   1.0 : False : False :  Reals\n",
      "    (0, 2, 2, 0) :   0.0 : 4.6064513893531534e-05 :   1.0 : False : False :  Reals\n",
      "    (0, 2, 2, 1) :   0.0 :  4.606451389352059e-05 :   1.0 : False : False :  Reals\n",
      "    (1, 0, 0, 0) :   0.0 :                    0.0 :   1.0 : False : False :  Reals\n",
      "    (1, 0, 0, 1) :   0.0 :                    0.0 :   1.0 : False : False :  Reals\n",
      "    (1, 0, 1, 0) :   0.0 : 0.00041331847513405285 :   1.0 : False : False :  Reals\n",
      "    (1, 0, 1, 1) :   0.0 :  0.0004133184751340608 :   1.0 : False : False :  Reals\n",
      "    (1, 0, 2, 0) :   0.0 :   0.000413318504655852 :   1.0 : False : False :  Reals\n",
      "    (1, 0, 2, 1) :   0.0 : 0.00041331850465584893 :   1.0 : False : False :  Reals\n",
      "    (1, 1, 0, 0) :   0.0 :                    0.0 :   1.0 : False : False :  Reals\n",
      "    (1, 1, 0, 1) :   0.0 :                    0.0 :   1.0 : False : False :  Reals\n",
      "    (1, 1, 1, 0) :   0.0 : 0.00041331847513355433 :   1.0 : False : False :  Reals\n",
      "    (1, 1, 1, 1) :   0.0 :  0.0004133184751336185 :   1.0 : False : False :  Reals\n",
      "    (1, 1, 2, 0) :   0.0 : 0.00041331850465585446 :   1.0 : False : False :  Reals\n",
      "    (1, 1, 2, 1) :   0.0 : 0.00041331850465584595 :   1.0 : False : False :  Reals\n",
      "    (1, 2, 0, 0) :   0.0 :                    0.0 :   1.0 : False : False :  Reals\n",
      "    (1, 2, 0, 1) :   0.0 :                    0.0 :   1.0 : False : False :  Reals\n",
      "    (1, 2, 1, 0) :   0.0 :     0.4991089055698746 :   1.0 : False : False :  Reals\n",
      "    (1, 2, 1, 1) :   0.0 :     0.4991089051970045 :   1.0 : False : False :  Reals\n",
      "    (1, 2, 2, 0) :   0.0 :    0.49910890524166335 :   1.0 : False : False :  Reals\n",
      "    (1, 2, 2, 1) :   0.0 :    0.49910890522013124 :   1.0 : False : False :  Reals\n",
      "    (2, 0, 0, 0) :   0.0 :                    0.0 :   1.0 : False : False :  Reals\n",
      "    (2, 0, 0, 1) :   0.0 :                    0.0 :   1.0 : False : False :  Reals\n",
      "    (2, 0, 1, 0) :   0.0 :  0.0004133184750570197 :   1.0 : False : False :  Reals\n",
      "    (2, 0, 1, 1) :   0.0 :  0.0004133184750570276 :   1.0 : False : False :  Reals\n",
      "    (2, 0, 2, 0) :   0.0 : 0.00041331850457881875 :   1.0 : False : False :  Reals\n",
      "    (2, 0, 2, 1) :   0.0 : 0.00041331850457881577 :   1.0 : False : False :  Reals\n",
      "    (2, 1, 0, 0) :   0.0 :                    0.0 :   1.0 : False : False :  Reals\n",
      "    (2, 1, 0, 1) :   0.0 :                    0.0 :   1.0 : False : False :  Reals\n",
      "    (2, 1, 1, 0) :   0.0 :  0.0004133184750564967 :   1.0 : False : False :  Reals\n",
      "    (2, 1, 1, 1) :   0.0 : 0.00041331847505658535 :   1.0 : False : False :  Reals\n",
      "    (2, 1, 2, 0) :   0.0 : 0.00041331850457882125 :   1.0 : False : False :  Reals\n",
      "    (2, 1, 2, 1) :   0.0 :  0.0004133185045788246 :   1.0 : False : False :  Reals\n",
      "    (2, 2, 0, 0) :   0.0 :                    0.0 :   1.0 : False : False :  Reals\n",
      "    (2, 2, 0, 1) :   0.0 :                    0.0 :   1.0 : False : False :  Reals\n",
      "    (2, 2, 1, 0) :   0.0 :    0.49910886540006805 :   1.0 : False : False :  Reals\n",
      "    (2, 2, 1, 1) :   0.0 :     0.4991088657729378 :   1.0 : False : False :  Reals\n",
      "    (2, 2, 2, 0) :   0.0 :    0.49910886560092593 :   1.0 : False : False :  Reals\n",
      "    (2, 2, 2, 1) :   0.0 :     0.4991088656224579 :   1.0 : False : False :  Reals\n",
      "None\n"
     ]
    }
   ],
   "source": [
    "print(model.x.display())"
   ]
  },
  {
   "cell_type": "code",
   "execution_count": null,
   "metadata": {},
   "outputs": [
    {
     "name": "stdout",
     "output_type": "stream",
     "text": [
      "Obj : Size=1, Index=None, Active=True\n",
      "    Key  : Active : Value\n",
      "    None :   True : 45.000025544621764\n",
      "None\n"
     ]
    }
   ],
   "source": [
    "print(model.Obj.display())"
   ]
  }
 ],
 "metadata": {
  "kernelspec": {
   "display_name": "base",
   "language": "python",
   "name": "python3"
  },
  "language_info": {
   "codemirror_mode": {
    "name": "ipython",
    "version": 3
   },
   "file_extension": ".py",
   "mimetype": "text/x-python",
   "name": "python",
   "nbconvert_exporter": "python",
   "pygments_lexer": "ipython3",
   "version": "3.11.5"
  },
  "orig_nbformat": 4
 },
 "nbformat": 4,
 "nbformat_minor": 2
}
