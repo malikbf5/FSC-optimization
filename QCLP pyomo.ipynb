{
 "cells": [
  {
   "cell_type": "code",
   "execution_count": 19,
   "metadata": {},
   "outputs": [],
   "source": [
    "from pyomo.environ import *"
   ]
  },
  {
   "cell_type": "code",
   "execution_count": 20,
   "metadata": {},
   "outputs": [],
   "source": [
    "from itertools import product\n",
    "import numpy as np\n",
    "import random"
   ]
  },
  {
   "cell_type": "code",
   "execution_count": 21,
   "metadata": {},
   "outputs": [],
   "source": [
    "#Define POMDP parameters\n",
    "\n",
    "num_states = 2 # Number of states\n",
    "num_actions = 3 # Number of actions\n",
    "num_observations = 2 # Number of observations\n",
    "\n",
    "s = list(range(num_states))  # Heads or Tails\n",
    "a = list(range(num_actions)) # Predict Heads, Predict Tails, Observe\n",
    "o = list(range(num_observations))  # Observed Heads, Observed Tails\n",
    "\n",
    "b0 = np.array([0.5, 0.5]) # Initial distribution over states\n",
    "gamma = 0.9 # Discount factor \n",
    "\n",
    "# P(s'|s,a)\n",
    "state_transition_model = np.ones((num_states, num_actions, num_states)) / num_states\n",
    "\n",
    "# R(s,a)\n",
    "reward_model = np.zeros((num_states, num_actions))\n",
    "reward_model[0, :-1] = [10, -1] \n",
    "reward_model[1, :-1] = [-1, 10]\n",
    "\n",
    "\n",
    "# O(o|s',a)\n",
    "observation_model = np.ones((num_states, num_actions, num_observations)) / num_observations"
   ]
  },
  {
   "cell_type": "code",
   "execution_count": 22,
   "metadata": {},
   "outputs": [],
   "source": [
    "def softmax(x: np.ndarray):\n",
    "    e = np.apply_along_axis(lambda t: np.exp(t), -1, x)\n",
    "    return x / e"
   ]
  },
  {
   "cell_type": "code",
   "execution_count": 23,
   "metadata": {},
   "outputs": [],
   "source": [
    "# Finite state controller\n",
    "\n",
    "np.random.seed(0)\n",
    "\n",
    "num_nodes = 3\n",
    "q = list(range(num_nodes)) # Nodes in the FSC\n",
    "node_transition_model = np.random.random((num_nodes, num_actions, num_nodes))\n",
    "sum_over_nodes = np.linalg.norm(node_transition_model, ord=1, axis=-1, keepdims=True) # P(q'|q,a)\n",
    "node_transition_model /= sum_over_nodes\n",
    "\n",
    "# P(a|q)\n",
    "action_selection_model = np.array([\n",
    "  [1/3, 1/3, 1/3],  \n",
    "  [0.8, 0.1, 0.1],\n",
    "  [0.1, 0.8, 0.1]\n",
    "])"
   ]
  },
  {
   "cell_type": "code",
   "execution_count": 24,
   "metadata": {},
   "outputs": [],
   "source": [
    "model = ConcreteModel()\n",
    "\n",
    "\n",
    "\n",
    "model.q = RangeSet(0,len(q)-1)\n",
    "model.a = RangeSet(0,len(a)-1)\n",
    "model.o = RangeSet(0,len(o)-1)\n",
    "model.s = RangeSet(0,len(s)-1)\n",
    "\n",
    "# Variables\n",
    "## x(q', a, q, o) = P(q', a | q, o)\n",
    "model.x = Var(model.q,model.a,model.q,model.o, bounds = (0.0,1.0))\n",
    "\n",
    "## y(q, s) = V(q , s)\n",
    "model.y = Var(model.q,model.s )\n",
    "\n",
    "# Objective\n",
    "q0 = 0\n",
    "model.Obj = Objective(expr = sum([b0[s_]*model.y[q0,s_] for s_ in s]) , sense = maximize)\n",
    "\n",
    "\n",
    "# Constraints\n",
    "## Probability constraints\n",
    "model. sum_over_action_and_qp = ConstraintList()\n",
    "for q_,o_ in product(q,o):\n",
    "    model. sum_over_action_and_qp.add(sum([model.x[qp_,a_,q_,o_] for qp_,a_ in product(q,a)]) == 1) \n",
    "\n",
    "\n",
    "model.sum_independence_on_o = ConstraintList()\n",
    "for q_, o_, a_ in product(q, o, a):\n",
    "    model.sum_independence_on_o.add(sum([model.x[qp_, a_, q_, o_] for qp_ in q]) == sum([model.x[qp_, a_, q_, 0] for qp_ in q])) \n",
    "\n",
    "## Bellman equation constraints\n",
    "model.bellman_equation = ConstraintList()\n",
    "for q_, s_ in product(q, s):\n",
    "    model.bellman_equation.add( model.y[q_, s_] == sum([ \n",
    "                ### The 0 in this line should be o_, but the constraint means we can keep it as 0\n",
    "                sum([model.x[qp_, a_, q_, 0]  for qp_ in q]) * \\\n",
    "                reward_model[s_, a_] + \\\n",
    "                gamma * sum([\n",
    "                    state_transition_model[s_, a_, sp_] *  \\\n",
    "                    sum([\n",
    "                        observation_model[sp_, a_, o_] * \\\n",
    "                            sum([model.x[qp_, a_, q_, o_] * model.y[qp_, sp_] for qp_ in q])            \n",
    "                        for o_ in o\n",
    "                    ])\n",
    "                    for sp_ in s\n",
    "                ]) \n",
    "                for a_ in a\n",
    "            ])) \n"
   ]
  },
  {
   "cell_type": "code",
   "execution_count": 25,
   "metadata": {},
   "outputs": [
    {
     "name": "stdout",
     "output_type": "stream",
     "text": [
      "# ==========================================================\n",
      "# = Solver Results                                         =\n",
      "# ==========================================================\n",
      "# ----------------------------------------------------------\n",
      "#   Problem Information\n",
      "# ----------------------------------------------------------\n",
      "Problem: \n",
      "- Lower bound: -inf\n",
      "  Upper bound: inf\n",
      "  Number of objectives: 1\n",
      "  Number of constraints: 30\n",
      "  Number of variables: 60\n",
      "  Sense: unknown\n",
      "# ----------------------------------------------------------\n",
      "#   Solver Information\n",
      "# ----------------------------------------------------------\n",
      "Solver: \n",
      "- Status: ok\n",
      "  Message: Ipopt 3.11.1\\x3a Optimal Solution Found\n",
      "  Termination condition: optimal\n",
      "  Id: 0\n",
      "  Error rc: 0\n",
      "  Time: 0.16974687576293945\n",
      "# ----------------------------------------------------------\n",
      "#   Solution Information\n",
      "# ----------------------------------------------------------\n",
      "Solution: \n",
      "- number of solutions: 0\n",
      "  number of solutions displayed: 0\n",
      "None\n"
     ]
    }
   ],
   "source": [
    "opt = SolverFactory('ipopt')\n",
    "res = opt.solve(model) \n",
    "print(res.write())"
   ]
  },
  {
   "cell_type": "code",
   "execution_count": 26,
   "metadata": {},
   "outputs": [
    {
     "name": "stdout",
     "output_type": "stream",
     "text": [
      "y : Size=6, Index=y_index\n",
      "    Key    : Lower : Value               : Upper : Fixed : Stale : Domain\n",
      "    (0, 0) :  None :   45.00001902723278 :  None : False : False :  Reals\n",
      "    (0, 1) :  None :    45.0000320620108 :  None : False : False :  Reals\n",
      "    (1, 0) :  None : 0.13020315325101972 :  None : False : False :  Reals\n",
      "    (1, 1) :  None : 0.13020315325101972 :  None : False : False :  Reals\n",
      "    (2, 0) :  None : 0.13020315372775712 :  None : False : False :  Reals\n",
      "    (2, 1) :  None : 0.13020315372775712 :  None : False : False :  Reals\n",
      "None\n"
     ]
    }
   ],
   "source": [
    "print(model.y.display())"
   ]
  },
  {
   "cell_type": "code",
   "execution_count": 27,
   "metadata": {},
   "outputs": [
    {
     "name": "stdout",
     "output_type": "stream",
     "text": [
      "x : Size=54, Index=x_index\n",
      "    Key          : Lower : Value                  : Upper : Fixed : Stale : Domain\n",
      "    (0, 0, 0, 0) :   0.0 :     0.4999994424184152 :   1.0 : False : False :  Reals\n",
      "    (0, 0, 0, 1) :   0.0 :     0.4999994424184151 :   1.0 : False : False :  Reals\n",
      "    (0, 0, 1, 0) :   0.0 :  4.144531026186368e-05 :   1.0 : False : False :  Reals\n",
      "    (0, 0, 1, 1) :   0.0 : 4.1445310261861525e-05 :   1.0 : False : False :  Reals\n",
      "    (0, 0, 2, 0) :   0.0 :  4.144531178560371e-05 :   1.0 : False : False :  Reals\n",
      "    (0, 0, 2, 1) :   0.0 :  4.144531178560195e-05 :   1.0 : False : False :  Reals\n",
      "    (0, 1, 0, 0) :   0.0 :     0.5000006273982356 :   1.0 : False : False :  Reals\n",
      "    (0, 1, 0, 1) :   0.0 :     0.5000006273982356 :   1.0 : False : False :  Reals\n",
      "    (0, 1, 1, 0) :   0.0 :  4.144531026186377e-05 :   1.0 : False : False :  Reals\n",
      "    (0, 1, 1, 1) :   0.0 :  4.144531026186138e-05 :   1.0 : False : False :  Reals\n",
      "    (0, 1, 2, 0) :   0.0 :  4.144531178560371e-05 :   1.0 : False : False :  Reals\n",
      "    (0, 1, 2, 1) :   0.0 :  4.144531178560194e-05 :   1.0 : False : False :  Reals\n",
      "    (0, 2, 0, 0) :   0.0 :                    0.0 :   1.0 : False : False :  Reals\n",
      "    (0, 2, 0, 1) :   0.0 :                    0.0 :   1.0 : False : False :  Reals\n",
      "    (0, 2, 1, 0) :   0.0 :  4.606451137857662e-05 :   1.0 : False : False :  Reals\n",
      "    (0, 2, 1, 1) :   0.0 : 4.6064511378569134e-05 :   1.0 : False : False :  Reals\n",
      "    (0, 2, 2, 0) :   0.0 : 4.6064513072379624e-05 :   1.0 : False : False :  Reals\n",
      "    (0, 2, 2, 1) :   0.0 :  4.606451307237693e-05 :   1.0 : False : False :  Reals\n",
      "    (1, 0, 0, 0) :   0.0 :                    0.0 :   1.0 : False : False :  Reals\n",
      "    (1, 0, 0, 1) :   0.0 :                    0.0 :   1.0 : False : False :  Reals\n",
      "    (1, 0, 1, 0) :   0.0 :  0.0004133184822253133 :   1.0 : False : False :  Reals\n",
      "    (1, 0, 1, 1) :   0.0 :  0.0004133184822253036 :   1.0 : False : False :  Reals\n",
      "    (1, 0, 2, 0) :   0.0 :  0.0004133184973118693 :   1.0 : False : False :  Reals\n",
      "    (1, 0, 2, 1) :   0.0 : 0.00041331849731187005 :   1.0 : False : False :  Reals\n",
      "    (1, 1, 0, 0) :   0.0 :                    0.0 :   1.0 : False : False :  Reals\n",
      "    (1, 1, 0, 1) :   0.0 :                    0.0 :   1.0 : False : False :  Reals\n",
      "    (1, 1, 1, 0) :   0.0 : 0.00041331848222531234 :   1.0 : False : False :  Reals\n",
      "    (1, 1, 1, 1) :   0.0 :  0.0004133184822253041 :   1.0 : False : False :  Reals\n",
      "    (1, 1, 2, 0) :   0.0 :  0.0004133184973118693 :   1.0 : False : False :  Reals\n",
      "    (1, 1, 2, 1) :   0.0 : 0.00041331849731187005 :   1.0 : False : False :  Reals\n",
      "    (1, 2, 0, 0) :   0.0 :                    0.0 :   1.0 : False : False :  Reals\n",
      "    (1, 2, 0, 1) :   0.0 :                    0.0 :   1.0 : False : False :  Reals\n",
      "    (1, 2, 1, 0) :   0.0 :     0.4991088957404401 :   1.0 : False : False :  Reals\n",
      "    (1, 2, 1, 1) :   0.0 :    0.49910889559996224 :   1.0 : False : False :  Reals\n",
      "    (1, 2, 2, 0) :   0.0 :    0.49910889557162835 :   1.0 : False : False :  Reals\n",
      "    (1, 2, 2, 1) :   0.0 :    0.49910889548712917 :   1.0 : False : False :  Reals\n",
      "    (2, 0, 0, 0) :   0.0 :                    0.0 :   1.0 : False : False :  Reals\n",
      "    (2, 0, 0, 1) :   0.0 :                    0.0 :   1.0 : False : False :  Reals\n",
      "    (2, 0, 1, 0) :   0.0 : 0.00041331848218592403 :   1.0 : False : False :  Reals\n",
      "    (2, 0, 1, 1) :   0.0 : 0.00041331848218591433 :   1.0 : False : False :  Reals\n",
      "    (2, 0, 2, 0) :   0.0 : 0.00041331849727248006 :   1.0 : False : False :  Reals\n",
      "    (2, 0, 2, 1) :   0.0 :  0.0004133184972724807 :   1.0 : False : False :  Reals\n",
      "    (2, 1, 0, 0) :   0.0 :                    0.0 :   1.0 : False : False :  Reals\n",
      "    (2, 1, 0, 1) :   0.0 :                    0.0 :   1.0 : False : False :  Reals\n",
      "    (2, 1, 1, 0) :   0.0 : 0.00041331848218592577 :   1.0 : False : False :  Reals\n",
      "    (2, 1, 1, 1) :   0.0 :  0.0004133184821859148 :   1.0 : False : False :  Reals\n",
      "    (2, 1, 2, 0) :   0.0 : 0.00041331849727248006 :   1.0 : False : False :  Reals\n",
      "    (2, 1, 2, 1) :   0.0 :  0.0004133184972724807 :   1.0 : False : False :  Reals\n",
      "    (2, 2, 0, 0) :   0.0 :                    0.0 :   1.0 : False : False :  Reals\n",
      "    (2, 2, 0, 1) :   0.0 :                    0.0 :   1.0 : False : False :  Reals\n",
      "    (2, 2, 1, 0) :   0.0 :    0.49910887519883523 :   1.0 : False : False :  Reals\n",
      "    (2, 2, 1, 1) :   0.0 :      0.499108875339313 :   1.0 : False : False :  Reals\n",
      "    (2, 2, 2, 0) :   0.0 :    0.49910887530255943 :   1.0 : False : False :  Reals\n",
      "    (2, 2, 2, 1) :   0.0 :     0.4991088753870586 :   1.0 : False : False :  Reals\n",
      "None\n"
     ]
    }
   ],
   "source": [
    "print(model.x.display())"
   ]
  },
  {
   "cell_type": "code",
   "execution_count": 28,
   "metadata": {},
   "outputs": [
    {
     "name": "stdout",
     "output_type": "stream",
     "text": [
      "Obj : Size=1, Index=None, Active=True\n",
      "    Key  : Active : Value\n",
      "    None :   True : 45.00002554462179\n",
      "None\n"
     ]
    }
   ],
   "source": [
    "print(model.Obj.display())"
   ]
  }
 ],
 "metadata": {
  "kernelspec": {
   "display_name": "base",
   "language": "python",
   "name": "python3"
  },
  "language_info": {
   "codemirror_mode": {
    "name": "ipython",
    "version": 3
   },
   "file_extension": ".py",
   "mimetype": "text/x-python",
   "name": "python",
   "nbconvert_exporter": "python",
   "pygments_lexer": "ipython3",
   "version": "3.11.5"
  },
  "orig_nbformat": 4
 },
 "nbformat": 4,
 "nbformat_minor": 2
}
