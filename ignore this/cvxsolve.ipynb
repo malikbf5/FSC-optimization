{
 "cells": [
  {
   "cell_type": "code",
   "execution_count": 1,
   "metadata": {},
   "outputs": [],
   "source": [
    "import numpy as np\n",
    "\n",
    "#Define POMDP parameters\n",
    "s = ['Heads','Tails']  # Heads or Tails\n",
    "a = ['Predict Heads', 'Predict Tails', 'Observe'] # Predict Heads, Predict Tails, Observe\n",
    "o = ['Observed Heads', 'Observed Tails']  # Observed Heads, Observed Tails\n",
    "\n",
    "b_0 = [0.5,0.5] # initial state distribution\n",
    "\n",
    "gamma = 0.9\n",
    "state_transition_model = {\n",
    "    # probability of transition given the state Heads and actions\n",
    "    (s[0],a[0]): [0.5,0.5],\n",
    "    (s[0],a[1]): [0.5,0.5],\n",
    "    (s[0],a[2]): [0.5,0.5],\n",
    "    # probability of transition given the state Tails and actions\n",
    "    (s[1],a[0]): [0.5,0.5],\n",
    "    (s[1],a[1]): [0.5,0.5],\n",
    "    (s[1],a[2]): [0.5,0.5]\n",
    "}\n",
    "\n",
    "# Define reward model \n",
    "rewards = np.array([[10, -1, 0],  # Given Heads: Predicted Heads, Predicted Tails, Observe\n",
    "                    [-1, 10, 0]])  # Given Tails: Predicted Heads, Predicted Tails, Observe\n",
    "\n",
    "observation_model = {\n",
    "     # probability of observation given the action Predict Heads and resulting state \n",
    "    (a[0], s[0]): [0.9,0.1],\n",
    "    (a[0], s[1]): [0.1,0.9],\n",
    "     # probability of observation given the action Predict Tails and resulting state \n",
    "    (a[1], s[0]): [0.1,0.9],\n",
    "    (a[1], s[1]): [0.9,0.1],\n",
    "     # probability of observation given the action Observe and resulting state \n",
    "    (a[2], s[0]): [0.7,0.3],\n",
    "    (a[2], s[1]): [0.3,0.7]\n",
    "} \n",
    "\n"
   ]
  },
  {
   "cell_type": "code",
   "execution_count": 2,
   "metadata": {},
   "outputs": [],
   "source": [
    "# Define finite-state controller \n",
    "q = ['Start', 'PredictHeads', 'PredictTails']\n",
    "action_selection_model = {\n",
    "    q[0]: [1/3, 1/3, 1/3],  # Uniform distribution over actions\n",
    "    q[1]: [0.8, 0.1, 0.1],  # Prefer Predict Heads, but can choose any action\n",
    "    q[2]: [0.1, 0.8, 0.1]  # Prefer Predict Tails, but can choose any action\n",
    "}\n",
    "node_transition_model = {\n",
    "    # From 'Start' node\n",
    "    (q[0], a[0], o[0]): [0.1, 0.8, 0.1],  \n",
    "    (q[0], a[0], o[1]): [0.1, 0.1, 0.8],  \n",
    "    (q[0], a[1], o[0]): [0.1, 0.8, 0.1],  \n",
    "    (q[0], a[1], o[1]): [0.1, 0.1, 0.8],  \n",
    "    (q[0], a[2], o[0]): [0.1, 0.8, 0.1],  \n",
    "    (q[0], a[2], o[1]): [0.1, 0.1, 0.8],    \n",
    "    # From 'PredictHeads' node\n",
    "    (q[1], a[0], o[0]): [0.1, 0.8, 0.1],  \n",
    "    (q[1], a[0], o[1]): [0.1, 0.1, 0.8],  \n",
    "    (q[1], a[1], o[0]): [0.1, 0.8, 0.1],  \n",
    "    (q[1], a[1], o[1]): [0.1, 0.1, 0.8],  \n",
    "    (q[1], a[2], o[0]): [0.1, 0.8, 0.1],  \n",
    "    (q[1], a[2], o[1]): [0.1, 0.1, 0.8],   \n",
    "    \n",
    "    # From 'PredictTails' node\n",
    "    (q[2], a[0], o[0]): [0.1, 0.8, 0.1],  \n",
    "    (q[2], a[0], o[1]): [0.1, 0.1, 0.8],  \n",
    "    (q[2], a[1], o[0]): [0.1, 0.8, 0.1],  \n",
    "    (q[2], a[1], o[1]): [0.1, 0.1, 0.8],  \n",
    "    (q[2], a[2], o[0]): [0.1, 0.8, 0.1],  \n",
    "    (q[2], a[2], o[1]): [0.1, 0.1, 0.8]\n",
    "}"
   ]
  },
  {
   "cell_type": "code",
   "execution_count": 3,
   "metadata": {},
   "outputs": [],
   "source": [
    "import cvxpy\n",
    "\n"
   ]
  },
  {
   "cell_type": "code",
   "execution_count": null,
   "metadata": {},
   "outputs": [],
   "source": []
  },
  {
   "cell_type": "code",
   "execution_count": null,
   "metadata": {},
   "outputs": [],
   "source": []
  }
 ],
 "metadata": {
  "kernelspec": {
   "display_name": "base",
   "language": "python",
   "name": "python3"
  },
  "language_info": {
   "codemirror_mode": {
    "name": "ipython",
    "version": 3
   },
   "file_extension": ".py",
   "mimetype": "text/x-python",
   "name": "python",
   "nbconvert_exporter": "python",
   "pygments_lexer": "ipython3",
   "version": "3.9.12"
  },
  "orig_nbformat": 4
 },
 "nbformat": 4,
 "nbformat_minor": 2
}
